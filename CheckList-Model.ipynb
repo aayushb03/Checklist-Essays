{
 "cells": [
  {
   "cell_type": "code",
   "execution_count": 1,
   "id": "initial_id",
   "metadata": {
    "collapsed": true,
    "ExecuteTime": {
     "end_time": "2023-10-09T05:15:46.518440Z",
     "start_time": "2023-10-09T05:15:43.884371Z"
    }
   },
   "outputs": [],
   "source": [
    "from FakeModel import Model\n",
    "\n",
    "from textblob import TextBlob\n",
    "from checklist.editor import Editor\n",
    "from checklist.perturb import Perturb\n",
    "from checklist.test_types import MFT, INV, DIR\n",
    "from checklist.pred_wrapper import PredictorWrapper"
   ]
  },
  {
   "cell_type": "code",
   "execution_count": 2,
   "outputs": [],
   "source": [
    "editor = Editor()"
   ],
   "metadata": {
    "collapsed": false,
    "ExecuteTime": {
     "end_time": "2023-10-09T05:15:47.811016Z",
     "start_time": "2023-10-09T05:15:47.690450Z"
    }
   },
   "id": "f1bffb191b50b183"
  },
  {
   "cell_type": "code",
   "execution_count": 3,
   "outputs": [
    {
     "data": {
      "text/plain": "0.3499999999999999"
     },
     "execution_count": 3,
     "metadata": {},
     "output_type": "execute_result"
    }
   ],
   "source": [
    "TextBlob(\"Going out to eat is not a bad option\").sentiment[0]"
   ],
   "metadata": {
    "collapsed": false,
    "ExecuteTime": {
     "end_time": "2023-10-09T05:15:48.599121Z",
     "start_time": "2023-10-09T05:15:48.562704Z"
    }
   },
   "id": "ffc12239da953906"
  },
  {
   "cell_type": "markdown",
   "source": [
    "# Vocab + POS\n",
    "\n",
    "### Minimum Functionality Test\n",
    "#### Check for Correct definitions"
   ],
   "metadata": {
    "collapsed": false
   },
   "id": "86b9947b71be67b3"
  },
  {
   "cell_type": "code",
   "execution_count": 6,
   "outputs": [
    {
     "name": "stdout",
     "output_type": "stream",
     "text": [
      "{'PE': 'Insufficient', 'KE': 'Acceptable', 'LCE': 'Acceptable'}\n"
     ]
    }
   ],
   "source": [
    "model_instance = Model(\"abc\")\n",
    "res = model_instance()\n",
    "\n",
    "print(res)"
   ],
   "metadata": {
    "collapsed": false,
    "ExecuteTime": {
     "end_time": "2023-10-09T05:15:57.076257Z",
     "start_time": "2023-10-09T05:15:57.070839Z"
    }
   },
   "id": "e90672abed3a6de"
  }
 ],
 "metadata": {
  "kernelspec": {
   "display_name": "Python 3",
   "language": "python",
   "name": "python3"
  },
  "language_info": {
   "codemirror_mode": {
    "name": "ipython",
    "version": 2
   },
   "file_extension": ".py",
   "mimetype": "text/x-python",
   "name": "python",
   "nbconvert_exporter": "python",
   "pygments_lexer": "ipython2",
   "version": "2.7.6"
  }
 },
 "nbformat": 4,
 "nbformat_minor": 5
}
