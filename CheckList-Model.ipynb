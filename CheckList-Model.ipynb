{
 "cells": [
  {
   "cell_type": "code",
   "execution_count": 4,
   "outputs": [
    {
     "name": "stderr",
     "output_type": "stream",
     "text": [
      "You are using the default legacy behaviour of the <class 'transformers.models.t5.tokenization_t5.T5Tokenizer'>. If you see this, DO NOT PANIC! This is expected, and simply means that the `legacy` (previous) behavior will be used so nothing changes for you. If you want to use the new behaviour, set `legacy=True`. This should only be set if you understand what it means, and thouroughly read the reason why this was added as explained in https://github.com/huggingface/transformers/pull/24565\n"
     ]
    },
    {
     "ename": "UnboundLocalError",
     "evalue": "cannot access local variable 'sentencepiece_model_pb2' where it is not associated with a value",
     "output_type": "error",
     "traceback": [
      "\u001B[0;31m---------------------------------------------------------------------------\u001B[0m",
      "\u001B[0;31mUnboundLocalError\u001B[0m                         Traceback (most recent call last)",
      "Cell \u001B[0;32mIn[4], line 2\u001B[0m\n\u001B[1;32m      1\u001B[0m \u001B[38;5;28;01mfrom\u001B[39;00m \u001B[38;5;21;01mModels\u001B[39;00m\u001B[38;5;21;01m.\u001B[39;00m\u001B[38;5;21;01mFakeModel\u001B[39;00m \u001B[38;5;28;01mimport\u001B[39;00m Model\n\u001B[0;32m----> 2\u001B[0m \u001B[38;5;28;01mfrom\u001B[39;00m \u001B[38;5;21;01mModels\u001B[39;00m\u001B[38;5;21;01m.\u001B[39;00m\u001B[38;5;21;01mFLAN_T5\u001B[39;00m \u001B[38;5;28;01mimport\u001B[39;00m get_results\n\u001B[1;32m      4\u001B[0m \u001B[38;5;28;01mimport\u001B[39;00m \u001B[38;5;21;01mnumpy\u001B[39;00m \u001B[38;5;28;01mas\u001B[39;00m \u001B[38;5;21;01mnp\u001B[39;00m\n\u001B[1;32m      5\u001B[0m \u001B[38;5;28;01mfrom\u001B[39;00m \u001B[38;5;21;01mchecklist\u001B[39;00m\u001B[38;5;21;01m.\u001B[39;00m\u001B[38;5;21;01meditor\u001B[39;00m \u001B[38;5;28;01mimport\u001B[39;00m Editor\n",
      "File \u001B[0;32m~/School/Research/Checklist-Essays/Models/FLAN_T5.py:10\u001B[0m\n\u001B[1;32m      4\u001B[0m \u001B[38;5;28;01mimport\u001B[39;00m \u001B[38;5;21;01mtorch\u001B[39;00m\n\u001B[1;32m      6\u001B[0m \u001B[38;5;66;03m# Load data into pandas DataFrame\u001B[39;00m\n\u001B[1;32m      7\u001B[0m \u001B[38;5;66;03m# data_df = pd.read_excel(\"../StudentEssays.xlsx\")\u001B[39;00m\n\u001B[1;32m      8\u001B[0m \n\u001B[1;32m      9\u001B[0m \u001B[38;5;66;03m# Initialize T5 tokenizer and model\u001B[39;00m\n\u001B[0;32m---> 10\u001B[0m tokenizer \u001B[38;5;241m=\u001B[39m T5Tokenizer\u001B[38;5;241m.\u001B[39mfrom_pretrained(\u001B[38;5;124m\"\u001B[39m\u001B[38;5;124mgoogle/flan-t5-base\u001B[39m\u001B[38;5;124m\"\u001B[39m)\n\u001B[1;32m     11\u001B[0m model \u001B[38;5;241m=\u001B[39m T5ForConditionalGeneration\u001B[38;5;241m.\u001B[39mfrom_pretrained(\u001B[38;5;124m\"\u001B[39m\u001B[38;5;124mgoogle/flan-t5-base\u001B[39m\u001B[38;5;124m\"\u001B[39m)\n\u001B[1;32m     13\u001B[0m \u001B[38;5;66;03m# Move the model to the CUDA device if available\u001B[39;00m\n",
      "File \u001B[0;32m~/anaconda3/lib/python3.11/site-packages/transformers/tokenization_utils_base.py:1854\u001B[0m, in \u001B[0;36mPreTrainedTokenizerBase.from_pretrained\u001B[0;34m(cls, pretrained_model_name_or_path, cache_dir, force_download, local_files_only, token, revision, *init_inputs, **kwargs)\u001B[0m\n\u001B[1;32m   1851\u001B[0m     \u001B[38;5;28;01melse\u001B[39;00m:\n\u001B[1;32m   1852\u001B[0m         logger\u001B[38;5;241m.\u001B[39minfo(\u001B[38;5;124mf\u001B[39m\u001B[38;5;124m\"\u001B[39m\u001B[38;5;124mloading file \u001B[39m\u001B[38;5;132;01m{\u001B[39;00mfile_path\u001B[38;5;132;01m}\u001B[39;00m\u001B[38;5;124m from cache at \u001B[39m\u001B[38;5;132;01m{\u001B[39;00mresolved_vocab_files[file_id]\u001B[38;5;132;01m}\u001B[39;00m\u001B[38;5;124m\"\u001B[39m)\n\u001B[0;32m-> 1854\u001B[0m \u001B[38;5;28;01mreturn\u001B[39;00m \u001B[38;5;28mcls\u001B[39m\u001B[38;5;241m.\u001B[39m_from_pretrained(\n\u001B[1;32m   1855\u001B[0m     resolved_vocab_files,\n\u001B[1;32m   1856\u001B[0m     pretrained_model_name_or_path,\n\u001B[1;32m   1857\u001B[0m     init_configuration,\n\u001B[1;32m   1858\u001B[0m     \u001B[38;5;241m*\u001B[39minit_inputs,\n\u001B[1;32m   1859\u001B[0m     token\u001B[38;5;241m=\u001B[39mtoken,\n\u001B[1;32m   1860\u001B[0m     cache_dir\u001B[38;5;241m=\u001B[39mcache_dir,\n\u001B[1;32m   1861\u001B[0m     local_files_only\u001B[38;5;241m=\u001B[39mlocal_files_only,\n\u001B[1;32m   1862\u001B[0m     _commit_hash\u001B[38;5;241m=\u001B[39mcommit_hash,\n\u001B[1;32m   1863\u001B[0m     _is_local\u001B[38;5;241m=\u001B[39mis_local,\n\u001B[1;32m   1864\u001B[0m     \u001B[38;5;241m*\u001B[39m\u001B[38;5;241m*\u001B[39mkwargs,\n\u001B[1;32m   1865\u001B[0m )\n",
      "File \u001B[0;32m~/anaconda3/lib/python3.11/site-packages/transformers/tokenization_utils_base.py:2017\u001B[0m, in \u001B[0;36mPreTrainedTokenizerBase._from_pretrained\u001B[0;34m(cls, resolved_vocab_files, pretrained_model_name_or_path, init_configuration, token, cache_dir, local_files_only, _commit_hash, _is_local, *init_inputs, **kwargs)\u001B[0m\n\u001B[1;32m   2015\u001B[0m \u001B[38;5;66;03m# Instantiate tokenizer.\u001B[39;00m\n\u001B[1;32m   2016\u001B[0m \u001B[38;5;28;01mtry\u001B[39;00m:\n\u001B[0;32m-> 2017\u001B[0m     tokenizer \u001B[38;5;241m=\u001B[39m \u001B[38;5;28mcls\u001B[39m(\u001B[38;5;241m*\u001B[39minit_inputs, \u001B[38;5;241m*\u001B[39m\u001B[38;5;241m*\u001B[39minit_kwargs)\n\u001B[1;32m   2018\u001B[0m \u001B[38;5;28;01mexcept\u001B[39;00m \u001B[38;5;167;01mOSError\u001B[39;00m:\n\u001B[1;32m   2019\u001B[0m     \u001B[38;5;28;01mraise\u001B[39;00m \u001B[38;5;167;01mOSError\u001B[39;00m(\n\u001B[1;32m   2020\u001B[0m         \u001B[38;5;124m\"\u001B[39m\u001B[38;5;124mUnable to load vocabulary from file. \u001B[39m\u001B[38;5;124m\"\u001B[39m\n\u001B[1;32m   2021\u001B[0m         \u001B[38;5;124m\"\u001B[39m\u001B[38;5;124mPlease check that the provided vocabulary is accessible and not corrupted.\u001B[39m\u001B[38;5;124m\"\u001B[39m\n\u001B[1;32m   2022\u001B[0m     )\n",
      "File \u001B[0;32m~/anaconda3/lib/python3.11/site-packages/transformers/models/t5/tokenization_t5.py:194\u001B[0m, in \u001B[0;36mT5Tokenizer.__init__\u001B[0;34m(self, vocab_file, eos_token, unk_token, pad_token, extra_ids, additional_special_tokens, sp_model_kwargs, legacy, **kwargs)\u001B[0m\n\u001B[1;32m    191\u001B[0m \u001B[38;5;28mself\u001B[39m\u001B[38;5;241m.\u001B[39mvocab_file \u001B[38;5;241m=\u001B[39m vocab_file\n\u001B[1;32m    192\u001B[0m \u001B[38;5;28mself\u001B[39m\u001B[38;5;241m.\u001B[39m_extra_ids \u001B[38;5;241m=\u001B[39m extra_ids\n\u001B[0;32m--> 194\u001B[0m \u001B[38;5;28mself\u001B[39m\u001B[38;5;241m.\u001B[39msp_model \u001B[38;5;241m=\u001B[39m \u001B[38;5;28mself\u001B[39m\u001B[38;5;241m.\u001B[39mget_spm_processor()\n",
      "File \u001B[0;32m~/anaconda3/lib/python3.11/site-packages/transformers/models/t5/tokenization_t5.py:200\u001B[0m, in \u001B[0;36mT5Tokenizer.get_spm_processor\u001B[0;34m(self)\u001B[0m\n\u001B[1;32m    198\u001B[0m \u001B[38;5;28;01mwith\u001B[39;00m \u001B[38;5;28mopen\u001B[39m(\u001B[38;5;28mself\u001B[39m\u001B[38;5;241m.\u001B[39mvocab_file, \u001B[38;5;124m\"\u001B[39m\u001B[38;5;124mrb\u001B[39m\u001B[38;5;124m\"\u001B[39m) \u001B[38;5;28;01mas\u001B[39;00m f:\n\u001B[1;32m    199\u001B[0m     sp_model \u001B[38;5;241m=\u001B[39m f\u001B[38;5;241m.\u001B[39mread()\n\u001B[0;32m--> 200\u001B[0m     model_pb2 \u001B[38;5;241m=\u001B[39m import_protobuf()\n\u001B[1;32m    201\u001B[0m     model \u001B[38;5;241m=\u001B[39m model_pb2\u001B[38;5;241m.\u001B[39mModelProto\u001B[38;5;241m.\u001B[39mFromString(sp_model)\n\u001B[1;32m    202\u001B[0m     \u001B[38;5;28;01mif\u001B[39;00m \u001B[38;5;129;01mnot\u001B[39;00m \u001B[38;5;28mself\u001B[39m\u001B[38;5;241m.\u001B[39mlegacy:\n",
      "File \u001B[0;32m~/anaconda3/lib/python3.11/site-packages/transformers/convert_slow_tokenizer.py:40\u001B[0m, in \u001B[0;36mimport_protobuf\u001B[0;34m()\u001B[0m\n\u001B[1;32m     38\u001B[0m     \u001B[38;5;28;01melse\u001B[39;00m:\n\u001B[1;32m     39\u001B[0m         \u001B[38;5;28;01mfrom\u001B[39;00m \u001B[38;5;21;01mtransformers\u001B[39;00m\u001B[38;5;21;01m.\u001B[39;00m\u001B[38;5;21;01mutils\u001B[39;00m \u001B[38;5;28;01mimport\u001B[39;00m sentencepiece_model_pb2_new \u001B[38;5;28;01mas\u001B[39;00m sentencepiece_model_pb2\n\u001B[0;32m---> 40\u001B[0m \u001B[38;5;28;01mreturn\u001B[39;00m sentencepiece_model_pb2\n",
      "\u001B[0;31mUnboundLocalError\u001B[0m: cannot access local variable 'sentencepiece_model_pb2' where it is not associated with a value"
     ]
    }
   ],
   "source": [
    "from Models.FakeModel import Model\n",
    "from Models.FLAN_T5 import get_results\n",
    "\n",
    "import numpy as np\n",
    "from checklist.editor import Editor\n",
    "from checklist.perturb import Perturb\n",
    "from checklist.test_types import MFT, INV, DIR\n",
    "from checklist.pred_wrapper import PredictorWrapper"
   ],
   "metadata": {
    "collapsed": false,
    "ExecuteTime": {
     "end_time": "2023-10-22T21:08:13.747088Z",
     "start_time": "2023-10-22T21:08:10.918533Z"
    }
   },
   "id": "df32c724dadfb230"
  },
  {
   "cell_type": "code",
   "execution_count": 25,
   "outputs": [],
   "source": [
    "editor = Editor();"
   ],
   "metadata": {
    "collapsed": false,
    "ExecuteTime": {
     "end_time": "2023-10-16T02:06:28.464412Z",
     "start_time": "2023-10-16T02:06:28.357314Z"
    }
   },
   "id": "83d13a4369b5d5b6"
  },
  {
   "cell_type": "markdown",
   "source": [
    "## Example formatting for FakeModel"
   ],
   "metadata": {
    "collapsed": false
   },
   "id": "42f31abe7aaf0aad"
  },
  {
   "cell_type": "code",
   "execution_count": 26,
   "outputs": [
    {
     "name": "stdout",
     "output_type": "stream",
     "text": [
      "{'PE': 'Unacceptable', 'KE': 'Unacceptable', 'LCE': 'Unacceptable'}\n"
     ]
    }
   ],
   "source": [
    "model_instance = Model(\"abc\")\n",
    "res = model_instance()\n",
    "\n",
    "print(res)"
   ],
   "metadata": {
    "collapsed": false,
    "ExecuteTime": {
     "end_time": "2023-10-16T02:06:28.718027Z",
     "start_time": "2023-10-16T02:06:28.708537Z"
    }
   },
   "id": "55ccddc8e82178f2"
  },
  {
   "cell_type": "markdown",
   "source": [
    "## Example formatting for FLAN_T5"
   ],
   "metadata": {
    "collapsed": false
   }
  },
  {
   "cell_type": "code",
   "execution_count": 7,
   "outputs": [
    {
     "ename": "NameError",
     "evalue": "name 'get_results' is not defined",
     "output_type": "error",
     "traceback": [
      "\u001B[0;31m---------------------------------------------------------------------------\u001B[0m",
      "\u001B[0;31mNameError\u001B[0m                                 Traceback (most recent call last)",
      "Cell \u001B[0;32mIn[7], line 1\u001B[0m\n\u001B[0;32m----> 1\u001B[0m res \u001B[38;5;241m=\u001B[39m get_results(\u001B[38;5;124m\"\u001B[39m\u001B[38;5;124minput sentence\u001B[39m\u001B[38;5;124m\"\u001B[39m)\n\u001B[1;32m      3\u001B[0m \u001B[38;5;28mprint\u001B[39m(res)\n",
      "\u001B[0;31mNameError\u001B[0m: name 'get_results' is not defined"
     ]
    }
   ],
   "source": [
    "res = get_results(\"input sentence\")\n",
    "\n",
    "print(res)"
   ],
   "metadata": {
    "collapsed": false,
    "ExecuteTime": {
     "end_time": "2023-10-22T21:08:23.811013Z",
     "start_time": "2023-10-22T21:08:23.808271Z"
    }
   }
  },
  {
   "cell_type": "markdown",
   "source": [
    "## Valid Definitions"
   ],
   "metadata": {
    "collapsed": false
   },
   "id": "e543a00c0dd10ae4"
  },
  {
   "cell_type": "code",
   "execution_count": 27,
   "outputs": [],
   "source": [
    "PE_ACCEPTABLE = [\n",
    "    \"energy at rest\",\n",
    "    \"energy that a body has because of its position relative to other bodies\",\n",
    "    \"energy stored in the car at the top of the initial drop\",\n",
    "]\n",
    "PE_UNACCEPTABLE = [\n",
    "    \"energy in motion\",\n",
    "    \"energy lost as the car goes down the hill\",\n",
    "    \"opposite of kinetic energy\",\n",
    "]\n",
    "PE_INSUFFICIENT = [\n",
    "    \"4 Joules at the top of the roller coaster\",\n",
    "    \"measured in Joules\",\n",
    "    \"equal to m*h*9.8\",\n",
    "]\n",
    "\n",
    "KE_ACCEPTABLE = [\n",
    "    \"energy in motion\",\n",
    "    \"energy that the car has because it is moving\",\n",
    "    \"the work needed to accelerate the roller coaster car from rest\",\n",
    "]\n",
    "KE_UNACCEPTABLE = [\n",
    "    \"energy at rest\",\n",
    "    \"never lost nor gained as the car moves\",\n",
    "    \"the opposite of potantial energy\",\n",
    "]\n",
    "KE_INSUFFICIENT = [\n",
    "    \"4 Joules at the bottom of the roller coaster\",\n",
    "    \"measured in Joules\",\n",
    "    \"equal to .5*m*v^2\",\n",
    "]\n",
    "\n",
    "LCE_ACCEPTABLE = [\n",
    "    \"energy cannot be created or destroyed, only transformed\",\n",
    "    \"the total energy of an isolated system remains constant\",\n",
    "    \"energy can be converted from one form to another, but never created or destroyed\",\n",
    "]\n",
    "LCE_UNACCEPTABLE = [\n",
    "    \"energy can be created or destroyed, not transformed\",\n",
    "    \"the total energy of an isolated system will change\",\n",
    "]\n",
    "LCE_INSUFFICIENT = [\n",
    "    \"K1 + U1 = K2 + U2\",\n",
    "    \"potential energy transforms into kinetic energy\",\n",
    "    \"As the car goes down the hill, some energy is lost to friction as heat\",\n",
    "]\n"
   ],
   "metadata": {
    "collapsed": false,
    "ExecuteTime": {
     "end_time": "2023-10-16T02:06:29.066700Z",
     "start_time": "2023-10-16T02:06:29.058815Z"
    }
   },
   "id": "2ce9daafda966444"
  },
  {
   "cell_type": "markdown",
   "source": [
    "## Function for getting data and frequencies"
   ],
   "metadata": {
    "collapsed": false
   },
   "id": "316264aa42e0c19b"
  },
  {
   "cell_type": "code",
   "execution_count": 28,
   "outputs": [],
   "source": [
    "def getData(samples, actualLabel):\n",
    "    data = {\n",
    "        'PE':[],\n",
    "        'KE':[],\n",
    "        'LCE':[],\n",
    "    }\n",
    "    frequencies = {\n",
    "        'PE':{'Acceptable':0, 'Unacceptable':0, 'Insufficient':0, 'Not Found':0},\n",
    "        'KE':{'Acceptable':0, 'Unacceptable':0, 'Insufficient':0, 'Not Found':0},\n",
    "        'LCE':{'Acceptable':0, 'Unacceptable':0, 'Insufficient':0, 'Not Found':0},\n",
    "    }\n",
    "    fails = 0\n",
    "    for sample in samples.data:\n",
    "        d = Model(sample)()\n",
    "        label = d['PE'] if len(d['PE']) != 0 else d['KE'] if len(d['KE']) != 0 else d['LCE']\n",
    "        if label != actualLabel:\n",
    "            print(\"FAIL: \" + sample)\n",
    "            fails += 1\n",
    "        data['PE'].append(d['PE'])\n",
    "        data['KE'].append(d['KE'])\n",
    "        data['LCE'].append(d['LCE'])\n",
    "        frequencies['PE'][d['PE']] += 1\n",
    "        frequencies['KE'][d['KE']] += 1\n",
    "        frequencies['LCE'][d['LCE']] += 1\n",
    "    print(str(fails) + \" fails out of \" + str(len(samples.data)) + \" tests\")\n",
    "    return data, frequencies\n",
    "\n",
    "# def runtest(text):\n",
    "#     res = {}\n",
    "#     d = Model(text)()\n",
    "#     res['PE'] = d['PE']\n",
    "#     res['KE'] = d['PE']\n",
    "#     res['LCE'] = d['LCE']\n",
    "#     return res\n"
   ],
   "metadata": {
    "collapsed": false,
    "ExecuteTime": {
     "end_time": "2023-10-16T02:06:29.725659Z",
     "start_time": "2023-10-16T02:06:29.719737Z"
    }
   },
   "id": "2756ff837059356d"
  },
  {
   "cell_type": "markdown",
   "source": [
    "# **Vocab + POS**\n",
    "\n",
    "## Minimum Functionality Tests\n",
    "### Check for correct definitions\n",
    "Should return acceptable"
   ],
   "metadata": {
    "collapsed": false
   },
   "id": "26b6f93956a668bb"
  },
  {
   "cell_type": "code",
   "execution_count": 29,
   "outputs": [
    {
     "name": "stdout",
     "output_type": "stream",
     "text": [
      "FAIL: Potential energy is energy at rest\n",
      "FAIL: Potential energy is energy that a body has because of its position relative to other bodies\n",
      "FAIL: Potential energy is energy stored in the car at the top of the initial drop\n",
      "FAIL: Potential energy is energy at rest\n",
      "FAIL: Potential energy is energy stored in the car at the top of the initial drop\n",
      "FAIL: Kinetic energy is the work needed to accelerate the roller coaster car from rest\n",
      "FAIL: Kinetic energy is energy that the car has because it is moving\n",
      "FAIL: The Law of Conservation of energy states energy can be converted from one form to another, but never created or destroyed.\n",
      "FAIL: The Law of Conservation of energy states the total energy of an isolated system remains constant.\n",
      "FAIL: The Law of Conservation of energy states energy cannot be created or destroyed, only transformed.\n",
      "10fails out of 15tests\n"
     ]
    }
   ],
   "source": [
    "samples = editor.template(\n",
    "    \"Potential energy is {pe_acceptable}\", \n",
    "    pe_acceptable=PE_ACCEPTABLE, nsamples=5, labels=0\n",
    ")\n",
    "samples += editor.template(\n",
    "    \"Kinetic energy is {ke_acceptable}\",\n",
    "    ke_acceptable=KE_ACCEPTABLE, nsamples=5, labels=0\n",
    ")\n",
    "samples += editor.template(\n",
    "    \"The Law of Conservation of energy states {lce_acceptable}.\",\n",
    "    lce_acceptable=LCE_ACCEPTABLE, nsamples=5, labels=0\n",
    ")\n",
    "\n",
    "data, frequencies = getData(samples, \"Acceptable\")\n",
    "\n",
    "# data, freqs = getData(samples)\n",
    "# test = MFT(samples.data, labels=samples.labels, name=\"Test vocab + POS\", capability=\"Vocab + POS\")\n",
    "# test.run()\n",
    "# test.summary()"
   ],
   "metadata": {
    "collapsed": false,
    "ExecuteTime": {
     "end_time": "2023-10-16T02:06:30.097512Z",
     "start_time": "2023-10-16T02:06:30.087211Z"
    }
   },
   "id": "8eb7dcc5a7653bd3"
  },
  {
   "cell_type": "markdown",
   "source": [
    "### Check for incorrect definitions\n",
    "should return unacceptable"
   ],
   "metadata": {
    "collapsed": false
   },
   "id": "4ac08040e7d3582b"
  },
  {
   "cell_type": "code",
   "execution_count": 30,
   "outputs": [
    {
     "name": "stdout",
     "output_type": "stream",
     "text": [
      "FAIL: Potential energy is energy in motion\n",
      "FAIL: Potential energy is opposite of kinetic energy\n",
      "FAIL: Potential energy is energy in motion\n",
      "FAIL: Potential energy is energy lost as the car goes down the hill\n",
      "FAIL: Kinetic energy is the opposite of potantial energy\n",
      "FAIL: Kinetic energy is energy at rest\n",
      "FAIL: The Law of Conservation of energy states the total energy of an isolated system will change.\n",
      "FAIL: The Law of Conservation of energy states the total energy of an isolated system will change.\n",
      "FAIL: The Law of Conservation of energy states the total energy of an isolated system will change.\n",
      "9fails out of 15tests\n"
     ]
    }
   ],
   "source": [
    "samples = editor.template(\n",
    "    \"Potential energy is {pe_unacceptable}\",\n",
    "    pe_unacceptable=PE_UNACCEPTABLE, nsamples=5, labels=0\n",
    ")\n",
    "samples += editor.template(\n",
    "    \"Kinetic energy is {ke_unacceptable}\",\n",
    "    ke_unacceptable=KE_UNACCEPTABLE, nsamples=5, labels=0\n",
    ")\n",
    "samples += editor.template(\n",
    "    \"The Law of Conservation of energy states {lce_unacceptable}.\",\n",
    "    lce_unacceptable=LCE_UNACCEPTABLE, nsamples=5, labels=0\n",
    ")\n",
    "\n",
    "data, freqs = getData(samples, \"Unacceptable\")"
   ],
   "metadata": {
    "collapsed": false,
    "ExecuteTime": {
     "end_time": "2023-10-16T02:06:30.453705Z",
     "start_time": "2023-10-16T02:06:30.447378Z"
    }
   },
   "id": "8660cf26eaebe45f"
  },
  {
   "cell_type": "markdown",
   "source": [
    "### Check insufficient definitions\n",
    "should return insufficient"
   ],
   "metadata": {
    "collapsed": false
   },
   "id": "41633acc20c4ab92"
  },
  {
   "cell_type": "code",
   "execution_count": 32,
   "outputs": [
    {
     "name": "stdout",
     "output_type": "stream",
     "text": [
      "FAIL: Potential energy is measured in Joules\n",
      "FAIL: Potential energy is 4 Joules at the top of the roller coaster\n",
      "FAIL: Potential energy is measured in Joules\n",
      "FAIL: Potential energy is equal to m*h*9.8\n",
      "FAIL: Kinetic energy is measured in Joules\n",
      "FAIL: Kinetic energy is 4 Joules at the bottom of the roller coaster\n",
      "FAIL: The Law of Conservation of energy states As the car goes down the hill, some energy is lost to friction as heat.\n",
      "FAIL: The Law of Conservation of energy states potential energy transforms into kinetic energy.\n",
      "FAIL: The Law of Conservation of energy states potential energy transforms into kinetic energy.\n",
      "FAIL: The Law of Conservation of energy states As the car goes down the hill, some energy is lost to friction as heat.\n",
      "10fails out of 15tests\n"
     ]
    }
   ],
   "source": [
    "samples = editor.template(\n",
    "    \"Potential energy is {pe_insufficient}\",\n",
    "    pe_insufficient=PE_INSUFFICIENT, nsamples=5, labels=0\n",
    ")\n",
    "samples += editor.template(\n",
    "    \"Kinetic energy is {ke_insufficient}\",\n",
    "    ke_insufficient=KE_INSUFFICIENT, nsamples=5, labels=0\n",
    ")\n",
    "samples += editor.template(\n",
    "    \"The Law of Conservation of energy states {lce_insufficient}.\",\n",
    "    lce_insufficient=LCE_INSUFFICIENT, nsamples=5, labels=0\n",
    ")\n",
    "\n",
    "data, freqs = getData(samples, \"Insufficient\")"
   ],
   "metadata": {
    "collapsed": false,
    "ExecuteTime": {
     "end_time": "2023-10-16T02:06:37.988087Z",
     "start_time": "2023-10-16T02:06:37.976481Z"
    }
   },
   "id": "fd9a389d3b29ad9e"
  },
  {
   "cell_type": "markdown",
   "source": [
    "## Directional Tests\n",
    "\n",
    "### Correct definitions followed by incorrect definition\n",
    "correctness should not go up"
   ],
   "metadata": {
    "collapsed": false
   },
   "id": "2ba286361caabaed"
  },
  {
   "cell_type": "code",
   "execution_count": 33,
   "outputs": [
    {
     "ename": "TypeError",
     "evalue": "getData() missing 1 required positional argument: 'actualLabel'",
     "output_type": "error",
     "traceback": [
      "\u001B[0;31m---------------------------------------------------------------------------\u001B[0m",
      "\u001B[0;31mTypeError\u001B[0m                                 Traceback (most recent call last)",
      "Cell \u001B[0;32mIn[33], line 9\u001B[0m\n\u001B[1;32m      1\u001B[0m samples \u001B[38;5;241m=\u001B[39m editor\u001B[38;5;241m.\u001B[39mtemplate(\n\u001B[1;32m      2\u001B[0m     \u001B[38;5;124m\"\u001B[39m\u001B[38;5;124mPotential energy is \u001B[39m\u001B[38;5;132;01m{pe_acceptable}\u001B[39;00m\u001B[38;5;124m. potential energy is \u001B[39m\u001B[38;5;132;01m{pe_unacceptable}\u001B[39;00m\u001B[38;5;124m. Kinetic energy is \u001B[39m\u001B[38;5;132;01m{ke_acceptable}\u001B[39;00m\u001B[38;5;124m. kinetic energy is \u001B[39m\u001B[38;5;132;01m{ke_unacceptable}\u001B[39;00m\u001B[38;5;124m. The Law of Conservation of energy states \u001B[39m\u001B[38;5;132;01m{lce_acceptable}\u001B[39;00m\u001B[38;5;124m.\u001B[39m\u001B[38;5;124m\"\u001B[39m\n\u001B[1;32m      3\u001B[0m     \u001B[38;5;124m\"\u001B[39m\u001B[38;5;124mThe Law of Conservation of energy states \u001B[39m\u001B[38;5;132;01m{lce_unacceptable}\u001B[39;00m\u001B[38;5;124m\"\u001B[39m,\n\u001B[0;32m   (...)\u001B[0m\n\u001B[1;32m      6\u001B[0m     nsamples\u001B[38;5;241m=\u001B[39m\u001B[38;5;241m50\u001B[39m, labels\u001B[38;5;241m=\u001B[39m\u001B[38;5;241m0\u001B[39m\n\u001B[1;32m      7\u001B[0m )\n\u001B[0;32m----> 9\u001B[0m data, freqs \u001B[38;5;241m=\u001B[39m getData(samples)\n\u001B[1;32m     10\u001B[0m \u001B[38;5;28mprint\u001B[39m (samples\u001B[38;5;241m.\u001B[39mdata)\n",
      "\u001B[0;31mTypeError\u001B[0m: getData() missing 1 required positional argument: 'actualLabel'"
     ]
    }
   ],
   "source": [
    "samples = editor.template(\n",
    "    \"Potential energy is {pe_acceptable}. potential energy is {pe_unacceptable}. Kinetic energy is {ke_acceptable}. kinetic energy is {ke_unacceptable}. The Law of Conservation of energy states {lce_acceptable}.\"\n",
    "    \"The Law of Conservation of energy states {lce_unacceptable}\",\n",
    "    pe_acceptable=PE_ACCEPTABLE, ke_acceptable=KE_ACCEPTABLE, lce_acceptable=LCE_ACCEPTABLE,\n",
    "    pe_unacceptable=PE_UNACCEPTABLE, ke_unacceptable=KE_UNACCEPTABLE, lce_unacceptable=LCE_UNACCEPTABLE,\n",
    "    nsamples=50, labels=0\n",
    ")\n",
    "\n",
    "data, freqs = getData(samples)\n",
    "print (samples.data)"
   ],
   "metadata": {
    "collapsed": false,
    "ExecuteTime": {
     "end_time": "2023-10-16T02:06:39.994907Z",
     "start_time": "2023-10-16T02:06:39.980028Z"
    }
   },
   "id": "da6509b1ae653c3f"
  },
  {
   "cell_type": "markdown",
   "source": [
    "### Incorrect Definition followed by correct definition\n",
    "correctness should not go down"
   ],
   "metadata": {
    "collapsed": false
   },
   "id": "d2ed8ca72905cc93"
  },
  {
   "cell_type": "code",
   "execution_count": 34,
   "outputs": [
    {
     "ename": "TypeError",
     "evalue": "getData() missing 1 required positional argument: 'actualLabel'",
     "output_type": "error",
     "traceback": [
      "\u001B[0;31m---------------------------------------------------------------------------\u001B[0m",
      "\u001B[0;31mTypeError\u001B[0m                                 Traceback (most recent call last)",
      "Cell \u001B[0;32mIn[34], line 11\u001B[0m\n\u001B[1;32m      1\u001B[0m \u001B[38;5;66;03m# code\u001B[39;00m\n\u001B[1;32m      2\u001B[0m samples \u001B[38;5;241m=\u001B[39m editor\u001B[38;5;241m.\u001B[39mtemplate(\n\u001B[1;32m      3\u001B[0m     \u001B[38;5;124m\"\u001B[39m\u001B[38;5;124mPotential energy is \u001B[39m\u001B[38;5;132;01m{pe_unacceptable}\u001B[39;00m\u001B[38;5;124m. Potential energy is \u001B[39m\u001B[38;5;132;01m{pe_acceptable}\u001B[39;00m\u001B[38;5;124m. Kinetic energy is \u001B[39m\u001B[38;5;132;01m{ke_unacceptable}\u001B[39;00m\u001B[38;5;124m. Kinetic energy is \u001B[39m\u001B[38;5;132;01m{ke_acceptable}\u001B[39;00m\u001B[38;5;124m. The Law of Conservation of energy states \u001B[39m\u001B[38;5;132;01m{lce_unacceptable}\u001B[39;00m\u001B[38;5;124m.\u001B[39m\u001B[38;5;124m\"\u001B[39m\n\u001B[1;32m      4\u001B[0m     \u001B[38;5;124m\"\u001B[39m\u001B[38;5;124mThe Law of Conservation of energy states \u001B[39m\u001B[38;5;132;01m{lce_acceptable}\u001B[39;00m\u001B[38;5;124m\"\u001B[39m,\n\u001B[0;32m   (...)\u001B[0m\n\u001B[1;32m      7\u001B[0m     nsamples\u001B[38;5;241m=\u001B[39m\u001B[38;5;241m50\u001B[39m, labels\u001B[38;5;241m=\u001B[39m\u001B[38;5;241m0\u001B[39m\n\u001B[1;32m      8\u001B[0m )\n\u001B[0;32m---> 11\u001B[0m data, freqs \u001B[38;5;241m=\u001B[39m getData(samples)\n",
      "\u001B[0;31mTypeError\u001B[0m: getData() missing 1 required positional argument: 'actualLabel'"
     ]
    }
   ],
   "source": [
    "# code\n",
    "samples = editor.template(\n",
    "    \"Potential energy is {pe_unacceptable}. Potential energy is {pe_acceptable}. Kinetic energy is {ke_unacceptable}. Kinetic energy is {ke_acceptable}. The Law of Conservation of energy states {lce_unacceptable}.\"\n",
    "    \"The Law of Conservation of energy states {lce_acceptable}\",\n",
    "    pe_acceptable=PE_ACCEPTABLE, ke_acceptable=KE_ACCEPTABLE, lce_acceptable=LCE_ACCEPTABLE,\n",
    "    pe_unacceptable=PE_UNACCEPTABLE, ke_unacceptable=KE_UNACCEPTABLE, lce_unacceptable=LCE_UNACCEPTABLE,\n",
    "    nsamples=50, labels=0\n",
    ")\n",
    "\n",
    "\n",
    "data, freqs = getData(samples)"
   ],
   "metadata": {
    "collapsed": false,
    "ExecuteTime": {
     "end_time": "2023-10-16T02:06:40.987821Z",
     "start_time": "2023-10-16T02:06:40.973583Z"
    }
   },
   "id": "989899741afb0f9a"
  },
  {
   "cell_type": "markdown",
   "source": [
    "### Insufficient definition followed by correct definition\n",
    "Correctness should not go down"
   ],
   "metadata": {
    "collapsed": false
   },
   "id": "1ab3f4e8a0fe33b1"
  },
  {
   "cell_type": "code",
   "execution_count": 35,
   "outputs": [
    {
     "ename": "TypeError",
     "evalue": "getData() missing 1 required positional argument: 'actualLabel'",
     "output_type": "error",
     "traceback": [
      "\u001B[0;31m---------------------------------------------------------------------------\u001B[0m",
      "\u001B[0;31mTypeError\u001B[0m                                 Traceback (most recent call last)",
      "Cell \u001B[0;32mIn[35], line 9\u001B[0m\n\u001B[1;32m      1\u001B[0m samples \u001B[38;5;241m=\u001B[39m editor\u001B[38;5;241m.\u001B[39mtemplate(\n\u001B[1;32m      2\u001B[0m     \u001B[38;5;124m\"\u001B[39m\u001B[38;5;124mPotential energy is \u001B[39m\u001B[38;5;132;01m{pe_insufficient}\u001B[39;00m\u001B[38;5;124m. Potential energy is \u001B[39m\u001B[38;5;132;01m{pe_acceptable}\u001B[39;00m\u001B[38;5;124m. Kinetic energy is \u001B[39m\u001B[38;5;132;01m{ke_insufficient}\u001B[39;00m\u001B[38;5;124m. Kinetic energy is \u001B[39m\u001B[38;5;132;01m{ke_acceptable}\u001B[39;00m\u001B[38;5;124m. The Law of Conservation of energy states \u001B[39m\u001B[38;5;132;01m{lce_insufficient}\u001B[39;00m\u001B[38;5;124m.\u001B[39m\u001B[38;5;124m\"\u001B[39m\n\u001B[1;32m      3\u001B[0m     \u001B[38;5;124m\"\u001B[39m\u001B[38;5;124mThe Law of Conservation of energy states \u001B[39m\u001B[38;5;132;01m{lce_acceptable}\u001B[39;00m\u001B[38;5;124m\"\u001B[39m,\n\u001B[0;32m   (...)\u001B[0m\n\u001B[1;32m      6\u001B[0m     nsamples\u001B[38;5;241m=\u001B[39m\u001B[38;5;241m50\u001B[39m, labels\u001B[38;5;241m=\u001B[39m\u001B[38;5;241m0\u001B[39m\n\u001B[1;32m      7\u001B[0m )\n\u001B[0;32m----> 9\u001B[0m data, freqs \u001B[38;5;241m=\u001B[39m getData(samples)\n",
      "\u001B[0;31mTypeError\u001B[0m: getData() missing 1 required positional argument: 'actualLabel'"
     ]
    }
   ],
   "source": [
    "samples = editor.template(\n",
    "    \"Potential energy is {pe_insufficient}. Potential energy is {pe_acceptable}. Kinetic energy is {ke_insufficient}. Kinetic energy is {ke_acceptable}. The Law of Conservation of energy states {lce_insufficient}.\"\n",
    "    \"The Law of Conservation of energy states {lce_acceptable}\",\n",
    "    pe_acceptable=PE_ACCEPTABLE, ke_acceptable=KE_ACCEPTABLE, lce_acceptable=LCE_ACCEPTABLE,\n",
    "    pe_insufficient=PE_INSUFFICIENT, ke_insufficient=KE_INSUFFICIENT, lce_insufficient=LCE_INSUFFICIENT,\n",
    "    nsamples=50, labels=0\n",
    ")\n",
    "\n",
    "data, freqs = getData(samples, \"Acceptable\")"
   ],
   "metadata": {
    "collapsed": false,
    "ExecuteTime": {
     "end_time": "2023-10-16T02:06:41.870249Z",
     "start_time": "2023-10-16T02:06:41.858826Z"
    }
   },
   "id": "3c3c4d79e3a0f5d"
  },
  {
   "cell_type": "markdown",
   "source": [
    "### Insufficient definition followed by incorrect definition\n",
    "Should result in Acceptable"
   ],
   "metadata": {
    "collapsed": false
   },
   "id": "276f7a64598a9f88"
  },
  {
   "cell_type": "code",
   "execution_count": null,
   "outputs": [],
   "source": [
    "samples = editor.template(\n",
    "    \"Potential energy is {pe_insufficient}. Potential energy is {pe_unacceptable}. Kinetic energy is {ke_insufficient}. Kinetic energy is {ke_unacceptable}. The Law of Conservation of energy states {lce_insufficient}.\"\n",
    "    \"The Law of Conservation of energy states {lce_unacceptable}\",\n",
    "    pe_unacceptable=PE_UNACCEPTABLE, ke_unacceptable=KE_UNACCEPTABLE, lce_unacceptable=LCE_UNACCEPTABLE,\n",
    "    pe_insufficient=PE_INSUFFICIENT, ke_insufficient=KE_INSUFFICIENT, lce_insufficient=LCE_INSUFFICIENT,\n",
    "    nsamples=50, labels=0\n",
    ")\n",
    "\n",
    "data, freqs = getData(samples, \"Acceptable\")\n"
   ],
   "metadata": {
    "collapsed": false
   },
   "id": "7b675092d6c6ef69"
  },
  {
   "cell_type": "markdown",
   "source": [
    "# Negation\n",
    "\n",
    "## MFTs"
   ],
   "metadata": {
    "collapsed": false
   },
   "id": "97470dbd46d5f73d"
  },
  {
   "cell_type": "markdown",
   "source": [
    "### Negated correct definition\n",
    "Should return unacceptable"
   ],
   "metadata": {
    "collapsed": false
   },
   "id": "ce344ed80217b848"
  },
  {
   "cell_type": "code",
   "execution_count": 36,
   "outputs": [
    {
     "name": "stdout",
     "output_type": "stream",
     "text": [
      "FAIL: Potential energy is not energy that a body has because of its position relative to other bodies\n",
      "FAIL: Potential energy is not energy at rest\n",
      "FAIL: Potential energy is not energy stored in the car at the top of the initial drop\n",
      "FAIL: Potential energy is not energy at rest\n",
      "FAIL: Kinetic energy is not energy that the car has because it is moving\n",
      "FAIL: Kinetic energy is not the work needed to accelerate the roller coaster car from rest\n",
      "FAIL: Kinetic energy is not the work needed to accelerate the roller coaster car from rest\n",
      "FAIL: Kinetic energy is not the work needed to accelerate the roller coaster car from rest\n",
      "FAIL: The Law of Conservation of energy does not state the total energy of an isolated system remains constant.\n",
      "FAIL: The Law of Conservation of energy does not state the total energy of an isolated system remains constant.\n",
      "FAIL: The Law of Conservation of energy does not state the total energy of an isolated system remains constant.\n",
      "11fails out of 15tests\n"
     ]
    }
   ],
   "source": [
    "samples = editor.template(\n",
    "    \"Potential energy is not {pe_acceptable}\",\n",
    "    pe_acceptable=PE_ACCEPTABLE, nsamples=5, labels=0\n",
    ")\n",
    "samples += editor.template(\n",
    "    \"Kinetic energy is not {ke_acceptable}\",\n",
    "    ke_acceptable=KE_ACCEPTABLE, nsamples=5, labels=0\n",
    ")\n",
    "samples += editor.template(\n",
    "    \"The Law of Conservation of energy does not state {lce_acceptable}.\",\n",
    "    lce_acceptable=LCE_ACCEPTABLE, nsamples=5, labels=0\n",
    ")\n",
    "\n",
    "data, frequencies = getData(samples, \"Unacceptable\")\n"
   ],
   "metadata": {
    "collapsed": false,
    "ExecuteTime": {
     "end_time": "2023-10-16T02:07:05.550395Z",
     "start_time": "2023-10-16T02:07:05.538620Z"
    }
   },
   "id": "dca15f624a3cddc"
  },
  {
   "cell_type": "markdown",
   "source": [
    "### Negation of incorrect definition\n",
    "Should return insufficient"
   ],
   "metadata": {
    "collapsed": false
   },
   "id": "bbfb2f9e0572072a"
  },
  {
   "cell_type": "code",
   "execution_count": null,
   "outputs": [],
   "source": [
    "samples = editor.template(\n",
    "    \"Potential energy is not {pe_unacceptable}\",\n",
    "    pe_unacceptable=PE_UNACCEPTABLE, nsamples=5, labels=0\n",
    ")\n",
    "samples += editor.template(\n",
    "    \"Kinetic energy is not {ke_unacceptable}\",\n",
    "    ke_unacceptable=KE_UNACCEPTABLE, nsamples=5, labels=0\n",
    ")\n",
    "samples += editor.template(\n",
    "    \"The Law of Conservation of energy does not state {lce_unacceptable}.\",\n",
    "    lce_unacceptable=LCE_UNACCEPTABLE, nsamples=5, labels=0\n",
    ")\n",
    "\n",
    "data, frequencies = getData(samples, \"Insufficient\")"
   ],
   "metadata": {
    "collapsed": false
   },
   "id": "a17adfc87faeca0c"
  },
  {
   "cell_type": "markdown",
   "source": [
    "### Negation of insufficient\n",
    "Should return insufficient"
   ],
   "metadata": {
    "collapsed": false
   },
   "id": "89f60be4725dcadc"
  },
  {
   "cell_type": "code",
   "execution_count": null,
   "outputs": [],
   "source": [
    "samples = editor.template(\n",
    "    \"Potential energy is not {pe_insufficient}\",\n",
    "    pe_insufficient=PE_INSUFFICIENT, nsamples=5, labels=0\n",
    ")\n",
    "samples += editor.template(\n",
    "    \"Kinetic energy is not {ke_insufficient}\",\n",
    "    ke_insufficient=KE_INSUFFICIENT, nsamples=5, labels=0\n",
    ")\n",
    "samples += editor.template(\n",
    "    \"The Law of Conservation of energy does not state {lce_insufficient}.\",\n",
    "    lce_insufficient=LCE_INSUFFICIENT, nsamples=5, labels=0\n",
    ")\n",
    "\n",
    "data, frequencies = getData(samples, \"Insufficient\")\n"
   ],
   "metadata": {
    "collapsed": false
   },
   "id": "6556105e219eaff4"
  },
  {
   "cell_type": "markdown",
   "source": [
    "# Robustness\n",
    "\n",
    "## INV"
   ],
   "metadata": {
    "collapsed": false
   },
   "id": "c241e6cb1a490c1b"
  },
  {
   "cell_type": "markdown",
   "source": [
    "### Misspelling of words\n",
    "Should return the same value"
   ],
   "metadata": {
    "collapsed": false
   },
   "id": "5a7fbb4021d2dbaa"
  },
  {
   "cell_type": "markdown",
   "source": [
    "#### Correct definitions"
   ],
   "metadata": {
    "collapsed": false
   },
   "id": "6ff768fc8a6764a8"
  },
  {
   "cell_type": "code",
   "execution_count": null,
   "outputs": [],
   "source": [
    "PE_TYPO_CORRECT = [\n",
    "    \"energy that body has becuse of its posiion relative to other bdies.\"\n",
    "    \"energy store in te car at the tp of the initl drp.\"\n",
    "]\n",
    "KE_TYPO_CORRECT = [\n",
    "    \"Kinetic enery is energy tht the car hs bcase i is movng.\"\n",
    "    \"Kinetic ergy is the wrk neded to acelerate the rolercoaser car from rest.\"\n",
    "]\n",
    "LCE_TYPO_CORRECT = [\n",
    "    \"that energy canot be create or destroy, ony transfomed.\"\n",
    "    \"the totl energy of an isolated systm remain constnt.\"\n",
    "]\n",
    "\n",
    "samples = editor.template(\n",
    "    \"Potential energy is {pe_typo_correct}\",\n",
    "    pe_typo_correct=PE_TYPO_CORRECT, nsamples=5, labels=0\n",
    ")\n",
    "samples += editor.template(\n",
    "    \"Kinetic energy is {ke_typo_correct}\",\n",
    "    ke_typo_correct=KE_TYPO_CORRECT, nsamples=5, labels=0\n",
    ")\n",
    "samples += editor.template(\n",
    "    \"The Law of Conservation of energy states {lce_typo_correct}.\",\n",
    "    lce_typo_correct=LCE_TYPO_CORRECT, nsamples=5, labels=0\n",
    ")\n",
    "\n",
    "data, freqs = getData(samples, \"Insufficient\")"
   ],
   "metadata": {
    "collapsed": false
   },
   "id": "ea674b207f29e707"
  },
  {
   "cell_type": "markdown",
   "source": [
    "#### Incorrect definitions"
   ],
   "metadata": {
    "collapsed": false
   },
   "id": "f52c65762ae53fd7"
  },
  {
   "cell_type": "code",
   "execution_count": 37,
   "outputs": [
    {
     "name": "stdout",
     "output_type": "stream",
     "text": [
      "FAIL: Potential energy is energy that body has becuse of its posiion relative to other bdies.energy store in te car at the tp of the initl drp.\n",
      "FAIL: Potential energy is energy that body has becuse of its posiion relative to other bdies.energy store in te car at the tp of the initl drp.\n",
      "FAIL: Potential energy is energy that body has becuse of its posiion relative to other bdies.energy store in te car at the tp of the initl drp.\n",
      "FAIL: Kinetic energy is Kinetic enery is energy tht the car hs bcase i is movng.Kinetic ergy is the wrk neded to acelerate the rolercoaser car from rest.\n",
      "FAIL: Kinetic energy is Kinetic enery is energy tht the car hs bcase i is movng.Kinetic ergy is the wrk neded to acelerate the rolercoaser car from rest.\n",
      "FAIL: Kinetic energy is Kinetic enery is energy tht the car hs bcase i is movng.Kinetic ergy is the wrk neded to acelerate the rolercoaser car from rest.\n",
      "FAIL: Kinetic energy is Kinetic enery is energy tht the car hs bcase i is movng.Kinetic ergy is the wrk neded to acelerate the rolercoaser car from rest.\n",
      "FAIL: The Law of Conservation of energy states that energy canot be create or destroy, ony transfomed.the totl energy of an isolated systm remain constnt..\n",
      "FAIL: The Law of Conservation of energy states that energy canot be create or destroy, ony transfomed.the totl energy of an isolated systm remain constnt..\n",
      "FAIL: The Law of Conservation of energy states that energy canot be create or destroy, ony transfomed.the totl energy of an isolated systm remain constnt..\n",
      "FAIL: The Law of Conservation of energy states that energy canot be create or destroy, ony transfomed.the totl energy of an isolated systm remain constnt..\n",
      "FAIL: The Law of Conservation of energy states that energy canot be create or destroy, ony transfomed.the totl energy of an isolated systm remain constnt..\n",
      "12fails out of 15tests\n"
     ]
    }
   ],
   "source": [
    "PE_TYPO_INCORRECT = [\n",
    "    \"Potential energy i energy in moton.\",\n",
    "    \"Potentia energy is the energy lose as th car go down the hil.\"\n",
    "]\n",
    "KE_TYPO_INCORRECT = [\n",
    "    \"Kinetic enery is energy tht the car hs bcase i is movng.\",\n",
    "    \"Kinetic ergy is the wrk neded to acelerate the rolercoaser car from rest.\",\n",
    "\n",
    "]\n",
    "LCE_TYPO_INCORRECT = [\n",
    "    \"LCE says that energy canot be create or destroy, ony transfomed.\",\n",
    "    \"LCE state the totl energy of an isolated systm remain constnt.\",\n",
    "]\n",
    "\n",
    "samples = editor.template(\n",
    "    \"Potential energy is {pe_typo_incorrect}\",\n",
    "    pe_typo_incorrect=PE_TYPO_INCORRECT, nsamples=5, labels=0\n",
    ")\n",
    "samples += editor.template(\n",
    "    \"Kinetic energy is {ke_typo_incorrect}\",\n",
    "    ke_typo_incorrect=KE_TYPO_INCORRECT, nsamples=5, labels=0\n",
    ")\n",
    "samples += editor.template(\n",
    "    \"The Law of Conservation of energy states {lce_typo_incorrect}.\",\n",
    "    lce_typo_incorrect=LCE_TYPO_INCORRECT, nsamples=5, labels=0\n",
    ")\n",
    "\n",
    "data, freqs = getData(samples, \"Insufficient\")\n"
   ],
   "metadata": {
    "collapsed": false,
    "ExecuteTime": {
     "end_time": "2023-10-16T02:20:28.935295Z",
     "start_time": "2023-10-16T02:20:28.901900Z"
    }
   },
   "id": "ebb56d47f57f470f"
  },
  {
   "cell_type": "markdown",
   "source": [
    "#### Insufficient definitions"
   ],
   "metadata": {
    "collapsed": false
   },
   "id": "d150c74046ed66e2"
  },
  {
   "cell_type": "code",
   "execution_count": 38,
   "outputs": [
    {
     "name": "stdout",
     "output_type": "stream",
     "text": [
      "FAIL: Potential energy is The potentia energ at the top of te rollercoaer is 4.9 juls.\n",
      "FAIL: Potential energy is The potentia energ at the top of te rollercoaer is 4.9 juls.\n",
      "FAIL: Potential energy is Potential enrgy is measur in jules.\n",
      "FAIL: Potential energy is Potential enrgy is measur in jules.\n",
      "FAIL: Kinetic energy is The kinetic energy at the botom of the hile is 4.8 joul.\n",
      "FAIL: Kinetic energy is Kinetic nergy transfourms into heet thrugh fricton\n",
      "FAIL: Kinetic energy is The kinetic energy at the botom of the hile is 4.8 joul.\n",
      "FAIL: Kinetic energy is Kinetic nergy transfourms into heet thrugh fricton\n",
      "FAIL: The Law of Conservation of energy states As the car goes down the hill, some energ is lost to fricshiun as heat..\n",
      "FAIL: The Law of Conservation of energy states As the car goes down the hill, some energ is lost to fricshiun as heat..\n",
      "10fails out of 15tests\n"
     ]
    }
   ],
   "source": [
    "PE_TYPO_INSUFFICIENT = [\n",
    "    \"The potentia energ at the top of te rollercoaer is 4.9 juls.\",\n",
    "    \"Potential enrgy is measur in jules.\",\n",
    "]\n",
    "KE_TYPO_INSUFFICIENT = [\n",
    "    \"The kinetic energy at the botom of the hile is 4.8 joul.\",\n",
    "    \"Kinetic nergy transfourms into heet thrugh fricton\",\n",
    "]\n",
    "LCE_TYPO_INSUFFICIENT = [\n",
    "    \"The potensial energy trainsforms in to kinetic energy becuz of the law of conservashun of energy.\",\n",
    "    \"As the car goes down the hill, some energ is lost to fricshiun as heat.\",\n",
    "]\n",
    "\n",
    "samples = editor.template(\n",
    "    \"Potential energy is {pe_typo_insufficient}\",\n",
    "    pe_typo_insufficient=PE_TYPO_INSUFFICIENT, nsamples=5, labels=0\n",
    ")\n",
    "samples += editor.template(\n",
    "    \"Kinetic energy is {ke_typo_insufficient}\",\n",
    "    ke_typo_insufficient=KE_TYPO_INSUFFICIENT, nsamples=5, labels=0\n",
    ")\n",
    "samples += editor.template(\n",
    "    \"The Law of Conservation of energy states {lce_typo_insufficient}.\",\n",
    "    lce_typo_insufficient=LCE_TYPO_INSUFFICIENT, nsamples=5, labels=0\n",
    ")\n",
    "\n",
    "data, freqs = getData(samples, \"Insufficient\")\n"
   ],
   "metadata": {
    "collapsed": false,
    "ExecuteTime": {
     "end_time": "2023-10-16T02:24:12.068402Z",
     "start_time": "2023-10-16T02:24:12.064341Z"
    }
   },
   "id": "a1ec8081965462e4"
  },
  {
   "cell_type": "markdown",
   "source": [
    "# Taxonomy\n",
    "\n",
    "## INV\n",
    "### Replacing words with synonyms\n",
    "#### Correct definition"
   ],
   "metadata": {
    "collapsed": false
   },
   "id": "cbfb57d037dd6990"
  },
  {
   "cell_type": "code",
   "execution_count": null,
   "outputs": [],
   "source": [
    "PE_SYNONYM_CORRECT = [\n",
    "    \"energy that body has becuse of its posiion relative to other bdies.\"\n",
    "    \"energy store in te car at the tp of the initl drp.\"\n",
    "]\n",
    "KE_SYNONYM_CORRECT = [\n",
    "    \"Kinetic enery is energy tht the car hs bcase i is movng.\"\n",
    "    \"Kinetic ergy is the wrk neded to acelerate the rolercoaser car from rest.\"\n",
    "]\n",
    "LCE_SYNONYM_CORRECT = [\n",
    "    \"that energy canot be create or destroy, ony transfomed.\"\n",
    "    \"the totl energy of an isolated systm remain constnt.\"\n",
    "]\n",
    "\n",
    "samples = editor.template(\n",
    "    \"Potential energy is {pe_synonym_correct}\",\n",
    "    pe_synonym_correct=PE_SYNONYM_CORRECT, nsamples=5, labels=0\n",
    ")\n",
    "samples += editor.template(\n",
    "    \"Kinetic energy is {ke_synonym_correct}\",\n",
    "    ke_synonym_correct=KE_SYNONYM_CORRECT, nsamples=5, labels=0\n",
    ")\n",
    "samples += editor.template(\n",
    "    \"The Law of Conservation of energy states {lce_synonym_correct}.\",\n",
    "    lce_synonym_correct=LCE_SYNONYM_CORRECT, nsamples=5, labels=0\n",
    ")\n",
    "\n",
    "data, freqs = getData(samples, \"Acceptable\")"
   ],
   "metadata": {
    "collapsed": false
   },
   "id": "e1cdc05e36746ed8"
  },
  {
   "cell_type": "markdown",
   "source": [
    "#### Incorrect definition"
   ],
   "metadata": {
    "collapsed": false
   },
   "id": "e2bf99c931d5e20"
  },
  {
   "cell_type": "code",
   "execution_count": null,
   "outputs": [],
   "source": [
    "PE_SYNONYM_INCORRECT = [\n",
    "    \"Potential energy is the energy lost as the car rolls down the hill.\",\n",
    "    \"Potential energy is the opposite of kinetic energy.\",\n",
    "]\n",
    "KE_SYNONYM_INCORRECT = [\n",
    "    \"Kinetic energy is never lost or gained as the car moves through the rollercoaster.\",\n",
    "    \"Kinetic energy is the opposite of potential energy.\",\n",
    "]\n",
    "LCE_SYNONYM_INCORRECT = [\n",
    "    \"LCE says that energy can be made and taken.\",\n",
    "    \"LCE states that the energy of a closed system will differ.\",\n",
    "    \"LCE says that in an open system, energy is constant\",\n",
    "]\n",
    "\n",
    "samples = editor.template(\n",
    "    \"Potential energy is {pe_synonym_incorrect}\",\n",
    "    pe_synonym_incorrect=PE_SYNONYM_INCORRECT, nsamples=5, labels=0\n",
    ")\n",
    "samples += editor.template(\n",
    "    \"Kinetic energy is {ke_synonym_incorrect}\",\n",
    "    ke_synonym_incorrect=KE_SYNONYM_INCORRECT, nsamples=5, labels=0\n",
    ")\n",
    "samples += editor.template(\n",
    "    \"The Law of Conservation of energy states {lce_synonym_incorrect}.\",\n",
    "    lce_synonym_incorrect=LCE_SYNONYM_INCORRECT, nsamples=5, labels=0\n",
    ")\n",
    "\n",
    "data, freqs = getData(samples, \"Unacceptable\")"
   ],
   "metadata": {
    "collapsed": false
   },
   "id": "f1a2bad51427327a"
  },
  {
   "cell_type": "markdown",
   "source": [
    "#### Insufficient definition"
   ],
   "metadata": {
    "collapsed": false
   },
   "id": "9795ded78d2924fe"
  },
  {
   "cell_type": "code",
   "execution_count": 39,
   "outputs": [
    {
     "name": "stdout",
     "output_type": "stream",
     "text": [
      "FAIL: Potential energy is Potential energy is calculated in joules.\n",
      "FAIL: Potential energy is The potential energy at the tip of the rollercoaster is 4.9 joules.\n",
      "FAIL: Potential energy is Potential energy is calculated in joules.\n",
      "FAIL: Kinetic energy is There is higher kinetic energy at the bottom of the hill than at the top.\n",
      "FAIL: Kinetic energy is There is higher kinetic energy at the bottom of the hill than at the top.\n",
      "FAIL: Kinetic energy is There is higher kinetic energy at the bottom of the hill than at the top.\n",
      "FAIL: Kinetic energy is Kinetic energy turns into heat through friction\n",
      "FAIL: Kinetic energy is Kinetic energy turns into heat through friction\n",
      "FAIL: The Law of Conservation of energy states If there were no friction, the energy would stay the same..\n",
      "FAIL: The Law of Conservation of energy states As the car goes down the hill, some energy does away to friction as heat..\n",
      "10fails out of 15tests\n"
     ]
    }
   ],
   "source": [
    "PE_SYNONYM_INSUFFICIENT = [\n",
    "    \"The potential energy at the tip of the rollercoaster is 4.9 joules.\",\n",
    "    \"Potential energy is calculated in joules.\",\n",
    "]\n",
    "KE_SYNONYM_INSUFFICIENT = [\n",
    "    \"There is higher kinetic energy at the bottom of the hill than at the top.\",\n",
    "    \"Kinetic energy turns into heat through friction\",\n",
    "]\n",
    "LCE_SYNONYM_INSUFFICIENT = [\n",
    "    \"As the car goes down the hill, some energy does away to friction as heat.\",\n",
    "    \"If there were no friction, the energy would stay the same.\",\n",
    "]\n",
    "\n",
    "samples = editor.template(\n",
    "    \"Potential energy is {pe_synonym_insufficient}\",\n",
    "    pe_synonym_insufficient=PE_SYNONYM_INSUFFICIENT, nsamples=5, labels=0\n",
    ")\n",
    "samples += editor.template(\n",
    "    \"Kinetic energy is {ke_synonym_insufficient}\",\n",
    "    ke_synonym_insufficient=KE_SYNONYM_INSUFFICIENT, nsamples=5, labels=0\n",
    ")\n",
    "samples += editor.template(\n",
    "    \"The Law of Conservation of energy states {lce_synonym_insufficient}.\",\n",
    "    lce_synonym_insufficient=LCE_SYNONYM_INSUFFICIENT, nsamples=5, labels=0\n",
    ")\n",
    "\n",
    "data, freqs = getData(samples, \"Insufficient\")"
   ],
   "metadata": {
    "collapsed": false,
    "ExecuteTime": {
     "end_time": "2023-10-16T02:54:16.531441Z",
     "start_time": "2023-10-16T02:54:16.528629Z"
    }
   },
   "id": "e1ddd48ef0d53703"
  },
  {
   "cell_type": "markdown",
   "source": [],
   "metadata": {
    "collapsed": false
   },
   "id": "c161ad54c2446096"
  },
  {
   "cell_type": "markdown",
   "source": [
    "# Fairness\n",
    "\n",
    "## INV\n",
    "## Test for words being replaced in Spanish\n",
    "#### Correct definitions"
   ],
   "metadata": {
    "collapsed": false
   },
   "id": "71dfb35eb71edd4c"
  },
  {
   "cell_type": "code",
   "execution_count": 40,
   "outputs": [
    {
     "name": "stdout",
     "output_type": "stream",
     "text": [
      "FAIL: Potential energy is Potential energy is the stored energy of the rollercoaster car when no se esta moviendo.\n",
      "FAIL: Potential energy is Potential energy is the stored energy of the rollercoaster car when no se esta moviendo.\n",
      "FAIL: Potential energy is Potential energy is energy that has the potential to convertirse en otro form of energy.\n",
      "FAIL: Potential energy is Potential energy is energy that has the potential to convertirse en otro form of energy.\n",
      "FAIL: Potential energy is Potential energy is energy that a body has because of its position relativa a other bodies.\n",
      "FAIL: Kinetic energy is Kinetic energy quantifies the work an object performs debido a su movimiento\n",
      "FAIL: Kinetic energy is Kinetic energy is determined by the mass del carro and the velocity with which it is moving.\n",
      "FAIL: Kinetic energy is Kinetic energy quantifies the work an object performs debido a su movimiento\n",
      "FAIL: The Law of Conservation of energy states LCE is a physical law that states that energy no se puede crear or destroyed but only transformed.\n",
      "FAIL: The Law of Conservation of energy states LCE says that if there were no friction, the potential energy en la cima del rollercoaster would be the same as the kinetic energy at the bottom of the drop..\n",
      "FAIL: The Law of Conservation of energy states LCE states that energy can be convertida from one form to another, but never created or destroyed..\n",
      "11fails out of 15tests\n"
     ]
    }
   ],
   "source": [
    "PE_SPANISH_CORRECT = [\n",
    "    \"Potential energy is energy that a body has because of its position relativa a other bodies.\",\n",
    "    \"Potential energy is the stored energy of the rollercoaster car when no se esta moviendo.\",\n",
    "    \"Potential energy is energy that has the potential to convertirse en otro form of energy.\",\n",
    "]\n",
    "KE_SPANISH_CORRECT = [\n",
    "    \"Kinetic energy is the work necesario para accelerate the rollercoaster car from rest.\",\n",
    "    \"Kinetic energy is determined by the mass del carro and the velocity with which it is moving.\",\n",
    "    \"Kinetic energy quantifies the work an object performs debido a su movimiento\",\n",
    "]\n",
    "LCE_SPANISH_CORRECT = [\n",
    "    \"LCE states that energy can be convertida from one form to another, but never created or destroyed.\",\n",
    "    \"LCE says that if there were no friction, the potential energy en la cima del rollercoaster would be the same as the kinetic energy at the bottom of the drop.\",\n",
    "    \"LCE is a physical law that states that energy no se puede crear or destroyed but only transformed\",\n",
    "]\n",
    "\n",
    "samples = editor.template(\n",
    "    \"Potential energy is {pe_spanish_correct}\",\n",
    "    pe_spanish_correct=PE_SPANISH_CORRECT, nsamples=5, labels=0\n",
    ")\n",
    "samples += editor.template(\n",
    "    \"Kinetic energy is {ke_spanish_correct}\",\n",
    "    ke_spanish_correct=KE_SPANISH_CORRECT, nsamples=5, labels=0\n",
    ")\n",
    "samples += editor.template(\n",
    "    \"The Law of Conservation of energy states {lce_spanish_correct}.\",\n",
    "    lce_spanish_correct=LCE_SPANISH_CORRECT, nsamples=5, labels=0\n",
    ")\n",
    "\n",
    "data, freqs = getData(samples, \"Acceptable\")\n"
   ],
   "metadata": {
    "collapsed": false,
    "ExecuteTime": {
     "end_time": "2023-10-16T03:01:10.366572Z",
     "start_time": "2023-10-16T03:01:10.360561Z"
    }
   },
   "id": "13d86846d285ffd5"
  }
 ],
 "metadata": {
  "kernelspec": {
   "display_name": "Python 3",
   "language": "python",
   "name": "python3"
  },
  "language_info": {
   "codemirror_mode": {
    "name": "ipython",
    "version": 2
   },
   "file_extension": ".py",
   "mimetype": "text/x-python",
   "name": "python",
   "nbconvert_exporter": "python",
   "pygments_lexer": "ipython2",
   "version": "2.7.6"
  }
 },
 "nbformat": 4,
 "nbformat_minor": 5
}
