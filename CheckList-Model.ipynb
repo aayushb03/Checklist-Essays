{
 "cells": [
  {
   "cell_type": "code",
   "execution_count": 51,
   "id": "initial_id",
   "metadata": {
    "collapsed": true,
    "ExecuteTime": {
     "end_time": "2023-10-09T18:53:07.628665Z",
     "start_time": "2023-10-09T18:53:07.623281Z"
    }
   },
   "outputs": [],
   "source": [
    "from FakeModel import Model\n",
    "\n",
    "\n",
    "import numpy as np\n",
    "from checklist.editor import Editor\n",
    "from checklist.perturb import Perturb\n",
    "from checklist.test_types import MFT, INV, DIR\n",
    "from checklist.pred_wrapper import PredictorWrapper"
   ]
  },
  {
   "cell_type": "code",
   "execution_count": 52,
   "outputs": [],
   "source": [
    "editor = Editor();"
   ],
   "metadata": {
    "collapsed": false,
    "ExecuteTime": {
     "end_time": "2023-10-09T18:53:08.555384Z",
     "start_time": "2023-10-09T18:53:08.434752Z"
    }
   },
   "id": "34b3c525d5bd4298"
  },
  {
   "cell_type": "markdown",
   "source": [
    "## Example formatting for FakeModel"
   ],
   "metadata": {
    "collapsed": false
   },
   "id": "fa6cca752281865d"
  },
  {
   "cell_type": "code",
   "execution_count": 53,
   "outputs": [
    {
     "name": "stdout",
     "output_type": "stream",
     "text": [
      "{'PE': 'Unacceptable', 'KE': 'Unacceptable', 'LCE': 'Unacceptable'}\n"
     ]
    }
   ],
   "source": [
    "model_instance = Model(\"abc\")\n",
    "res = model_instance()\n",
    "\n",
    "print(res)"
   ],
   "metadata": {
    "collapsed": false,
    "ExecuteTime": {
     "end_time": "2023-10-09T18:53:09.759543Z",
     "start_time": "2023-10-09T18:53:09.752028Z"
    }
   },
   "id": "62b2b53ca591d78f"
  },
  {
   "cell_type": "markdown",
   "source": [
    "## Valid Definitions"
   ],
   "metadata": {
    "collapsed": false
   },
   "id": "468466e8650a51c1"
  },
  {
   "cell_type": "code",
   "execution_count": 123,
   "outputs": [],
   "source": [
    "PE_ACCEPTABLE = [\n",
    "    \"energy at rest\",\n",
    "    \"energy that a body has because of its position relative to other bodies\",\n",
    "    \"energy stored in the car at the top of the initial drop\",\n",
    "]\n",
    "PE_UNACCEPTABLE = [\n",
    "    \"energy in motion\",\n",
    "    \"energy lost as the car goes down the hill\",\n",
    "    \"opposite of kinetic energy\",\n",
    "]\n",
    "PE_INSUFFICIENT = [\n",
    "    \"4 Joules at the top of the roller coaster\",\n",
    "    \"measured in Joules\",\n",
    "    \"equal to m*h*9.8\",\n",
    "]\n",
    "\n",
    "KE_ACCEPTABLE = [\n",
    "    \"energy in motion\",\n",
    "    \"energy that the car has because it is moving\",\n",
    "    \"the work needed to accelerate the roller coaster car from rest\",\n",
    "]\n",
    "KE_UNACCEPTABLE = [\n",
    "    \"energy at rest\",\n",
    "    \"never lost nor gained as the car moves\",\n",
    "    \"the opposite of potantial energy\",\n",
    "]\n",
    "KE_INSUFFICIENT = [\n",
    "    \"4 Joules at the bottom of the roller coaster\",\n",
    "    \"measured in Joules\",\n",
    "    \"equal to .5*m*v^2\",\n",
    "]\n",
    "\n",
    "LCE_ACCEPTABLE = [\n",
    "    \"energy cannot be created or destroyed, only transformed\",\n",
    "    \"the total energy of an isolated system remains constant\",\n",
    "    \"energy can be converted from one form to another, but never created or destroyed\",\n",
    "]\n",
    "LCE_UNACCEPTABLE = [\n",
    "    \"energy can be created or destroyed, not transformed\",\n",
    "    \"the total energy of an isolated system will change\",\n",
    "]\n",
    "LCE_INSUFFICIENT = [\n",
    "    \"K1 + U1 = K2 + U2\",\n",
    "    \"potential energy transforms into kinetic energy\",\n",
    "    \"As the car goes down the hill, some energy is lost to friction as heat\",\n",
    "]\n"
   ],
   "metadata": {
    "collapsed": false,
    "ExecuteTime": {
     "end_time": "2023-10-09T20:14:14.699804Z",
     "start_time": "2023-10-09T20:14:14.691503Z"
    }
   },
   "id": "d38dba8fbeb473b6"
  },
  {
   "cell_type": "markdown",
   "source": [
    "# **Vocab + POS**\n",
    "\n",
    "## Minimum Functionality Tests\n",
    "### Check for correct definitions"
   ],
   "metadata": {
    "collapsed": false
   },
   "id": "86b9947b71be67b3"
  },
  {
   "cell_type": "code",
   "execution_count": 89,
   "outputs": [
    {
     "name": "stdout",
     "output_type": "stream",
     "text": [
      "{'PE': ['Insufficient', 'Insufficient', 'Unacceptable', 'Acceptable', 'Insufficient', 'Insufficient', 'Acceptable', 'Insufficient', 'Insufficient', 'Unacceptable'], 'KE': ['Acceptable', 'Insufficient', 'Acceptable', 'Acceptable', 'Insufficient', 'Unacceptable', 'Unacceptable', 'Insufficient', 'Acceptable', 'Acceptable'], 'LCE': ['Unacceptable', 'Acceptable', 'Acceptable', 'Unacceptable', 'Acceptable', 'Unacceptable', 'Insufficient', 'Insufficient', 'Insufficient', 'Acceptable']}\n"
     ]
    }
   ],
   "source": [
    "samples = editor.template(\n",
    "    \"Potential energy is {pe_acceptable}. Kinetic energy is {ke_acceptable}. The Law of Conservation of energy states {lce_acceptable}.\", \n",
    "    pe_correct=PE_ACCEPTABLE, ke_correct=KE_ACCEPTABLE, lce_correct=LCE_ACCEPTABLE, nsamples=10, labels=0\n",
    ")\n",
    "\n",
    "data = {\n",
    "    'PE':[],\n",
    "    'KE':[],\n",
    "    'LCE':[],\n",
    "}\n",
    "# model = Model()\n",
    "for sample in samples.data:\n",
    "    d = Model(sample)()\n",
    "    data['PE'].append(d['PE'])\n",
    "    data['KE'].append(d['KE'])\n",
    "    data['LCE'].append(d['LCE'])\n",
    "\n",
    "print(data)\n"
   ],
   "metadata": {
    "collapsed": false,
    "ExecuteTime": {
     "end_time": "2023-10-09T19:41:37.360575Z",
     "start_time": "2023-10-09T19:41:37.352416Z"
    }
   },
   "id": "6a30c7b0c17b1b46"
  },
  {
   "cell_type": "markdown",
   "source": [
    "### Check for incorrect definitions"
   ],
   "metadata": {
    "collapsed": false
   },
   "id": "318f676547d6af38"
  },
  {
   "cell_type": "code",
   "execution_count": 122,
   "outputs": [],
   "source": [
    "samples = editor.template(\n",
    "    \"Potential energy is {pe_unacceptable}. Kinetic energy is {ke_unacceptable}. The Law of Conservation of energy states {lce_unacceptable}.\",\n",
    "    pe_unacceptable=PE_UNACCEPTABLE, ke_unacceptable=KE_UNACCEPTABLE, lce_unacceptable=LCE_UNACCEPTABLE, nsamples=10, labels=0\n",
    ")\n",
    "samples += editor.template(\n",
    "    \"Potential energy is not {pe_acceptable}. Kinetic energy is {ke_acceptable}. The Law of Conservation of energy states {lce_acceptable}.\",\n",
    "    pe_acceptable=PE_ACCEPTABLE, ke_acceptable=KE_ACCEPTABLE, lce_acceptable=LCE_ACCEPTABLE, nsamples=10, labels=0\n",
    ")\n",
    "\n",
    "data = {\n",
    "    'PE':[],\n",
    "    'KE':[],\n",
    "    'LCE':[],\n",
    "}\n",
    "# model = Model()\n",
    "for sample in samples.data:\n",
    "    d = Model(sample)()\n",
    "    data['PE'].append(d['PE'])\n",
    "    data['KE'].append(d['KE'])\n",
    "    data['LCE'].append(d['LCE'])\n"
   ],
   "metadata": {
    "collapsed": false,
    "ExecuteTime": {
     "end_time": "2023-10-09T20:02:30.639147Z",
     "start_time": "2023-10-09T20:02:30.630814Z"
    }
   },
   "id": "fc79418aaad3111c"
  },
  {
   "cell_type": "markdown",
   "source": [
    "### Check insufficient definitions"
   ],
   "metadata": {
    "collapsed": false
   },
   "id": "63507fcd14754bf5"
  },
  {
   "cell_type": "code",
   "execution_count": 126,
   "outputs": [
    {
     "name": "stdout",
     "output_type": "stream",
     "text": [
      "{'PE': ['Acceptable', 'Unacceptable', 'Acceptable', 'Acceptable', 'Insufficient', 'Insufficient', 'Unacceptable', 'Unacceptable', 'Acceptable', 'Insufficient'], 'KE': ['Unacceptable', 'Acceptable', 'Acceptable', 'Insufficient', 'Insufficient', 'Unacceptable', 'Acceptable', 'Unacceptable', 'Insufficient', 'Unacceptable'], 'LCE': ['Unacceptable', 'Insufficient', 'Insufficient', 'Acceptable', 'Acceptable', 'Acceptable', 'Acceptable', 'Unacceptable', 'Acceptable', 'Acceptable']}\n"
     ]
    }
   ],
   "source": [
    "samples = editor.template(\n",
    "    \"Potential energy is {pe_insufficient}. Kinetic energy is {ke_insufficient}. The Law of Conservation of energy states {lce_insufficient}.\",\n",
    "    pe_insufficient=PE_INSUFFICIENT, ke_insufficient=KE_INSUFFICIENT, lce_insufficient=LCE_INSUFFICIENT, nsamples=10, labels=0\n",
    ")\n",
    "\n",
    "data = {\n",
    "    'PE':[],\n",
    "    'KE':[],\n",
    "    'LCE':[],\n",
    "}\n",
    "# model = Model()\n",
    "for sample in samples.data:\n",
    "    d = Model(sample)()\n",
    "    data['PE'].append(d['PE'])\n",
    "    data['KE'].append(d['KE'])\n",
    "    data['LCE'].append(d['LCE'])\n"
   ],
   "metadata": {
    "collapsed": false,
    "ExecuteTime": {
     "end_time": "2023-10-09T20:16:09.435298Z",
     "start_time": "2023-10-09T20:16:09.424248Z"
    }
   },
   "id": "70f2ac672c2ae014"
  },
  {
   "cell_type": "markdown",
   "source": [
    "## Directional Tests\n",
    "\n",
    "### Correct definitions followed by incorrect definition"
   ],
   "metadata": {
    "collapsed": false
   },
   "id": "ae054314f56ff49"
  },
  {
   "cell_type": "code",
   "execution_count": 27,
   "outputs": [],
   "source": [
    "# code"
   ],
   "metadata": {
    "collapsed": false,
    "ExecuteTime": {
     "end_time": "2023-10-09T05:35:13.538360Z",
     "start_time": "2023-10-09T05:35:13.535726Z"
    }
   },
   "id": "1ea6cdb584662e85"
  },
  {
   "cell_type": "markdown",
   "source": [
    "### Incorrect Definition followed by correct definition"
   ],
   "metadata": {
    "collapsed": false
   },
   "id": "15af6f8bb8e289d5"
  },
  {
   "cell_type": "code",
   "execution_count": 28,
   "outputs": [],
   "source": [
    "# code"
   ],
   "metadata": {
    "collapsed": false,
    "ExecuteTime": {
     "end_time": "2023-10-09T05:35:13.727384Z",
     "start_time": "2023-10-09T05:35:13.723835Z"
    }
   },
   "id": "e4de510d4d8bef3d"
  },
  {
   "cell_type": "markdown",
   "source": [
    "### Insufficient definition followed by correct definition"
   ],
   "metadata": {
    "collapsed": false
   },
   "id": "6d505343bab8f1f"
  },
  {
   "cell_type": "code",
   "execution_count": 29,
   "outputs": [],
   "source": [
    "# code"
   ],
   "metadata": {
    "collapsed": false,
    "ExecuteTime": {
     "end_time": "2023-10-09T05:35:13.931317Z",
     "start_time": "2023-10-09T05:35:13.927122Z"
    }
   },
   "id": "9eeadd252c41d2d1"
  },
  {
   "cell_type": "markdown",
   "source": [
    "### Insufficient definition followed by incorrect definition"
   ],
   "metadata": {
    "collapsed": false
   },
   "id": "c7eea59ca287fba2"
  },
  {
   "cell_type": "code",
   "execution_count": 30,
   "outputs": [],
   "source": [
    "# code"
   ],
   "metadata": {
    "collapsed": false,
    "ExecuteTime": {
     "end_time": "2023-10-09T05:35:14.126954Z",
     "start_time": "2023-10-09T05:35:14.124236Z"
    }
   },
   "id": "b3334d0146a6878d"
  },
  {
   "cell_type": "markdown",
   "source": [
    "# Negation\n",
    "\n",
    "## MFTs"
   ],
   "metadata": {
    "collapsed": false
   },
   "id": "1fee56206e35d7ae"
  },
  {
   "cell_type": "code",
   "execution_count": 31,
   "outputs": [],
   "source": [
    "# code"
   ],
   "metadata": {
    "collapsed": false,
    "ExecuteTime": {
     "end_time": "2023-10-09T05:35:14.331765Z",
     "start_time": "2023-10-09T05:35:14.328780Z"
    }
   },
   "id": "46c9923461a53ec3"
  },
  {
   "cell_type": "markdown",
   "source": [
    "# Robustness\n",
    "\n",
    "## INV"
   ],
   "metadata": {
    "collapsed": false
   },
   "id": "98305fdc6a6efc58"
  },
  {
   "cell_type": "code",
   "execution_count": 32,
   "outputs": [],
   "source": [
    "# code"
   ],
   "metadata": {
    "collapsed": false,
    "ExecuteTime": {
     "end_time": "2023-10-09T05:35:14.538608Z",
     "start_time": "2023-10-09T05:35:14.534654Z"
    }
   },
   "id": "4ce0fccf57c6d793"
  },
  {
   "cell_type": "markdown",
   "source": [
    "# Taxonomy\n",
    "\n",
    "## INV"
   ],
   "metadata": {
    "collapsed": false
   },
   "id": "7112c91ee7acf89e"
  },
  {
   "cell_type": "code",
   "execution_count": 33,
   "outputs": [],
   "source": [
    "# code"
   ],
   "metadata": {
    "collapsed": false,
    "ExecuteTime": {
     "end_time": "2023-10-09T05:35:14.724232Z",
     "start_time": "2023-10-09T05:35:14.722354Z"
    }
   },
   "id": "c2e8e6a4c945f4eb"
  },
  {
   "cell_type": "markdown",
   "source": [
    "# Fairness\n",
    "\n",
    "## INV"
   ],
   "metadata": {
    "collapsed": false
   },
   "id": "d48d7b2842ca11a5"
  },
  {
   "cell_type": "code",
   "execution_count": 34,
   "outputs": [],
   "source": [
    "# code"
   ],
   "metadata": {
    "collapsed": false,
    "ExecuteTime": {
     "end_time": "2023-10-09T05:35:14.928181Z",
     "start_time": "2023-10-09T05:35:14.919414Z"
    }
   },
   "id": "1b75354d1556ea1a"
  }
 ],
 "metadata": {
  "kernelspec": {
   "display_name": "Python 3",
   "language": "python",
   "name": "python3"
  },
  "language_info": {
   "codemirror_mode": {
    "name": "ipython",
    "version": 2
   },
   "file_extension": ".py",
   "mimetype": "text/x-python",
   "name": "python",
   "nbconvert_exporter": "python",
   "pygments_lexer": "ipython2",
   "version": "2.7.6"
  }
 },
 "nbformat": 4,
 "nbformat_minor": 5
}
