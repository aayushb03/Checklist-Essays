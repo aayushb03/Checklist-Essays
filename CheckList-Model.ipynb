{
 "cells": [
  {
   "cell_type": "code",
   "execution_count": 1,
   "outputs": [],
   "source": [
    "from FakeModel import Model\n",
    "\n",
    "\n",
    "import numpy as np\n",
    "from checklist.editor import Editor\n",
    "from checklist.perturb import Perturb\n",
    "from checklist.test_types import MFT, INV, DIR\n",
    "from checklist.pred_wrapper import PredictorWrapper"
   ],
   "metadata": {
    "collapsed": false,
    "ExecuteTime": {
     "end_time": "2023-10-16T00:21:39.776249Z",
     "start_time": "2023-10-16T00:21:36.924707Z"
    }
   },
   "id": "df32c724dadfb230"
  },
  {
   "cell_type": "code",
   "execution_count": 2,
   "outputs": [],
   "source": [
    "editor = Editor();"
   ],
   "metadata": {
    "collapsed": false,
    "ExecuteTime": {
     "end_time": "2023-10-16T00:21:40.824981Z",
     "start_time": "2023-10-16T00:21:40.699907Z"
    }
   },
   "id": "83d13a4369b5d5b6"
  },
  {
   "cell_type": "markdown",
   "source": [
    "## Example formatting for FakeModel"
   ],
   "metadata": {
    "collapsed": false
   },
   "id": "42f31abe7aaf0aad"
  },
  {
   "cell_type": "code",
   "execution_count": 3,
   "outputs": [
    {
     "name": "stdout",
     "output_type": "stream",
     "text": [
      "{'PE': 'Unacceptable', 'KE': 'Unacceptable', 'LCE': 'Insufficient'}\n"
     ]
    }
   ],
   "source": [
    "model_instance = Model(\"abc\")\n",
    "res = model_instance()\n",
    "\n",
    "print(res)"
   ],
   "metadata": {
    "collapsed": false,
    "ExecuteTime": {
     "end_time": "2023-10-16T00:21:42.182491Z",
     "start_time": "2023-10-16T00:21:42.172592Z"
    }
   },
   "id": "55ccddc8e82178f2"
  },
  {
   "cell_type": "markdown",
   "source": [
    "## Valid Definitions"
   ],
   "metadata": {
    "collapsed": false
   },
   "id": "e543a00c0dd10ae4"
  },
  {
   "cell_type": "code",
   "execution_count": 4,
   "outputs": [],
   "source": [
    "PE_ACCEPTABLE = [\n",
    "    \"energy at rest\",\n",
    "    \"energy that a body has because of its position relative to other bodies\",\n",
    "    \"energy stored in the car at the top of the initial drop\",\n",
    "]\n",
    "PE_UNACCEPTABLE = [\n",
    "    \"energy in motion\",\n",
    "    \"energy lost as the car goes down the hill\",\n",
    "    \"opposite of kinetic energy\",\n",
    "]\n",
    "PE_INSUFFICIENT = [\n",
    "    \"4 Joules at the top of the roller coaster\",\n",
    "    \"measured in Joules\",\n",
    "    \"equal to m*h*9.8\",\n",
    "]\n",
    "\n",
    "KE_ACCEPTABLE = [\n",
    "    \"energy in motion\",\n",
    "    \"energy that the car has because it is moving\",\n",
    "    \"the work needed to accelerate the roller coaster car from rest\",\n",
    "]\n",
    "KE_UNACCEPTABLE = [\n",
    "    \"energy at rest\",\n",
    "    \"never lost nor gained as the car moves\",\n",
    "    \"the opposite of potantial energy\",\n",
    "]\n",
    "KE_INSUFFICIENT = [\n",
    "    \"4 Joules at the bottom of the roller coaster\",\n",
    "    \"measured in Joules\",\n",
    "    \"equal to .5*m*v^2\",\n",
    "]\n",
    "\n",
    "LCE_ACCEPTABLE = [\n",
    "    \"energy cannot be created or destroyed, only transformed\",\n",
    "    \"the total energy of an isolated system remains constant\",\n",
    "    \"energy can be converted from one form to another, but never created or destroyed\",\n",
    "]\n",
    "LCE_UNACCEPTABLE = [\n",
    "    \"energy can be created or destroyed, not transformed\",\n",
    "    \"the total energy of an isolated system will change\",\n",
    "]\n",
    "LCE_INSUFFICIENT = [\n",
    "    \"K1 + U1 = K2 + U2\",\n",
    "    \"potential energy transforms into kinetic energy\",\n",
    "    \"As the car goes down the hill, some energy is lost to friction as heat\",\n",
    "]\n"
   ],
   "metadata": {
    "collapsed": false,
    "ExecuteTime": {
     "end_time": "2023-10-16T00:21:44.881625Z",
     "start_time": "2023-10-16T00:21:44.875677Z"
    }
   },
   "id": "2ce9daafda966444"
  },
  {
   "cell_type": "markdown",
   "source": [
    "## Function for getting data and frequencies"
   ],
   "metadata": {
    "collapsed": false
   },
   "id": "316264aa42e0c19b"
  },
  {
   "cell_type": "code",
   "execution_count": 6,
   "outputs": [],
   "source": [
    "def getData(samples, actualLabel):\n",
    "    data = {\n",
    "        'PE':[],\n",
    "        'KE':[],\n",
    "        'LCE':[],\n",
    "    }\n",
    "    frequencies = {\n",
    "        'PE':{'Acceptable':0, 'Unacceptable':0, 'Insufficient':0},\n",
    "        'KE':{'Acceptable':0, 'Unacceptable':0, 'Insufficient':0},\n",
    "        'LCE':{'Acceptable':0, 'Unacceptable':0, 'Insufficient':0},\n",
    "    }\n",
    "    fails = 0\n",
    "    for sample in samples.data:\n",
    "        d = Model(sample)()\n",
    "        label = d['PE'] if len(d['PE']) != 0 else d['KE'] if len(d['KE']) != 0 else d['LCE']\n",
    "        if label != actualLabel:\n",
    "            print(\"FAIL: \" + sample)\n",
    "            fails += 1\n",
    "        data['PE'].append(d['PE'])\n",
    "        data['KE'].append(d['KE'])\n",
    "        data['LCE'].append(d['LCE'])\n",
    "        frequencies['PE'][d['PE']] += 1\n",
    "        frequencies['KE'][d['KE']] += 1\n",
    "        frequencies['LCE'][d['LCE']] += 1\n",
    "    print(str(fails) + \"fails out of \" + str(len(samples.data)) + \"tests\")\n",
    "    return data, frequencies\n",
    "\n",
    "# def runtest(text):\n",
    "#     res = {}\n",
    "#     d = Model(text)()\n",
    "#     res['PE'] = d['PE']\n",
    "#     res['KE'] = d['PE']\n",
    "#     res['LCE'] = d['LCE']\n",
    "#     return res\n"
   ],
   "metadata": {
    "collapsed": false,
    "ExecuteTime": {
     "end_time": "2023-10-16T00:22:01.035820Z",
     "start_time": "2023-10-16T00:22:01.029728Z"
    }
   },
   "id": "2756ff837059356d"
  },
  {
   "cell_type": "markdown",
   "source": [
    "# **Vocab + POS**\n",
    "\n",
    "## Minimum Functionality Tests\n",
    "### Check for correct definitions\n",
    "Should return acceptable"
   ],
   "metadata": {
    "collapsed": false
   },
   "id": "26b6f93956a668bb"
  },
  {
   "cell_type": "code",
   "execution_count": 10,
   "outputs": [
    {
     "name": "stdout",
     "output_type": "stream",
     "text": [
      "FAIL: Potential energy is energy that a body has because of its position relative to other bodies\n",
      "FAIL: Potential energy is energy that a body has because of its position relative to other bodies\n",
      "FAIL: Potential energy is energy that a body has because of its position relative to other bodies\n",
      "FAIL: Potential energy is energy stored in the car at the top of the initial drop\n",
      "FAIL: Potential energy is energy at rest\n",
      "FAIL: Kinetic energy is energy in motion\n",
      "FAIL: Kinetic energy is energy that the car has because it is moving\n",
      "FAIL: Kinetic energy is the work needed to accelerate the roller coaster car from rest\n",
      "FAIL: Kinetic energy is the work needed to accelerate the roller coaster car from rest\n",
      "FAIL: Kinetic energy is the work needed to accelerate the roller coaster car from rest\n",
      "FAIL: The Law of Conservation of energy states energy can be converted from one form to another, but never created or destroyed.\n",
      "FAIL: The Law of Conservation of energy states energy cannot be created or destroyed, only transformed.\n",
      "FAIL: The Law of Conservation of energy states energy cannot be created or destroyed, only transformed.\n",
      "FAIL: The Law of Conservation of energy states energy can be converted from one form to another, but never created or destroyed.\n",
      "FAIL: The Law of Conservation of energy states the total energy of an isolated system remains constant.\n",
      "15fails out of 15tests\n"
     ]
    }
   ],
   "source": [
    "samples = editor.template(\n",
    "    \"Potential energy is {pe_acceptable}\", \n",
    "    pe_acceptable=PE_ACCEPTABLE, nsamples=5, labels=0\n",
    ")\n",
    "samples += editor.template(\n",
    "    \"Kinetic energy is {ke_acceptable}\",\n",
    "    ke_acceptable=KE_ACCEPTABLE, nsamples=5, labels=0\n",
    ")\n",
    "samples += editor.template(\n",
    "    \"The Law of Conservation of energy states {lce_acceptable}.\",\n",
    "    lce_acceptable=LCE_ACCEPTABLE, nsamples=5, labels=0\n",
    ")\n",
    "\n",
    "data, frequencies = getData(samples, \"Acceptable\")\n",
    "\n",
    "# data, freqs = getData(samples)\n",
    "# test = MFT(samples.data, labels=samples.labels, name=\"Test vocab + POS\", capability=\"Vocab + POS\")\n",
    "# test.run()\n",
    "# test.summary()"
   ],
   "metadata": {
    "collapsed": false,
    "ExecuteTime": {
     "end_time": "2023-10-16T00:28:43.453700Z",
     "start_time": "2023-10-16T00:28:43.439870Z"
    }
   },
   "id": "8eb7dcc5a7653bd3"
  },
  {
   "cell_type": "markdown",
   "source": [
    "### Check for incorrect definitions\n",
    "should return unacceptable"
   ],
   "metadata": {
    "collapsed": false
   },
   "id": "4ac08040e7d3582b"
  },
  {
   "cell_type": "code",
   "execution_count": 11,
   "outputs": [],
   "source": [
    "samples = editor.template(\n",
    "    \"Potential energy is {pe_unacceptable}\",\n",
    "    pe_unacceptable=PE_UNACCEPTABLE, nsamples=5, labels=0\n",
    ")\n",
    "samples += editor.template(\n",
    "    \"Kinetic energy is {ke_unacceptable}\",\n",
    "    ke_unacceptable=KE_UNACCEPTABLE, nsamples=5, labels=0\n",
    ")\n",
    "samples += editor.template(\n",
    "    \"The Law of Conservation of energy states {lce_unacceptable}.\",\n",
    "    lce_unacceptable=LCE_UNACCEPTABLE, nsamples=5, labels=0\n",
    ")\n",
    "\n",
    "data, freqs = getData(samples, \"Unacceptable\")"
   ],
   "metadata": {
    "collapsed": false,
    "ExecuteTime": {
     "end_time": "2023-10-16T00:30:15.277574Z",
     "start_time": "2023-10-16T00:30:15.263526Z"
    }
   },
   "id": "8660cf26eaebe45f"
  },
  {
   "cell_type": "markdown",
   "source": [
    "### Check insufficient definitions\n",
    "should return insufficient"
   ],
   "metadata": {
    "collapsed": false
   },
   "id": "41633acc20c4ab92"
  },
  {
   "cell_type": "code",
   "execution_count": 14,
   "outputs": [
    {
     "name": "stdout",
     "output_type": "stream",
     "text": [
      "FAIL: Potential energy is 4 Joules at the top of the roller coaster\n",
      "FAIL: Potential energy is 4 Joules at the top of the roller coaster\n",
      "FAIL: Potential energy is measured in Joules\n",
      "FAIL: Potential energy is equal to m*h*9.8\n",
      "FAIL: Kinetic energy is 4 Joules at the bottom of the roller coaster\n",
      "FAIL: Kinetic energy is 4 Joules at the bottom of the roller coaster\n",
      "FAIL: Kinetic energy is equal to .5*m*v^2\n",
      "FAIL: The Law of Conservation of energy states K1 + U1 = K2 + U2.\n",
      "FAIL: The Law of Conservation of energy states K1 + U1 = K2 + U2.\n",
      "FAIL: The Law of Conservation of energy states As the car goes down the hill, some energy is lost to friction as heat.\n",
      "FAIL: The Law of Conservation of energy states K1 + U1 = K2 + U2.\n",
      "FAIL: The Law of Conservation of energy states As the car goes down the hill, some energy is lost to friction as heat.\n",
      "12fails out of 15tests\n"
     ]
    }
   ],
   "source": [
    "samples = editor.template(\n",
    "    \"Potential energy is {pe_insufficient}\",\n",
    "    pe_insufficient=PE_INSUFFICIENT, nsamples=5, labels=0\n",
    ")\n",
    "samples += editor.template(\n",
    "    \"Kinetic energy is {ke_insufficient}\",\n",
    "    ke_insufficient=KE_INSUFFICIENT, nsamples=5, labels=0\n",
    ")\n",
    "samples += editor.template(\n",
    "    \"The Law of Conservation of energy states {lce_insufficient}.\",\n",
    "    lce_insufficient=LCE_INSUFFICIENT, nsamples=5, labels=0\n",
    ")\n",
    "\n",
    "data, freqs = getData(samples, \"Insufficient\")"
   ],
   "metadata": {
    "collapsed": false,
    "ExecuteTime": {
     "end_time": "2023-10-16T01:43:56.273818Z",
     "start_time": "2023-10-16T01:43:56.244634Z"
    }
   },
   "id": "fd9a389d3b29ad9e"
  },
  {
   "cell_type": "markdown",
   "source": [
    "## Directional Tests\n",
    "\n",
    "### Correct definitions followed by incorrect definition\n",
    "correctness should not go up"
   ],
   "metadata": {
    "collapsed": false
   },
   "id": "2ba286361caabaed"
  },
  {
   "cell_type": "code",
   "execution_count": 15,
   "outputs": [
    {
     "ename": "TypeError",
     "evalue": "getData() missing 1 required positional argument: 'actualLabel'",
     "output_type": "error",
     "traceback": [
      "\u001B[0;31m---------------------------------------------------------------------------\u001B[0m",
      "\u001B[0;31mTypeError\u001B[0m                                 Traceback (most recent call last)",
      "Cell \u001B[0;32mIn[15], line 9\u001B[0m\n\u001B[1;32m      1\u001B[0m samples \u001B[38;5;241m=\u001B[39m editor\u001B[38;5;241m.\u001B[39mtemplate(\n\u001B[1;32m      2\u001B[0m     \u001B[38;5;124m\"\u001B[39m\u001B[38;5;124mPotential energy is \u001B[39m\u001B[38;5;132;01m{pe_acceptable}\u001B[39;00m\u001B[38;5;124m. potential energy is \u001B[39m\u001B[38;5;132;01m{pe_unacceptable}\u001B[39;00m\u001B[38;5;124m. Kinetic energy is \u001B[39m\u001B[38;5;132;01m{ke_acceptable}\u001B[39;00m\u001B[38;5;124m. kinetic energy is \u001B[39m\u001B[38;5;132;01m{ke_unacceptable}\u001B[39;00m\u001B[38;5;124m. The Law of Conservation of energy states \u001B[39m\u001B[38;5;132;01m{lce_acceptable}\u001B[39;00m\u001B[38;5;124m.\u001B[39m\u001B[38;5;124m\"\u001B[39m\n\u001B[1;32m      3\u001B[0m     \u001B[38;5;124m\"\u001B[39m\u001B[38;5;124mThe Law of Conservation of energy states \u001B[39m\u001B[38;5;132;01m{lce_unacceptable}\u001B[39;00m\u001B[38;5;124m\"\u001B[39m,\n\u001B[0;32m   (...)\u001B[0m\n\u001B[1;32m      6\u001B[0m     nsamples\u001B[38;5;241m=\u001B[39m\u001B[38;5;241m50\u001B[39m, labels\u001B[38;5;241m=\u001B[39m\u001B[38;5;241m0\u001B[39m\n\u001B[1;32m      7\u001B[0m )\n\u001B[0;32m----> 9\u001B[0m data, freqs \u001B[38;5;241m=\u001B[39m getData(samples)\n\u001B[1;32m     10\u001B[0m \u001B[38;5;28mprint\u001B[39m (samples\u001B[38;5;241m.\u001B[39mdata)\n",
      "\u001B[0;31mTypeError\u001B[0m: getData() missing 1 required positional argument: 'actualLabel'"
     ]
    }
   ],
   "source": [
    "samples = editor.template(\n",
    "    \"Potential energy is {pe_acceptable}. potential energy is {pe_unacceptable}. Kinetic energy is {ke_acceptable}. kinetic energy is {ke_unacceptable}. The Law of Conservation of energy states {lce_acceptable}.\"\n",
    "    \"The Law of Conservation of energy states {lce_unacceptable}\",\n",
    "    pe_acceptable=PE_ACCEPTABLE, ke_acceptable=KE_ACCEPTABLE, lce_acceptable=LCE_ACCEPTABLE,\n",
    "    pe_unacceptable=PE_UNACCEPTABLE, ke_unacceptable=KE_UNACCEPTABLE, lce_unacceptable=LCE_UNACCEPTABLE,\n",
    "    nsamples=50, labels=0\n",
    ")\n",
    "\n",
    "data, freqs = getData(samples)\n",
    "print (samples.data)"
   ],
   "metadata": {
    "collapsed": false,
    "ExecuteTime": {
     "end_time": "2023-10-16T01:44:36.996660Z",
     "start_time": "2023-10-16T01:44:36.946520Z"
    }
   },
   "id": "da6509b1ae653c3f"
  },
  {
   "cell_type": "markdown",
   "source": [
    "### Incorrect Definition followed by correct definition\n",
    "correctness should not go down"
   ],
   "metadata": {
    "collapsed": false
   },
   "id": "d2ed8ca72905cc93"
  },
  {
   "cell_type": "code",
   "execution_count": null,
   "outputs": [],
   "source": [
    "# code\n",
    "samples = editor.template(\n",
    "    \"Potential energy is {pe_unacceptable}. Potential energy is {pe_acceptable}. Kinetic energy is {ke_unacceptable}. Kinetic energy is {ke_acceptable}. The Law of Conservation of energy states {lce_unacceptable}.\"\n",
    "    \"The Law of Conservation of energy states {lce_acceptable}\",\n",
    "    pe_acceptable=PE_ACCEPTABLE, ke_acceptable=KE_ACCEPTABLE, lce_acceptable=LCE_ACCEPTABLE,\n",
    "    pe_unacceptable=PE_UNACCEPTABLE, ke_unacceptable=KE_UNACCEPTABLE, lce_unacceptable=LCE_UNACCEPTABLE,\n",
    "    nsamples=50, labels=0\n",
    ")\n",
    "\n",
    "\n",
    "data, freqs = getData(samples)"
   ],
   "metadata": {
    "collapsed": false
   },
   "id": "989899741afb0f9a"
  },
  {
   "cell_type": "markdown",
   "source": [
    "### Insufficient definition followed by correct definition\n",
    "Correctness should not go down"
   ],
   "metadata": {
    "collapsed": false
   },
   "id": "1ab3f4e8a0fe33b1"
  },
  {
   "cell_type": "code",
   "execution_count": null,
   "outputs": [],
   "source": [
    "samples = editor.template(\n",
    "    \"Potential energy is {pe_insufficient}. Potential energy is {pe_acceptable}. Kinetic energy is {ke_insufficient}. Kinetic energy is {ke_acceptable}. The Law of Conservation of energy states {lce_insufficient}.\"\n",
    "    \"The Law of Conservation of energy states {lce_acceptable}\",\n",
    "    pe_acceptable=PE_ACCEPTABLE, ke_acceptable=KE_ACCEPTABLE, lce_acceptable=LCE_ACCEPTABLE,\n",
    "    pe_insufficient=PE_INSUFFICIENT, ke_insufficient=KE_INSUFFICIENT, lce_insufficient=LCE_INSUFFICIENT,\n",
    "    nsamples=50, labels=0\n",
    ")\n",
    "\n",
    "data, freqs = getData(samples)"
   ],
   "metadata": {
    "collapsed": false
   },
   "id": "3c3c4d79e3a0f5d"
  },
  {
   "cell_type": "markdown",
   "source": [
    "### Insufficient definition followed by incorrect definition\n",
    "Correctness should not go up"
   ],
   "metadata": {
    "collapsed": false
   },
   "id": "276f7a64598a9f88"
  },
  {
   "cell_type": "code",
   "execution_count": null,
   "outputs": [],
   "source": [
    "samples = editor.template(\n",
    "    \"Potential energy is {pe_insufficient}. Potential energy is {pe_unacceptable}. Kinetic energy is {ke_insufficient}. Kinetic energy is {ke_unacceptable}. The Law of Conservation of energy states {lce_insufficient}.\"\n",
    "    \"The Law of Conservation of energy states {lce_unacceptable}\",\n",
    "    pe_unacceptable=PE_UNACCEPTABLE, ke_unacceptable=KE_UNACCEPTABLE, lce_unacceptable=LCE_UNACCEPTABLE,\n",
    "    pe_insufficient=PE_INSUFFICIENT, ke_insufficient=KE_INSUFFICIENT, lce_insufficient=LCE_INSUFFICIENT,\n",
    "    nsamples=50, labels=0\n",
    ")\n",
    "\n",
    "data, freqs = getData(samples)\n"
   ],
   "metadata": {
    "collapsed": false
   },
   "id": "7b675092d6c6ef69"
  },
  {
   "cell_type": "markdown",
   "source": [
    "# Negation\n",
    "\n",
    "## MFTs"
   ],
   "metadata": {
    "collapsed": false
   },
   "id": "97470dbd46d5f73d"
  },
  {
   "cell_type": "code",
   "execution_count": null,
   "outputs": [],
   "source": [
    "# code"
   ],
   "metadata": {
    "collapsed": false
   },
   "id": "dca15f624a3cddc"
  },
  {
   "cell_type": "markdown",
   "source": [
    "# Robustness\n",
    "\n",
    "## INV"
   ],
   "metadata": {
    "collapsed": false
   },
   "id": "c241e6cb1a490c1b"
  },
  {
   "cell_type": "code",
   "execution_count": null,
   "outputs": [],
   "source": [
    "# code"
   ],
   "metadata": {
    "collapsed": false
   },
   "id": "ea674b207f29e707"
  },
  {
   "cell_type": "markdown",
   "source": [
    "# Taxonomy\n",
    "\n",
    "## INV"
   ],
   "metadata": {
    "collapsed": false
   },
   "id": "cbfb57d037dd6990"
  },
  {
   "cell_type": "code",
   "execution_count": null,
   "outputs": [],
   "source": [
    "# code"
   ],
   "metadata": {
    "collapsed": false
   },
   "id": "6ecb7f30613d613f"
  },
  {
   "cell_type": "markdown",
   "source": [
    "# Fairness\n",
    "\n",
    "## INV"
   ],
   "metadata": {
    "collapsed": false
   },
   "id": "71dfb35eb71edd4c"
  },
  {
   "cell_type": "code",
   "execution_count": null,
   "outputs": [],
   "source": [
    "# code"
   ],
   "metadata": {
    "collapsed": false
   },
   "id": "13d86846d285ffd5"
  }
 ],
 "metadata": {
  "kernelspec": {
   "display_name": "Python 3",
   "language": "python",
   "name": "python3"
  },
  "language_info": {
   "codemirror_mode": {
    "name": "ipython",
    "version": 2
   },
   "file_extension": ".py",
   "mimetype": "text/x-python",
   "name": "python",
   "nbconvert_exporter": "python",
   "pygments_lexer": "ipython2",
   "version": "2.7.6"
  }
 },
 "nbformat": 4,
 "nbformat_minor": 5
}
