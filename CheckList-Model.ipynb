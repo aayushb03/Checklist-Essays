{
 "cells": [
  {
   "cell_type": "code",
   "execution_count": 1,
   "outputs": [],
   "source": [
    "from Models.FakeModel import Model\n",
    "\n",
    "import numpy as np\n",
    "from checklist.editor import Editor\n",
    "from checklist.perturb import Perturb\n",
    "from checklist.test_types import MFT, INV, DIR\n",
    "from checklist.pred_wrapper import PredictorWrapper"
   ],
   "metadata": {
    "collapsed": false,
    "ExecuteTime": {
     "end_time": "2023-10-23T02:02:02.005409Z",
     "start_time": "2023-10-23T02:01:58.922106Z"
    }
   },
   "id": "df32c724dadfb230"
  },
  {
   "cell_type": "code",
   "execution_count": 2,
   "outputs": [],
   "source": [
    "editor = Editor();"
   ],
   "metadata": {
    "collapsed": false,
    "ExecuteTime": {
     "end_time": "2023-10-23T02:02:05.726161Z",
     "start_time": "2023-10-23T02:02:05.602978Z"
    }
   },
   "id": "83d13a4369b5d5b6"
  },
  {
   "cell_type": "markdown",
   "source": [
    "## Example formatting for FakeModel"
   ],
   "metadata": {
    "collapsed": false
   },
   "id": "42f31abe7aaf0aad"
  },
  {
   "cell_type": "code",
   "execution_count": 3,
   "outputs": [
    {
     "name": "stdout",
     "output_type": "stream",
     "text": [
      "{'PE': 'Insufficient', 'KE': 'Insufficient', 'LCE': 'Insufficient', 'NF': 'Insufficient'}\n"
     ]
    }
   ],
   "source": [
    "model_instance = Model(\"abc\")\n",
    "res = model_instance()\n",
    "\n",
    "print(res)"
   ],
   "metadata": {
    "collapsed": false,
    "ExecuteTime": {
     "end_time": "2023-10-23T02:02:06.635821Z",
     "start_time": "2023-10-23T02:02:06.627882Z"
    }
   },
   "id": "55ccddc8e82178f2"
  },
  {
   "cell_type": "markdown",
   "source": [
    "## Valid Definitions"
   ],
   "metadata": {
    "collapsed": false
   },
   "id": "e543a00c0dd10ae4"
  },
  {
   "cell_type": "code",
   "execution_count": 4,
   "outputs": [],
   "source": [
    "PE_ACCEPTABLE = [\n",
    "    \"energy at rest\",\n",
    "    \"energy that a body has because of its position relative to other bodies\",\n",
    "    \"energy stored in the car at the top of the initial drop\",\n",
    "]\n",
    "PE_UNACCEPTABLE = [\n",
    "    \"energy in motion\",\n",
    "    \"energy lost as the car goes down the hill\",\n",
    "    \"opposite of kinetic energy\",\n",
    "]\n",
    "PE_INSUFFICIENT = [\n",
    "    \"4 Joules at the top of the roller coaster\",\n",
    "    \"measured in Joules\",\n",
    "    \"equal to m*h*9.8\",\n",
    "]\n",
    "\n",
    "KE_ACCEPTABLE = [\n",
    "    \"energy in motion\",\n",
    "    \"energy that the car has because it is moving\",\n",
    "    \"the work needed to accelerate the roller coaster car from rest\",\n",
    "]\n",
    "KE_UNACCEPTABLE = [\n",
    "    \"energy at rest\",\n",
    "    \"never lost nor gained as the car moves\",\n",
    "    \"the opposite of potantial energy\",\n",
    "]\n",
    "KE_INSUFFICIENT = [\n",
    "    \"4 Joules at the bottom of the roller coaster\",\n",
    "    \"measured in Joules\",\n",
    "    \"equal to .5*m*v^2\",\n",
    "]\n",
    "\n",
    "LCE_ACCEPTABLE = [\n",
    "    \"energy cannot be created or destroyed, only transformed\",\n",
    "    \"the total energy of an isolated system remains constant\",\n",
    "    \"energy can be converted from one form to another, but never created or destroyed\",\n",
    "]\n",
    "LCE_UNACCEPTABLE = [\n",
    "    \"energy can be created or destroyed, not transformed\",\n",
    "    \"the total energy of an isolated system will change\",\n",
    "]\n",
    "LCE_INSUFFICIENT = [\n",
    "    \"K1 + U1 = K2 + U2\",\n",
    "    \"potential energy transforms into kinetic energy\",\n",
    "    \"As the car goes down the hill, some energy is lost to friction as heat\",\n",
    "]\n"
   ],
   "metadata": {
    "collapsed": false,
    "ExecuteTime": {
     "end_time": "2023-10-23T02:02:08.564276Z",
     "start_time": "2023-10-23T02:02:08.550627Z"
    }
   },
   "id": "2ce9daafda966444"
  },
  {
   "cell_type": "markdown",
   "source": [
    "## Function for getting data and frequencies"
   ],
   "metadata": {
    "collapsed": false
   },
   "id": "316264aa42e0c19b"
  },
  {
   "cell_type": "code",
   "execution_count": 5,
   "outputs": [],
   "source": [
    "def getData(samples, expected):\n",
    "    # data = {\n",
    "    #     'PE':[],\n",
    "    #     'KE':[],\n",
    "    #     'LCE':[],\n",
    "    # }\n",
    "    # frequencies = {\n",
    "    #     'PE':{'Acceptable':0, 'Unacceptable':0, 'Insufficient':0, 'Not Found':0},\n",
    "    #     'KE':{'Acceptable':0, 'Unacceptable':0, 'Insufficient':0, 'Not Found':0},\n",
    "    #     'LCE':{'Acceptable':0, 'Unacceptable':0, 'Insufficient':0, 'Not Found':0},\n",
    "    # }\n",
    "    fails = 0\n",
    "    for sample in samples.data:\n",
    "        d = Model(sample)()\n",
    "        label = d['PE'] if len(d['PE']) != 0 else d['KE'] if len(d['KE']) != 0 else d['LCE']\n",
    "        score = 0\n",
    "        if expected['PE'] == d['PE']:\n",
    "            score += 1\n",
    "        if expected['KE'] == d['KE']:\n",
    "            score += 1\n",
    "        if expected['LCE'] == d['LCE']:\n",
    "            score += 1\n",
    "            \n",
    "        if score != 3:\n",
    "            print(\"FAIL: \" + sample)\n",
    "            print(\" Actual: \" + str(d))\n",
    "            print(\" Expected: \" + str(expected))\n",
    "            fails += 1\n",
    "        \n",
    "        \n",
    "        # data['PE'].append(d['PE'])\n",
    "        # data['KE'].append(d['KE'])\n",
    "        # data['LCE'].append(d['LCE'])\n",
    "        # frequencies['PE'][d['PE']] += 1\n",
    "        # frequencies['KE'][d['KE']] += 1\n",
    "        # frequencies['LCE'][d['LCE']] += 1\n",
    "    print(str(fails) + \" fails out of \" + str(len(samples.data)) + \" tests\")\n",
    "    return\n",
    "    # return data, frequencies\n",
    "\n",
    "# def runtest(text):\n",
    "#     res = {}\n",
    "#     d = Model(text)()\n",
    "#     res['PE'] = d['PE']\n",
    "#     res['KE'] = d['PE']\n",
    "#     res['LCE'] = d['LCE']\n",
    "#     return res\n"
   ],
   "metadata": {
    "collapsed": false,
    "ExecuteTime": {
     "end_time": "2023-10-23T02:02:11.405270Z",
     "start_time": "2023-10-23T02:02:11.394340Z"
    }
   },
   "id": "2756ff837059356d"
  },
  {
   "cell_type": "markdown",
   "source": [
    "# **Vocab + POS**\n",
    "\n",
    "## Minimum Functionality Tests\n",
    "### Check for correct definitions\n",
    "Should return acceptable"
   ],
   "metadata": {
    "collapsed": false
   },
   "id": "26b6f93956a668bb"
  },
  {
   "cell_type": "code",
   "execution_count": 6,
   "outputs": [
    {
     "name": "stdout",
     "output_type": "stream",
     "text": [
      "FAIL: Potential energy is energy at rest\n",
      " Actual: {'PE': 'Unacceptable', 'KE': 'Unacceptable', 'LCE': 'Not Found', 'NF': 'Insufficient'}\n",
      " Expected: {'PE': 'Acceptable', 'KE': 'Not Found', 'LCE': 'Not Found'}\n",
      "FAIL: Potential energy is energy that a body has because of its position relative to other bodies\n",
      " Actual: {'PE': 'Insufficient', 'KE': 'Acceptable', 'LCE': 'Unacceptable', 'NF': 'Acceptable'}\n",
      " Expected: {'PE': 'Acceptable', 'KE': 'Not Found', 'LCE': 'Not Found'}\n",
      "FAIL: Potential energy is energy stored in the car at the top of the initial drop\n",
      " Actual: {'PE': 'Insufficient', 'KE': 'Acceptable', 'LCE': 'Insufficient', 'NF': 'Acceptable'}\n",
      " Expected: {'PE': 'Acceptable', 'KE': 'Not Found', 'LCE': 'Not Found'}\n",
      "3 fails out of 3 tests\n",
      "FAIL: Kinetic energy is energy in motion\n",
      " Actual: {'PE': 'Insufficient', 'KE': 'Acceptable', 'LCE': 'Acceptable', 'NF': 'Unacceptable'}\n",
      " Expected: {'PE': 'Not Found', 'KE': 'Acceptable', 'LCE': 'Not Found'}\n",
      "FAIL: Kinetic energy is energy that the car has because it is moving\n",
      " Actual: {'PE': 'Acceptable', 'KE': 'Insufficient', 'LCE': 'Not Found', 'NF': 'Not Found'}\n",
      " Expected: {'PE': 'Not Found', 'KE': 'Acceptable', 'LCE': 'Not Found'}\n",
      "FAIL: Kinetic energy is the work needed to accelerate the roller coaster car from rest\n",
      " Actual: {'PE': 'Insufficient', 'KE': 'Insufficient', 'LCE': 'Unacceptable', 'NF': 'Unacceptable'}\n",
      " Expected: {'PE': 'Not Found', 'KE': 'Acceptable', 'LCE': 'Not Found'}\n",
      "3 fails out of 3 tests\n",
      "FAIL: The Law of Conservation of energy states energy cannot be created or destroyed, only transformed.\n",
      " Actual: {'PE': 'Insufficient', 'KE': 'Unacceptable', 'LCE': 'Not Found', 'NF': 'Acceptable'}\n",
      " Expected: {'PE': 'Not Found', 'KE': 'Not Found', 'LCE': 'Acceptable'}\n",
      "FAIL: The Law of Conservation of energy states the total energy of an isolated system remains constant.\n",
      " Actual: {'PE': 'Insufficient', 'KE': 'Acceptable', 'LCE': 'Insufficient', 'NF': 'Unacceptable'}\n",
      " Expected: {'PE': 'Not Found', 'KE': 'Not Found', 'LCE': 'Acceptable'}\n",
      "FAIL: The Law of Conservation of energy states energy can be converted from one form to another, but never created or destroyed.\n",
      " Actual: {'PE': 'Not Found', 'KE': 'Insufficient', 'LCE': 'Not Found', 'NF': 'Acceptable'}\n",
      " Expected: {'PE': 'Not Found', 'KE': 'Not Found', 'LCE': 'Acceptable'}\n",
      "3 fails out of 3 tests\n"
     ]
    }
   ],
   "source": [
    "samples = editor.template(\n",
    "    \"Potential energy is {pe_acceptable}\", \n",
    "    pe_acceptable=PE_ACCEPTABLE\n",
    ")\n",
    "getData(samples, {\"PE\": \"Acceptable\", \"KE\": \"Not Found\", \"LCE\": \"Not Found\"})\n",
    "\n",
    "samples = editor.template(\n",
    "    \"Kinetic energy is {ke_acceptable}\",\n",
    "    ke_acceptable=KE_ACCEPTABLE\n",
    ")\n",
    "getData(samples, {\"PE\": \"Not Found\", \"KE\": \"Acceptable\", \"LCE\": \"Not Found\"})\n",
    "\n",
    "samples = editor.template(\n",
    "    \"The Law of Conservation of energy states {lce_acceptable}.\",\n",
    "    lce_acceptable=LCE_ACCEPTABLE\n",
    ")\n",
    "getData(samples, {\"PE\": \"Not Found\", \"KE\": \"Not Found\", \"LCE\": \"Acceptable\"})\n",
    "\n",
    "# data, freqs = getData(samples)\n",
    "# test = MFT(samples.data, labels=samples.labels, name=\"Test vocab + POS\", capability=\"Vocab + POS\")\n",
    "# test.run()\n",
    "# test.summary()"
   ],
   "metadata": {
    "collapsed": false,
    "ExecuteTime": {
     "end_time": "2023-10-23T02:02:12.919597Z",
     "start_time": "2023-10-23T02:02:12.913569Z"
    }
   },
   "id": "8eb7dcc5a7653bd3"
  },
  {
   "cell_type": "markdown",
   "source": [
    "### Check for incorrect definitions\n",
    "should return unacceptable"
   ],
   "metadata": {
    "collapsed": false
   },
   "id": "4ac08040e7d3582b"
  },
  {
   "cell_type": "code",
   "execution_count": 7,
   "outputs": [
    {
     "name": "stdout",
     "output_type": "stream",
     "text": [
      "FAIL: Potential energy is energy in motion\n",
      " Actual: {'PE': 'Acceptable', 'KE': 'Not Found', 'LCE': 'Not Found', 'NF': 'Insufficient'}\n",
      " Expected: {'PE': 'Unacceptable', 'KE': 'Not Found', 'LCE': 'Not Found'}\n",
      "FAIL: Potential energy is energy lost as the car goes down the hill\n",
      " Actual: {'PE': 'Acceptable', 'KE': 'Insufficient', 'LCE': 'Unacceptable', 'NF': 'Insufficient'}\n",
      " Expected: {'PE': 'Unacceptable', 'KE': 'Not Found', 'LCE': 'Not Found'}\n",
      "FAIL: Potential energy is opposite of kinetic energy\n",
      " Actual: {'PE': 'Not Found', 'KE': 'Insufficient', 'LCE': 'Unacceptable', 'NF': 'Unacceptable'}\n",
      " Expected: {'PE': 'Unacceptable', 'KE': 'Not Found', 'LCE': 'Not Found'}\n",
      "3 fails out of 3 tests\n",
      "FAIL: Kinetic energy is energy at rest\n",
      " Actual: {'PE': 'Acceptable', 'KE': 'Unacceptable', 'LCE': 'Not Found', 'NF': 'Acceptable'}\n",
      " Expected: {'PE': 'Not Found', 'KE': 'Unacceptable', 'LCE': 'Not Found'}\n",
      "FAIL: Kinetic energy is never lost nor gained as the car moves\n",
      " Actual: {'PE': 'Insufficient', 'KE': 'Not Found', 'LCE': 'Not Found', 'NF': 'Acceptable'}\n",
      " Expected: {'PE': 'Not Found', 'KE': 'Unacceptable', 'LCE': 'Not Found'}\n",
      "FAIL: Kinetic energy is the opposite of potantial energy\n",
      " Actual: {'PE': 'Not Found', 'KE': 'Acceptable', 'LCE': 'Not Found', 'NF': 'Insufficient'}\n",
      " Expected: {'PE': 'Not Found', 'KE': 'Unacceptable', 'LCE': 'Not Found'}\n",
      "3 fails out of 3 tests\n",
      "FAIL: The Law of Conservation of energy states energy can be created or destroyed, not transformed.\n",
      " Actual: {'PE': 'Insufficient', 'KE': 'Unacceptable', 'LCE': 'Unacceptable', 'NF': 'Insufficient'}\n",
      " Expected: {'PE': 'Not Found', 'KE': 'Not Found', 'LCE': 'Unacceptable'}\n",
      "FAIL: The Law of Conservation of energy states the total energy of an isolated system will change.\n",
      " Actual: {'PE': 'Acceptable', 'KE': 'Unacceptable', 'LCE': 'Not Found', 'NF': 'Insufficient'}\n",
      " Expected: {'PE': 'Not Found', 'KE': 'Not Found', 'LCE': 'Unacceptable'}\n",
      "2 fails out of 2 tests\n"
     ]
    }
   ],
   "source": [
    "samples = editor.template(\n",
    "    \"Potential energy is {pe_unacceptable}\",\n",
    "    pe_unacceptable=PE_UNACCEPTABLE\n",
    ")\n",
    "getData(samples, {\"PE\": \"Unacceptable\", \"KE\": \"Not Found\", \"LCE\": \"Not Found\"})\n",
    "\n",
    "samples = editor.template(\n",
    "    \"Kinetic energy is {ke_unacceptable}\",\n",
    "    ke_unacceptable=KE_UNACCEPTABLE\n",
    ")\n",
    "getData(samples, {\"PE\": \"Not Found\", \"KE\": \"Unacceptable\", \"LCE\": \"Not Found\"})\n",
    "\n",
    "samples = editor.template(\n",
    "    \"The Law of Conservation of energy states {lce_unacceptable}.\",\n",
    "    lce_unacceptable=LCE_UNACCEPTABLE\n",
    ")\n",
    "getData(samples, {\"PE\": \"Not Found\", \"KE\": \"Not Found\", \"LCE\": \"Unacceptable\"})"
   ],
   "metadata": {
    "collapsed": false,
    "ExecuteTime": {
     "end_time": "2023-10-23T02:02:14.957057Z",
     "start_time": "2023-10-23T02:02:14.950631Z"
    }
   },
   "id": "8660cf26eaebe45f"
  },
  {
   "cell_type": "markdown",
   "source": [
    "### Check insufficient definitions\n",
    "should return insufficient"
   ],
   "metadata": {
    "collapsed": false
   },
   "id": "41633acc20c4ab92"
  },
  {
   "cell_type": "code",
   "execution_count": 8,
   "outputs": [
    {
     "name": "stdout",
     "output_type": "stream",
     "text": [
      "FAIL: Potential energy is 4 Joules at the top of the roller coaster\n",
      " Actual: {'PE': 'Not Found', 'KE': 'Insufficient', 'LCE': 'Insufficient', 'NF': 'Acceptable'}\n",
      " Expected: {'PE': 'Insufficient', 'KE': 'Not Found', 'LCE': 'Not Found'}\n",
      "FAIL: Potential energy is measured in Joules\n",
      " Actual: {'PE': 'Acceptable', 'KE': 'Acceptable', 'LCE': 'Acceptable', 'NF': 'Insufficient'}\n",
      " Expected: {'PE': 'Insufficient', 'KE': 'Not Found', 'LCE': 'Not Found'}\n",
      "FAIL: Potential energy is equal to m*h*9.8\n",
      " Actual: {'PE': 'Insufficient', 'KE': 'Unacceptable', 'LCE': 'Not Found', 'NF': 'Not Found'}\n",
      " Expected: {'PE': 'Insufficient', 'KE': 'Not Found', 'LCE': 'Not Found'}\n",
      "3 fails out of 3 tests\n",
      "FAIL: Kinetic energy is 4 Joules at the bottom of the roller coaster\n",
      " Actual: {'PE': 'Not Found', 'KE': 'Not Found', 'LCE': 'Unacceptable', 'NF': 'Insufficient'}\n",
      " Expected: {'PE': 'Not Found', 'KE': 'Insufficient', 'LCE': 'Not Found'}\n",
      "FAIL: Kinetic energy is measured in Joules\n",
      " Actual: {'PE': 'Unacceptable', 'KE': 'Not Found', 'LCE': 'Unacceptable', 'NF': 'Not Found'}\n",
      " Expected: {'PE': 'Not Found', 'KE': 'Insufficient', 'LCE': 'Not Found'}\n",
      "FAIL: Kinetic energy is equal to .5*m*v^2\n",
      " Actual: {'PE': 'Not Found', 'KE': 'Unacceptable', 'LCE': 'Insufficient', 'NF': 'Acceptable'}\n",
      " Expected: {'PE': 'Not Found', 'KE': 'Insufficient', 'LCE': 'Not Found'}\n",
      "3 fails out of 3 tests\n",
      "FAIL: The Law of Conservation of energy states K1 + U1 = K2 + U2.\n",
      " Actual: {'PE': 'Not Found', 'KE': 'Insufficient', 'LCE': 'Not Found', 'NF': 'Unacceptable'}\n",
      " Expected: {'PE': 'Not Found', 'KE': 'Not Found', 'LCE': 'Insufficient'}\n",
      "FAIL: The Law of Conservation of energy states potential energy transforms into kinetic energy.\n",
      " Actual: {'PE': 'Not Found', 'KE': 'Unacceptable', 'LCE': 'Unacceptable', 'NF': 'Unacceptable'}\n",
      " Expected: {'PE': 'Not Found', 'KE': 'Not Found', 'LCE': 'Insufficient'}\n",
      "FAIL: The Law of Conservation of energy states As the car goes down the hill, some energy is lost to friction as heat.\n",
      " Actual: {'PE': 'Unacceptable', 'KE': 'Acceptable', 'LCE': 'Not Found', 'NF': 'Not Found'}\n",
      " Expected: {'PE': 'Not Found', 'KE': 'Not Found', 'LCE': 'Insufficient'}\n",
      "3 fails out of 3 tests\n"
     ]
    }
   ],
   "source": [
    "samples = editor.template(\n",
    "    \"Potential energy is {pe_insufficient}\",\n",
    "    pe_insufficient=PE_INSUFFICIENT\n",
    ")\n",
    "getData(samples, {\"PE\": \"Insufficient\", \"KE\": \"Not Found\", \"LCE\": \"Not Found\"})\n",
    "\n",
    "samples = editor.template(\n",
    "    \"Kinetic energy is {ke_insufficient}\",\n",
    "    ke_insufficient=KE_INSUFFICIENT\n",
    ")\n",
    "getData(samples, {\"PE\": \"Not Found\", \"KE\": \"Insufficient\", \"LCE\": \"Not Found\"})\n",
    "\n",
    "samples = editor.template(\n",
    "    \"The Law of Conservation of energy states {lce_insufficient}.\",\n",
    "    lce_insufficient=LCE_INSUFFICIENT\n",
    ")\n",
    "getData(samples, {\"PE\": \"Not Found\", \"KE\": \"Not Found\", \"LCE\": \"Insufficient\"})"
   ],
   "metadata": {
    "collapsed": false,
    "ExecuteTime": {
     "end_time": "2023-10-23T02:02:15.836929Z",
     "start_time": "2023-10-23T02:02:15.827139Z"
    }
   },
   "id": "fd9a389d3b29ad9e"
  },
  {
   "cell_type": "markdown",
   "source": [
    "## Directional Tests\n",
    "\n",
    "### Correct definitions followed by incorrect definition\n",
    "correctness should not go up"
   ],
   "metadata": {
    "collapsed": false
   },
   "id": "2ba286361caabaed"
  },
  {
   "cell_type": "code",
   "execution_count": 9,
   "outputs": [
    {
     "name": "stdout",
     "output_type": "stream",
     "text": [
      "FAIL: Potential energy is energy at rest. Potential energy is energy in motion.\n",
      " Actual: {'PE': 'Acceptable', 'KE': 'Unacceptable', 'LCE': 'Unacceptable', 'NF': 'Not Found'}\n",
      " Expected: {'PE': 'Acceptable', 'KE': 'Not Found', 'LCE': 'Not Found'}\n",
      "FAIL: Potential energy is energy at rest. Potential energy is energy lost as the car goes down the hill.\n",
      " Actual: {'PE': 'Insufficient', 'KE': 'Not Found', 'LCE': 'Insufficient', 'NF': 'Acceptable'}\n",
      " Expected: {'PE': 'Acceptable', 'KE': 'Not Found', 'LCE': 'Not Found'}\n",
      "FAIL: Potential energy is energy at rest. Potential energy is opposite of kinetic energy.\n",
      " Actual: {'PE': 'Not Found', 'KE': 'Acceptable', 'LCE': 'Unacceptable', 'NF': 'Acceptable'}\n",
      " Expected: {'PE': 'Acceptable', 'KE': 'Not Found', 'LCE': 'Not Found'}\n",
      "FAIL: Potential energy is energy that a body has because of its position relative to other bodies. Potential energy is energy in motion.\n",
      " Actual: {'PE': 'Insufficient', 'KE': 'Acceptable', 'LCE': 'Not Found', 'NF': 'Not Found'}\n",
      " Expected: {'PE': 'Acceptable', 'KE': 'Not Found', 'LCE': 'Not Found'}\n",
      "FAIL: Potential energy is energy that a body has because of its position relative to other bodies. Potential energy is energy lost as the car goes down the hill.\n",
      " Actual: {'PE': 'Acceptable', 'KE': 'Acceptable', 'LCE': 'Not Found', 'NF': 'Unacceptable'}\n",
      " Expected: {'PE': 'Acceptable', 'KE': 'Not Found', 'LCE': 'Not Found'}\n",
      "FAIL: Potential energy is energy that a body has because of its position relative to other bodies. Potential energy is opposite of kinetic energy.\n",
      " Actual: {'PE': 'Not Found', 'KE': 'Not Found', 'LCE': 'Not Found', 'NF': 'Acceptable'}\n",
      " Expected: {'PE': 'Acceptable', 'KE': 'Not Found', 'LCE': 'Not Found'}\n",
      "FAIL: Potential energy is energy stored in the car at the top of the initial drop. Potential energy is energy in motion.\n",
      " Actual: {'PE': 'Acceptable', 'KE': 'Not Found', 'LCE': 'Acceptable', 'NF': 'Not Found'}\n",
      " Expected: {'PE': 'Acceptable', 'KE': 'Not Found', 'LCE': 'Not Found'}\n",
      "FAIL: Potential energy is energy stored in the car at the top of the initial drop. Potential energy is energy lost as the car goes down the hill.\n",
      " Actual: {'PE': 'Insufficient', 'KE': 'Insufficient', 'LCE': 'Not Found', 'NF': 'Unacceptable'}\n",
      " Expected: {'PE': 'Acceptable', 'KE': 'Not Found', 'LCE': 'Not Found'}\n",
      "FAIL: Potential energy is energy stored in the car at the top of the initial drop. Potential energy is opposite of kinetic energy.\n",
      " Actual: {'PE': 'Acceptable', 'KE': 'Not Found', 'LCE': 'Unacceptable', 'NF': 'Insufficient'}\n",
      " Expected: {'PE': 'Acceptable', 'KE': 'Not Found', 'LCE': 'Not Found'}\n",
      "9 fails out of 9 tests\n",
      "FAIL: Kinetic energy is energy in motion. Kinetic energy is energy at rest.\n",
      " Actual: {'PE': 'Not Found', 'KE': 'Not Found', 'LCE': 'Insufficient', 'NF': 'Not Found'}\n",
      " Expected: {'PE': 'Not Found', 'KE': 'Acceptable', 'LCE': 'Not Found'}\n",
      "FAIL: Kinetic energy is energy in motion. Kinetic energy is never lost nor gained as the car moves.\n",
      " Actual: {'PE': 'Not Found', 'KE': 'Not Found', 'LCE': 'Unacceptable', 'NF': 'Unacceptable'}\n",
      " Expected: {'PE': 'Not Found', 'KE': 'Acceptable', 'LCE': 'Not Found'}\n",
      "FAIL: Kinetic energy is energy in motion. Kinetic energy is the opposite of potantial energy.\n",
      " Actual: {'PE': 'Acceptable', 'KE': 'Not Found', 'LCE': 'Not Found', 'NF': 'Unacceptable'}\n",
      " Expected: {'PE': 'Not Found', 'KE': 'Acceptable', 'LCE': 'Not Found'}\n",
      "FAIL: Kinetic energy is energy that the car has because it is moving. Kinetic energy is energy at rest.\n",
      " Actual: {'PE': 'Acceptable', 'KE': 'Unacceptable', 'LCE': 'Not Found', 'NF': 'Unacceptable'}\n",
      " Expected: {'PE': 'Not Found', 'KE': 'Acceptable', 'LCE': 'Not Found'}\n",
      "FAIL: Kinetic energy is energy that the car has because it is moving. Kinetic energy is never lost nor gained as the car moves.\n",
      " Actual: {'PE': 'Not Found', 'KE': 'Not Found', 'LCE': 'Acceptable', 'NF': 'Insufficient'}\n",
      " Expected: {'PE': 'Not Found', 'KE': 'Acceptable', 'LCE': 'Not Found'}\n",
      "FAIL: Kinetic energy is energy that the car has because it is moving. Kinetic energy is the opposite of potantial energy.\n",
      " Actual: {'PE': 'Insufficient', 'KE': 'Not Found', 'LCE': 'Acceptable', 'NF': 'Not Found'}\n",
      " Expected: {'PE': 'Not Found', 'KE': 'Acceptable', 'LCE': 'Not Found'}\n",
      "FAIL: Kinetic energy is the work needed to accelerate the roller coaster car from rest. Kinetic energy is energy at rest.\n",
      " Actual: {'PE': 'Unacceptable', 'KE': 'Insufficient', 'LCE': 'Acceptable', 'NF': 'Insufficient'}\n",
      " Expected: {'PE': 'Not Found', 'KE': 'Acceptable', 'LCE': 'Not Found'}\n",
      "FAIL: Kinetic energy is the work needed to accelerate the roller coaster car from rest. Kinetic energy is never lost nor gained as the car moves.\n",
      " Actual: {'PE': 'Acceptable', 'KE': 'Not Found', 'LCE': 'Acceptable', 'NF': 'Insufficient'}\n",
      " Expected: {'PE': 'Not Found', 'KE': 'Acceptable', 'LCE': 'Not Found'}\n",
      "FAIL: Kinetic energy is the work needed to accelerate the roller coaster car from rest. Kinetic energy is the opposite of potantial energy.\n",
      " Actual: {'PE': 'Acceptable', 'KE': 'Insufficient', 'LCE': 'Insufficient', 'NF': 'Unacceptable'}\n",
      " Expected: {'PE': 'Not Found', 'KE': 'Acceptable', 'LCE': 'Not Found'}\n",
      "9 fails out of 9 tests\n",
      "FAIL: The Law of Conservation of energy states energy cannot be created or destroyed, only transformed. The Law of Conservation of energy states energy can be created or destroyed, not transformed.\n",
      " Actual: {'PE': 'Unacceptable', 'KE': 'Not Found', 'LCE': 'Acceptable', 'NF': 'Insufficient'}\n",
      " Expected: {'PE': 'Not Found', 'KE': 'Not Found', 'LCE': 'Acceptable'}\n",
      "FAIL: The Law of Conservation of energy states energy cannot be created or destroyed, only transformed. The Law of Conservation of energy states the total energy of an isolated system will change.\n",
      " Actual: {'PE': 'Insufficient', 'KE': 'Insufficient', 'LCE': 'Insufficient', 'NF': 'Not Found'}\n",
      " Expected: {'PE': 'Not Found', 'KE': 'Not Found', 'LCE': 'Acceptable'}\n",
      "FAIL: The Law of Conservation of energy states the total energy of an isolated system remains constant. The Law of Conservation of energy states energy can be created or destroyed, not transformed.\n",
      " Actual: {'PE': 'Acceptable', 'KE': 'Unacceptable', 'LCE': 'Not Found', 'NF': 'Acceptable'}\n",
      " Expected: {'PE': 'Not Found', 'KE': 'Not Found', 'LCE': 'Acceptable'}\n",
      "FAIL: The Law of Conservation of energy states the total energy of an isolated system remains constant. The Law of Conservation of energy states the total energy of an isolated system will change.\n",
      " Actual: {'PE': 'Not Found', 'KE': 'Unacceptable', 'LCE': 'Insufficient', 'NF': 'Acceptable'}\n",
      " Expected: {'PE': 'Not Found', 'KE': 'Not Found', 'LCE': 'Acceptable'}\n",
      "FAIL: The Law of Conservation of energy states energy can be converted from one form to another, but never created or destroyed. The Law of Conservation of energy states energy can be created or destroyed, not transformed.\n",
      " Actual: {'PE': 'Not Found', 'KE': 'Unacceptable', 'LCE': 'Not Found', 'NF': 'Unacceptable'}\n",
      " Expected: {'PE': 'Not Found', 'KE': 'Not Found', 'LCE': 'Acceptable'}\n",
      "FAIL: The Law of Conservation of energy states energy can be converted from one form to another, but never created or destroyed. The Law of Conservation of energy states the total energy of an isolated system will change.\n",
      " Actual: {'PE': 'Insufficient', 'KE': 'Insufficient', 'LCE': 'Insufficient', 'NF': 'Unacceptable'}\n",
      " Expected: {'PE': 'Not Found', 'KE': 'Not Found', 'LCE': 'Acceptable'}\n",
      "6 fails out of 6 tests\n"
     ]
    }
   ],
   "source": [
    "samples = editor.template(\n",
    "    \"Potential energy is {pe_acceptable}. Potential energy is {pe_unacceptable}.\",\n",
    "    pe_acceptable=PE_ACCEPTABLE, pe_unacceptable=PE_UNACCEPTABLE\n",
    ")\n",
    "getData(samples, {\"PE\": \"Acceptable\", \"KE\": \"Not Found\", \"LCE\": \"Not Found\"})\n",
    "\n",
    "samples = editor.template(\n",
    "    \"Kinetic energy is {ke_acceptable}. Kinetic energy is {ke_unacceptable}.\",\n",
    "    ke_acceptable=KE_ACCEPTABLE, ke_unacceptable=KE_UNACCEPTABLE\n",
    ")\n",
    "getData(samples, {\"PE\": \"Not Found\", \"KE\": \"Acceptable\", \"LCE\": \"Not Found\"})\n",
    "\n",
    "samples = editor.template(\n",
    "    \"The Law of Conservation of energy states {lce_acceptable}. The Law of Conservation of energy states {lce_unacceptable}.\",\n",
    "    lce_acceptable=LCE_ACCEPTABLE, lce_unacceptable=LCE_UNACCEPTABLE,\n",
    ")\n",
    "getData(samples, {\"PE\": \"Not Found\", \"KE\": \"Not Found\", \"LCE\": \"Acceptable\"})"
   ],
   "metadata": {
    "collapsed": false,
    "ExecuteTime": {
     "end_time": "2023-10-23T02:02:16.753797Z",
     "start_time": "2023-10-23T02:02:16.747200Z"
    }
   },
   "id": "da6509b1ae653c3f"
  },
  {
   "cell_type": "markdown",
   "source": [
    "### Incorrect Definition followed by correct definition\n",
    "correctness should not go down"
   ],
   "metadata": {
    "collapsed": false
   },
   "id": "d2ed8ca72905cc93"
  },
  {
   "cell_type": "code",
   "execution_count": 10,
   "outputs": [
    {
     "name": "stdout",
     "output_type": "stream",
     "text": [
      "FAIL: Potential energy is energy in motion. Potential energy is energy at rest\n",
      " Actual: {'PE': 'Unacceptable', 'KE': 'Insufficient', 'LCE': 'Acceptable', 'NF': 'Unacceptable'}\n",
      " Expected: {'PE': 'Acceptable', 'KE': 'Not Found', 'LCE': 'Not Found'}\n",
      "FAIL: Potential energy is energy lost as the car goes down the hill. Potential energy is energy at rest\n",
      " Actual: {'PE': 'Insufficient', 'KE': 'Insufficient', 'LCE': 'Acceptable', 'NF': 'Not Found'}\n",
      " Expected: {'PE': 'Acceptable', 'KE': 'Not Found', 'LCE': 'Not Found'}\n",
      "FAIL: Potential energy is opposite of kinetic energy. Potential energy is energy at rest\n",
      " Actual: {'PE': 'Unacceptable', 'KE': 'Acceptable', 'LCE': 'Insufficient', 'NF': 'Insufficient'}\n",
      " Expected: {'PE': 'Acceptable', 'KE': 'Not Found', 'LCE': 'Not Found'}\n",
      "FAIL: Potential energy is energy in motion. Potential energy is energy that a body has because of its position relative to other bodies\n",
      " Actual: {'PE': 'Acceptable', 'KE': 'Not Found', 'LCE': 'Insufficient', 'NF': 'Insufficient'}\n",
      " Expected: {'PE': 'Acceptable', 'KE': 'Not Found', 'LCE': 'Not Found'}\n",
      "FAIL: Potential energy is energy lost as the car goes down the hill. Potential energy is energy that a body has because of its position relative to other bodies\n",
      " Actual: {'PE': 'Not Found', 'KE': 'Acceptable', 'LCE': 'Insufficient', 'NF': 'Insufficient'}\n",
      " Expected: {'PE': 'Acceptable', 'KE': 'Not Found', 'LCE': 'Not Found'}\n",
      "FAIL: Potential energy is opposite of kinetic energy. Potential energy is energy that a body has because of its position relative to other bodies\n",
      " Actual: {'PE': 'Not Found', 'KE': 'Acceptable', 'LCE': 'Unacceptable', 'NF': 'Insufficient'}\n",
      " Expected: {'PE': 'Acceptable', 'KE': 'Not Found', 'LCE': 'Not Found'}\n",
      "FAIL: Potential energy is energy in motion. Potential energy is energy stored in the car at the top of the initial drop\n",
      " Actual: {'PE': 'Insufficient', 'KE': 'Acceptable', 'LCE': 'Insufficient', 'NF': 'Not Found'}\n",
      " Expected: {'PE': 'Acceptable', 'KE': 'Not Found', 'LCE': 'Not Found'}\n",
      "FAIL: Potential energy is energy lost as the car goes down the hill. Potential energy is energy stored in the car at the top of the initial drop\n",
      " Actual: {'PE': 'Insufficient', 'KE': 'Acceptable', 'LCE': 'Insufficient', 'NF': 'Unacceptable'}\n",
      " Expected: {'PE': 'Acceptable', 'KE': 'Not Found', 'LCE': 'Not Found'}\n",
      "FAIL: Potential energy is opposite of kinetic energy. Potential energy is energy stored in the car at the top of the initial drop\n",
      " Actual: {'PE': 'Acceptable', 'KE': 'Unacceptable', 'LCE': 'Insufficient', 'NF': 'Acceptable'}\n",
      " Expected: {'PE': 'Acceptable', 'KE': 'Not Found', 'LCE': 'Not Found'}\n",
      "9 fails out of 9 tests\n",
      "FAIL: Kinetic energy is energy at rest. Kinetic energy is energy in motion\n",
      " Actual: {'PE': 'Not Found', 'KE': 'Insufficient', 'LCE': 'Not Found', 'NF': 'Not Found'}\n",
      " Expected: {'PE': 'Not Found', 'KE': 'Acceptable', 'LCE': 'Not Found'}\n",
      "FAIL: Kinetic energy is never lost nor gained as the car moves. Kinetic energy is energy in motion\n",
      " Actual: {'PE': 'Acceptable', 'KE': 'Not Found', 'LCE': 'Acceptable', 'NF': 'Not Found'}\n",
      " Expected: {'PE': 'Not Found', 'KE': 'Acceptable', 'LCE': 'Not Found'}\n",
      "FAIL: Kinetic energy is the opposite of potantial energy. Kinetic energy is energy in motion\n",
      " Actual: {'PE': 'Not Found', 'KE': 'Insufficient', 'LCE': 'Acceptable', 'NF': 'Insufficient'}\n",
      " Expected: {'PE': 'Not Found', 'KE': 'Acceptable', 'LCE': 'Not Found'}\n",
      "FAIL: Kinetic energy is energy at rest. Kinetic energy is energy that the car has because it is moving\n",
      " Actual: {'PE': 'Not Found', 'KE': 'Unacceptable', 'LCE': 'Acceptable', 'NF': 'Unacceptable'}\n",
      " Expected: {'PE': 'Not Found', 'KE': 'Acceptable', 'LCE': 'Not Found'}\n",
      "FAIL: Kinetic energy is never lost nor gained as the car moves. Kinetic energy is energy that the car has because it is moving\n",
      " Actual: {'PE': 'Insufficient', 'KE': 'Not Found', 'LCE': 'Acceptable', 'NF': 'Unacceptable'}\n",
      " Expected: {'PE': 'Not Found', 'KE': 'Acceptable', 'LCE': 'Not Found'}\n",
      "FAIL: Kinetic energy is the opposite of potantial energy. Kinetic energy is energy that the car has because it is moving\n",
      " Actual: {'PE': 'Acceptable', 'KE': 'Insufficient', 'LCE': 'Insufficient', 'NF': 'Unacceptable'}\n",
      " Expected: {'PE': 'Not Found', 'KE': 'Acceptable', 'LCE': 'Not Found'}\n",
      "FAIL: Kinetic energy is never lost nor gained as the car moves. Kinetic energy is the work needed to accelerate the roller coaster car from rest\n",
      " Actual: {'PE': 'Insufficient', 'KE': 'Unacceptable', 'LCE': 'Acceptable', 'NF': 'Insufficient'}\n",
      " Expected: {'PE': 'Not Found', 'KE': 'Acceptable', 'LCE': 'Not Found'}\n",
      "FAIL: Kinetic energy is the opposite of potantial energy. Kinetic energy is the work needed to accelerate the roller coaster car from rest\n",
      " Actual: {'PE': 'Not Found', 'KE': 'Acceptable', 'LCE': 'Insufficient', 'NF': 'Not Found'}\n",
      " Expected: {'PE': 'Not Found', 'KE': 'Acceptable', 'LCE': 'Not Found'}\n",
      "8 fails out of 9 tests\n",
      "FAIL: The Law of Conservation of energy states energy can be created or destroyed, not transformed. The Law of Conservation of energy states energy cannot be created or destroyed, only transformed\n",
      " Actual: {'PE': 'Acceptable', 'KE': 'Unacceptable', 'LCE': 'Insufficient', 'NF': 'Acceptable'}\n",
      " Expected: {'PE': 'Not Found', 'KE': 'Not Found', 'LCE': 'Acceptable'}\n",
      "FAIL: The Law of Conservation of energy states energy can be created or destroyed, not transformed. The Law of Conservation of energy states the total energy of an isolated system remains constant\n",
      " Actual: {'PE': 'Not Found', 'KE': 'Acceptable', 'LCE': 'Unacceptable', 'NF': 'Acceptable'}\n",
      " Expected: {'PE': 'Not Found', 'KE': 'Not Found', 'LCE': 'Acceptable'}\n",
      "FAIL: The Law of Conservation of energy states energy can be created or destroyed, not transformed. The Law of Conservation of energy states energy can be converted from one form to another, but never created or destroyed\n",
      " Actual: {'PE': 'Acceptable', 'KE': 'Unacceptable', 'LCE': 'Unacceptable', 'NF': 'Insufficient'}\n",
      " Expected: {'PE': 'Not Found', 'KE': 'Not Found', 'LCE': 'Acceptable'}\n",
      "FAIL: The Law of Conservation of energy states the total energy of an isolated system will change. The Law of Conservation of energy states energy cannot be created or destroyed, only transformed\n",
      " Actual: {'PE': 'Unacceptable', 'KE': 'Unacceptable', 'LCE': 'Unacceptable', 'NF': 'Unacceptable'}\n",
      " Expected: {'PE': 'Not Found', 'KE': 'Not Found', 'LCE': 'Acceptable'}\n",
      "FAIL: The Law of Conservation of energy states the total energy of an isolated system will change. The Law of Conservation of energy states the total energy of an isolated system remains constant\n",
      " Actual: {'PE': 'Insufficient', 'KE': 'Not Found', 'LCE': 'Unacceptable', 'NF': 'Insufficient'}\n",
      " Expected: {'PE': 'Not Found', 'KE': 'Not Found', 'LCE': 'Acceptable'}\n",
      "FAIL: The Law of Conservation of energy states the total energy of an isolated system will change. The Law of Conservation of energy states energy can be converted from one form to another, but never created or destroyed\n",
      " Actual: {'PE': 'Not Found', 'KE': 'Not Found', 'LCE': 'Not Found', 'NF': 'Insufficient'}\n",
      " Expected: {'PE': 'Not Found', 'KE': 'Not Found', 'LCE': 'Acceptable'}\n",
      "6 fails out of 6 tests\n"
     ]
    }
   ],
   "source": [
    "# code\n",
    "samples = editor.template(\n",
    "    \"Potential energy is {pe_unacceptable}. Potential energy is {pe_acceptable}\",\n",
    "    pe_acceptable=PE_ACCEPTABLE, pe_unacceptable=PE_UNACCEPTABLE\n",
    ")\n",
    "getData(samples, {\"PE\": \"Acceptable\", \"KE\": \"Not Found\", \"LCE\": \"Not Found\"})\n",
    "\n",
    "samples = editor.template(\n",
    "    \"Kinetic energy is {ke_unacceptable}. Kinetic energy is {ke_acceptable}\",\n",
    "    ke_acceptable=KE_ACCEPTABLE, ke_unacceptable=KE_UNACCEPTABLE\n",
    ")\n",
    "getData(samples, {\"PE\": \"Not Found\", \"KE\": \"Acceptable\", \"LCE\": \"Not Found\"})\n",
    "\n",
    "samples = editor.template(\n",
    "    \"The Law of Conservation of energy states {lce_unacceptable}. The Law of Conservation of energy states {lce_acceptable}\",\n",
    "    lce_acceptable=LCE_ACCEPTABLE, lce_unacceptable=LCE_UNACCEPTABLE,\n",
    ")\n",
    "getData(samples, {\"PE\": \"Not Found\", \"KE\": \"Not Found\", \"LCE\": \"Acceptable\"})\n"
   ],
   "metadata": {
    "collapsed": false,
    "ExecuteTime": {
     "end_time": "2023-10-23T02:02:23.840135Z",
     "start_time": "2023-10-23T02:02:23.824540Z"
    }
   },
   "id": "989899741afb0f9a"
  },
  {
   "cell_type": "markdown",
   "source": [
    "### Insufficient definition followed by correct definition\n",
    "Correctness should not go down"
   ],
   "metadata": {
    "collapsed": false
   },
   "id": "1ab3f4e8a0fe33b1"
  },
  {
   "cell_type": "code",
   "execution_count": 11,
   "outputs": [
    {
     "name": "stdout",
     "output_type": "stream",
     "text": [
      "FAIL: Potential energy is 4 Joules at the top of the roller coaster. Potential energy is energy at rest\n",
      " Actual: {'PE': 'Acceptable', 'KE': 'Insufficient', 'LCE': 'Unacceptable', 'NF': 'Not Found'}\n",
      " Expected: {'PE': 'Acceptable', 'KE': 'Not Found', 'LCE': 'Not Found'}\n",
      "FAIL: Potential energy is measured in Joules. Potential energy is energy at rest\n",
      " Actual: {'PE': 'Insufficient', 'KE': 'Not Found', 'LCE': 'Insufficient', 'NF': 'Insufficient'}\n",
      " Expected: {'PE': 'Acceptable', 'KE': 'Not Found', 'LCE': 'Not Found'}\n",
      "FAIL: Potential energy is equal to m*h*9.8. Potential energy is energy at rest\n",
      " Actual: {'PE': 'Insufficient', 'KE': 'Insufficient', 'LCE': 'Not Found', 'NF': 'Acceptable'}\n",
      " Expected: {'PE': 'Acceptable', 'KE': 'Not Found', 'LCE': 'Not Found'}\n",
      "FAIL: Potential energy is measured in Joules. Potential energy is energy that a body has because of its position relative to other bodies\n",
      " Actual: {'PE': 'Insufficient', 'KE': 'Unacceptable', 'LCE': 'Acceptable', 'NF': 'Insufficient'}\n",
      " Expected: {'PE': 'Acceptable', 'KE': 'Not Found', 'LCE': 'Not Found'}\n",
      "FAIL: Potential energy is equal to m*h*9.8. Potential energy is energy that a body has because of its position relative to other bodies\n",
      " Actual: {'PE': 'Insufficient', 'KE': 'Not Found', 'LCE': 'Insufficient', 'NF': 'Acceptable'}\n",
      " Expected: {'PE': 'Acceptable', 'KE': 'Not Found', 'LCE': 'Not Found'}\n",
      "FAIL: Potential energy is 4 Joules at the top of the roller coaster. Potential energy is energy stored in the car at the top of the initial drop\n",
      " Actual: {'PE': 'Acceptable', 'KE': 'Insufficient', 'LCE': 'Insufficient', 'NF': 'Acceptable'}\n",
      " Expected: {'PE': 'Acceptable', 'KE': 'Not Found', 'LCE': 'Not Found'}\n",
      "FAIL: Potential energy is measured in Joules. Potential energy is energy stored in the car at the top of the initial drop\n",
      " Actual: {'PE': 'Not Found', 'KE': 'Not Found', 'LCE': 'Acceptable', 'NF': 'Insufficient'}\n",
      " Expected: {'PE': 'Acceptable', 'KE': 'Not Found', 'LCE': 'Not Found'}\n",
      "FAIL: Potential energy is equal to m*h*9.8. Potential energy is energy stored in the car at the top of the initial drop\n",
      " Actual: {'PE': 'Acceptable', 'KE': 'Acceptable', 'LCE': 'Acceptable', 'NF': 'Acceptable'}\n",
      " Expected: {'PE': 'Acceptable', 'KE': 'Not Found', 'LCE': 'Not Found'}\n",
      "8 fails out of 9 tests\n",
      "FAIL: Kinetic energy is 4 Joules at the bottom of the roller coaster. Kinetic energy is energy in motion\n",
      " Actual: {'PE': 'Unacceptable', 'KE': 'Not Found', 'LCE': 'Insufficient', 'NF': 'Acceptable'}\n",
      " Expected: {'PE': 'Not Found', 'KE': 'Acceptable', 'LCE': 'Not Found'}\n",
      "FAIL: Kinetic energy is 4 Joules at the bottom of the roller coaster. Kinetic energy is energy that the car has because it is moving\n",
      " Actual: {'PE': 'Acceptable', 'KE': 'Unacceptable', 'LCE': 'Not Found', 'NF': 'Unacceptable'}\n",
      " Expected: {'PE': 'Not Found', 'KE': 'Acceptable', 'LCE': 'Not Found'}\n",
      "FAIL: Kinetic energy is 4 Joules at the bottom of the roller coaster. Kinetic energy is the work needed to accelerate the roller coaster car from rest\n",
      " Actual: {'PE': 'Unacceptable', 'KE': 'Acceptable', 'LCE': 'Unacceptable', 'NF': 'Not Found'}\n",
      " Expected: {'PE': 'Not Found', 'KE': 'Acceptable', 'LCE': 'Not Found'}\n",
      "FAIL: Kinetic energy is measured in Joules. Kinetic energy is energy in motion\n",
      " Actual: {'PE': 'Insufficient', 'KE': 'Not Found', 'LCE': 'Acceptable', 'NF': 'Not Found'}\n",
      " Expected: {'PE': 'Not Found', 'KE': 'Acceptable', 'LCE': 'Not Found'}\n",
      "FAIL: Kinetic energy is measured in Joules. Kinetic energy is energy that the car has because it is moving\n",
      " Actual: {'PE': 'Acceptable', 'KE': 'Insufficient', 'LCE': 'Not Found', 'NF': 'Acceptable'}\n",
      " Expected: {'PE': 'Not Found', 'KE': 'Acceptable', 'LCE': 'Not Found'}\n",
      "FAIL: Kinetic energy is measured in Joules. Kinetic energy is the work needed to accelerate the roller coaster car from rest\n",
      " Actual: {'PE': 'Not Found', 'KE': 'Not Found', 'LCE': 'Acceptable', 'NF': 'Unacceptable'}\n",
      " Expected: {'PE': 'Not Found', 'KE': 'Acceptable', 'LCE': 'Not Found'}\n",
      "FAIL: Kinetic energy is equal to .5*m*v^2. Kinetic energy is energy in motion\n",
      " Actual: {'PE': 'Acceptable', 'KE': 'Acceptable', 'LCE': 'Insufficient', 'NF': 'Insufficient'}\n",
      " Expected: {'PE': 'Not Found', 'KE': 'Acceptable', 'LCE': 'Not Found'}\n",
      "FAIL: Kinetic energy is equal to .5*m*v^2. Kinetic energy is energy that the car has because it is moving\n",
      " Actual: {'PE': 'Insufficient', 'KE': 'Unacceptable', 'LCE': 'Unacceptable', 'NF': 'Insufficient'}\n",
      " Expected: {'PE': 'Not Found', 'KE': 'Acceptable', 'LCE': 'Not Found'}\n",
      "FAIL: Kinetic energy is equal to .5*m*v^2. Kinetic energy is the work needed to accelerate the roller coaster car from rest\n",
      " Actual: {'PE': 'Unacceptable', 'KE': 'Insufficient', 'LCE': 'Insufficient', 'NF': 'Not Found'}\n",
      " Expected: {'PE': 'Not Found', 'KE': 'Acceptable', 'LCE': 'Not Found'}\n",
      "9 fails out of 9 tests\n",
      "FAIL: The Law of Conservation of energy states K1 + U1 = K2 + U2. The Law of Conservation of energy states energy cannot be created or destroyed, only transformed\n",
      " Actual: {'PE': 'Insufficient', 'KE': 'Not Found', 'LCE': 'Not Found', 'NF': 'Not Found'}\n",
      " Expected: {'PE': 'Not Found', 'KE': 'Not Found', 'LCE': 'Acceptable'}\n",
      "FAIL: The Law of Conservation of energy states K1 + U1 = K2 + U2. The Law of Conservation of energy states the total energy of an isolated system remains constant\n",
      " Actual: {'PE': 'Insufficient', 'KE': 'Unacceptable', 'LCE': 'Not Found', 'NF': 'Not Found'}\n",
      " Expected: {'PE': 'Not Found', 'KE': 'Not Found', 'LCE': 'Acceptable'}\n",
      "FAIL: The Law of Conservation of energy states K1 + U1 = K2 + U2. The Law of Conservation of energy states energy can be converted from one form to another, but never created or destroyed\n",
      " Actual: {'PE': 'Insufficient', 'KE': 'Unacceptable', 'LCE': 'Acceptable', 'NF': 'Not Found'}\n",
      " Expected: {'PE': 'Not Found', 'KE': 'Not Found', 'LCE': 'Acceptable'}\n",
      "FAIL: The Law of Conservation of energy states potential energy transforms into kinetic energy. The Law of Conservation of energy states energy cannot be created or destroyed, only transformed\n",
      " Actual: {'PE': 'Not Found', 'KE': 'Unacceptable', 'LCE': 'Not Found', 'NF': 'Unacceptable'}\n",
      " Expected: {'PE': 'Not Found', 'KE': 'Not Found', 'LCE': 'Acceptable'}\n",
      "FAIL: The Law of Conservation of energy states potential energy transforms into kinetic energy. The Law of Conservation of energy states the total energy of an isolated system remains constant\n",
      " Actual: {'PE': 'Insufficient', 'KE': 'Acceptable', 'LCE': 'Unacceptable', 'NF': 'Not Found'}\n",
      " Expected: {'PE': 'Not Found', 'KE': 'Not Found', 'LCE': 'Acceptable'}\n",
      "FAIL: The Law of Conservation of energy states potential energy transforms into kinetic energy. The Law of Conservation of energy states energy can be converted from one form to another, but never created or destroyed\n",
      " Actual: {'PE': 'Insufficient', 'KE': 'Unacceptable', 'LCE': 'Insufficient', 'NF': 'Insufficient'}\n",
      " Expected: {'PE': 'Not Found', 'KE': 'Not Found', 'LCE': 'Acceptable'}\n",
      "FAIL: The Law of Conservation of energy states As the car goes down the hill, some energy is lost to friction as heat. The Law of Conservation of energy states energy cannot be created or destroyed, only transformed\n",
      " Actual: {'PE': 'Unacceptable', 'KE': 'Acceptable', 'LCE': 'Insufficient', 'NF': 'Acceptable'}\n",
      " Expected: {'PE': 'Not Found', 'KE': 'Not Found', 'LCE': 'Acceptable'}\n",
      "FAIL: The Law of Conservation of energy states As the car goes down the hill, some energy is lost to friction as heat. The Law of Conservation of energy states the total energy of an isolated system remains constant\n",
      " Actual: {'PE': 'Unacceptable', 'KE': 'Insufficient', 'LCE': 'Unacceptable', 'NF': 'Insufficient'}\n",
      " Expected: {'PE': 'Not Found', 'KE': 'Not Found', 'LCE': 'Acceptable'}\n",
      "FAIL: The Law of Conservation of energy states As the car goes down the hill, some energy is lost to friction as heat. The Law of Conservation of energy states energy can be converted from one form to another, but never created or destroyed\n",
      " Actual: {'PE': 'Acceptable', 'KE': 'Not Found', 'LCE': 'Acceptable', 'NF': 'Not Found'}\n",
      " Expected: {'PE': 'Not Found', 'KE': 'Not Found', 'LCE': 'Acceptable'}\n",
      "9 fails out of 9 tests\n"
     ]
    }
   ],
   "source": [
    "# code\n",
    "samples = editor.template(\n",
    "    \"Potential energy is {pe_insufficient}. Potential energy is {pe_acceptable}\",\n",
    "    pe_insufficient=PE_INSUFFICIENT, pe_acceptable=PE_ACCEPTABLE\n",
    ")\n",
    "getData(samples, {\"PE\": \"Acceptable\", \"KE\": \"Not Found\", \"LCE\": \"Not Found\"})\n",
    "\n",
    "samples = editor.template(\n",
    "    \"Kinetic energy is {ke_insufficient}. Kinetic energy is {ke_acceptable}\",\n",
    "    ke_insufficient=KE_INSUFFICIENT, ke_acceptable=KE_ACCEPTABLE\n",
    ")\n",
    "getData(samples, {\"PE\": \"Not Found\", \"KE\": \"Acceptable\", \"LCE\": \"Not Found\"})\n",
    "\n",
    "samples = editor.template(\n",
    "    \"The Law of Conservation of energy states {lce_insufficient}. The Law of Conservation of energy states {lce_acceptable}\",\n",
    "    lce_insufficient=LCE_INSUFFICIENT, lce_acceptable=LCE_ACCEPTABLE,\n",
    ")\n",
    "getData(samples, {\"PE\": \"Not Found\", \"KE\": \"Not Found\", \"LCE\": \"Acceptable\"})"
   ],
   "metadata": {
    "collapsed": false,
    "ExecuteTime": {
     "end_time": "2023-10-23T02:02:25.207967Z",
     "start_time": "2023-10-23T02:02:25.200076Z"
    }
   },
   "id": "3c3c4d79e3a0f5d"
  },
  {
   "cell_type": "markdown",
   "source": [
    "### Insufficient definition followed by incorrect definition\n",
    "Should result in Acceptable"
   ],
   "metadata": {
    "collapsed": false
   },
   "id": "276f7a64598a9f88"
  },
  {
   "cell_type": "code",
   "execution_count": 12,
   "outputs": [
    {
     "name": "stdout",
     "output_type": "stream",
     "text": [
      "FAIL: Potential energy is 4 Joules at the top of the roller coaster. Potential energy is energy in motion\n",
      " Actual: {'PE': 'Insufficient', 'KE': 'Unacceptable', 'LCE': 'Not Found', 'NF': 'Acceptable'}\n",
      " Expected: {'PE': 'Unacceptable', 'KE': 'Not Found', 'LCE': 'Not Found'}\n",
      "FAIL: Potential energy is 4 Joules at the top of the roller coaster. Potential energy is energy lost as the car goes down the hill\n",
      " Actual: {'PE': 'Acceptable', 'KE': 'Acceptable', 'LCE': 'Insufficient', 'NF': 'Unacceptable'}\n",
      " Expected: {'PE': 'Unacceptable', 'KE': 'Not Found', 'LCE': 'Not Found'}\n",
      "FAIL: Potential energy is 4 Joules at the top of the roller coaster. Potential energy is opposite of kinetic energy\n",
      " Actual: {'PE': 'Insufficient', 'KE': 'Unacceptable', 'LCE': 'Acceptable', 'NF': 'Unacceptable'}\n",
      " Expected: {'PE': 'Unacceptable', 'KE': 'Not Found', 'LCE': 'Not Found'}\n",
      "FAIL: Potential energy is measured in Joules. Potential energy is energy in motion\n",
      " Actual: {'PE': 'Unacceptable', 'KE': 'Insufficient', 'LCE': 'Unacceptable', 'NF': 'Not Found'}\n",
      " Expected: {'PE': 'Unacceptable', 'KE': 'Not Found', 'LCE': 'Not Found'}\n",
      "FAIL: Potential energy is measured in Joules. Potential energy is energy lost as the car goes down the hill\n",
      " Actual: {'PE': 'Insufficient', 'KE': 'Insufficient', 'LCE': 'Unacceptable', 'NF': 'Acceptable'}\n",
      " Expected: {'PE': 'Unacceptable', 'KE': 'Not Found', 'LCE': 'Not Found'}\n",
      "FAIL: Potential energy is measured in Joules. Potential energy is opposite of kinetic energy\n",
      " Actual: {'PE': 'Acceptable', 'KE': 'Insufficient', 'LCE': 'Unacceptable', 'NF': 'Not Found'}\n",
      " Expected: {'PE': 'Unacceptable', 'KE': 'Not Found', 'LCE': 'Not Found'}\n",
      "FAIL: Potential energy is equal to m*h*9.8. Potential energy is energy in motion\n",
      " Actual: {'PE': 'Insufficient', 'KE': 'Unacceptable', 'LCE': 'Insufficient', 'NF': 'Acceptable'}\n",
      " Expected: {'PE': 'Unacceptable', 'KE': 'Not Found', 'LCE': 'Not Found'}\n",
      "FAIL: Potential energy is equal to m*h*9.8. Potential energy is energy lost as the car goes down the hill\n",
      " Actual: {'PE': 'Acceptable', 'KE': 'Unacceptable', 'LCE': 'Acceptable', 'NF': 'Insufficient'}\n",
      " Expected: {'PE': 'Unacceptable', 'KE': 'Not Found', 'LCE': 'Not Found'}\n",
      "FAIL: Potential energy is equal to m*h*9.8. Potential energy is opposite of kinetic energy\n",
      " Actual: {'PE': 'Not Found', 'KE': 'Unacceptable', 'LCE': 'Insufficient', 'NF': 'Insufficient'}\n",
      " Expected: {'PE': 'Unacceptable', 'KE': 'Not Found', 'LCE': 'Not Found'}\n",
      "9 fails out of 9 tests\n",
      "FAIL: Kinetic energy is 4 Joules at the bottom of the roller coaster. Kinetic energy is energy at rest\n",
      " Actual: {'PE': 'Unacceptable', 'KE': 'Unacceptable', 'LCE': 'Unacceptable', 'NF': 'Insufficient'}\n",
      " Expected: {'PE': 'Not Found', 'KE': 'Unacceptable', 'LCE': 'Not Found'}\n",
      "FAIL: Kinetic energy is 4 Joules at the bottom of the roller coaster. Kinetic energy is never lost nor gained as the car moves\n",
      " Actual: {'PE': 'Insufficient', 'KE': 'Unacceptable', 'LCE': 'Unacceptable', 'NF': 'Unacceptable'}\n",
      " Expected: {'PE': 'Not Found', 'KE': 'Unacceptable', 'LCE': 'Not Found'}\n",
      "FAIL: Kinetic energy is 4 Joules at the bottom of the roller coaster. Kinetic energy is the opposite of potantial energy\n",
      " Actual: {'PE': 'Acceptable', 'KE': 'Unacceptable', 'LCE': 'Insufficient', 'NF': 'Unacceptable'}\n",
      " Expected: {'PE': 'Not Found', 'KE': 'Unacceptable', 'LCE': 'Not Found'}\n",
      "FAIL: Kinetic energy is measured in Joules. Kinetic energy is energy at rest\n",
      " Actual: {'PE': 'Unacceptable', 'KE': 'Not Found', 'LCE': 'Not Found', 'NF': 'Acceptable'}\n",
      " Expected: {'PE': 'Not Found', 'KE': 'Unacceptable', 'LCE': 'Not Found'}\n",
      "FAIL: Kinetic energy is measured in Joules. Kinetic energy is never lost nor gained as the car moves\n",
      " Actual: {'PE': 'Acceptable', 'KE': 'Acceptable', 'LCE': 'Acceptable', 'NF': 'Not Found'}\n",
      " Expected: {'PE': 'Not Found', 'KE': 'Unacceptable', 'LCE': 'Not Found'}\n",
      "FAIL: Kinetic energy is measured in Joules. Kinetic energy is the opposite of potantial energy\n",
      " Actual: {'PE': 'Insufficient', 'KE': 'Not Found', 'LCE': 'Insufficient', 'NF': 'Unacceptable'}\n",
      " Expected: {'PE': 'Not Found', 'KE': 'Unacceptable', 'LCE': 'Not Found'}\n",
      "FAIL: Kinetic energy is equal to .5*m*v^2. Kinetic energy is energy at rest\n",
      " Actual: {'PE': 'Not Found', 'KE': 'Insufficient', 'LCE': 'Acceptable', 'NF': 'Not Found'}\n",
      " Expected: {'PE': 'Not Found', 'KE': 'Unacceptable', 'LCE': 'Not Found'}\n",
      "FAIL: Kinetic energy is equal to .5*m*v^2. Kinetic energy is never lost nor gained as the car moves\n",
      " Actual: {'PE': 'Insufficient', 'KE': 'Insufficient', 'LCE': 'Unacceptable', 'NF': 'Unacceptable'}\n",
      " Expected: {'PE': 'Not Found', 'KE': 'Unacceptable', 'LCE': 'Not Found'}\n",
      "FAIL: Kinetic energy is equal to .5*m*v^2. Kinetic energy is the opposite of potantial energy\n",
      " Actual: {'PE': 'Not Found', 'KE': 'Acceptable', 'LCE': 'Unacceptable', 'NF': 'Unacceptable'}\n",
      " Expected: {'PE': 'Not Found', 'KE': 'Unacceptable', 'LCE': 'Not Found'}\n",
      "9 fails out of 9 tests\n",
      "FAIL: The Law of Conservation of energy states K1 + U1 = K2 + U2. The Law of Conservation of energy states energy can be created or destroyed, not transformed\n",
      " Actual: {'PE': 'Not Found', 'KE': 'Unacceptable', 'LCE': 'Unacceptable', 'NF': 'Unacceptable'}\n",
      " Expected: {'PE': 'Not Found', 'KE': 'Not Found', 'LCE': 'Unacceptable'}\n",
      "FAIL: The Law of Conservation of energy states K1 + U1 = K2 + U2. The Law of Conservation of energy states the total energy of an isolated system will change\n",
      " Actual: {'PE': 'Not Found', 'KE': 'Acceptable', 'LCE': 'Not Found', 'NF': 'Insufficient'}\n",
      " Expected: {'PE': 'Not Found', 'KE': 'Not Found', 'LCE': 'Unacceptable'}\n",
      "FAIL: The Law of Conservation of energy states potential energy transforms into kinetic energy. The Law of Conservation of energy states energy can be created or destroyed, not transformed\n",
      " Actual: {'PE': 'Insufficient', 'KE': 'Acceptable', 'LCE': 'Not Found', 'NF': 'Not Found'}\n",
      " Expected: {'PE': 'Not Found', 'KE': 'Not Found', 'LCE': 'Unacceptable'}\n",
      "FAIL: The Law of Conservation of energy states potential energy transforms into kinetic energy. The Law of Conservation of energy states the total energy of an isolated system will change\n",
      " Actual: {'PE': 'Acceptable', 'KE': 'Insufficient', 'LCE': 'Unacceptable', 'NF': 'Unacceptable'}\n",
      " Expected: {'PE': 'Not Found', 'KE': 'Not Found', 'LCE': 'Unacceptable'}\n",
      "FAIL: The Law of Conservation of energy states As the car goes down the hill, some energy is lost to friction as heat. The Law of Conservation of energy states energy can be created or destroyed, not transformed\n",
      " Actual: {'PE': 'Not Found', 'KE': 'Unacceptable', 'LCE': 'Insufficient', 'NF': 'Not Found'}\n",
      " Expected: {'PE': 'Not Found', 'KE': 'Not Found', 'LCE': 'Unacceptable'}\n",
      "FAIL: The Law of Conservation of energy states As the car goes down the hill, some energy is lost to friction as heat. The Law of Conservation of energy states the total energy of an isolated system will change\n",
      " Actual: {'PE': 'Not Found', 'KE': 'Unacceptable', 'LCE': 'Unacceptable', 'NF': 'Acceptable'}\n",
      " Expected: {'PE': 'Not Found', 'KE': 'Not Found', 'LCE': 'Unacceptable'}\n",
      "6 fails out of 6 tests\n"
     ]
    }
   ],
   "source": [
    "samples = editor.template(\n",
    "    \"Potential energy is {pe_insufficient}. Potential energy is {pe_unacceptable}\",\n",
    "    pe_insufficient=PE_INSUFFICIENT, pe_unacceptable=PE_UNACCEPTABLE\n",
    ")\n",
    "getData(samples, {\"PE\": \"Unacceptable\", \"KE\": \"Not Found\", \"LCE\": \"Not Found\"})\n",
    "\n",
    "samples = editor.template(\n",
    "    \"Kinetic energy is {ke_insufficient}. Kinetic energy is {ke_unacceptable}\",\n",
    "    ke_insufficient=KE_INSUFFICIENT, ke_unacceptable=KE_UNACCEPTABLE\n",
    ")\n",
    "getData(samples, {\"PE\": \"Not Found\", \"KE\": \"Unacceptable\", \"LCE\": \"Not Found\"})\n",
    "\n",
    "samples = editor.template(\n",
    "    \"The Law of Conservation of energy states {lce_insufficient}. The Law of Conservation of energy states {lce_unacceptable}\",\n",
    "    lce_insufficient=LCE_INSUFFICIENT, lce_unacceptable=LCE_UNACCEPTABLE,\n",
    ")\n",
    "getData(samples, {\"PE\": \"Not Found\", \"KE\": \"Not Found\", \"LCE\": \"Unacceptable\"})"
   ],
   "metadata": {
    "collapsed": false,
    "ExecuteTime": {
     "end_time": "2023-10-23T02:02:42.776461Z",
     "start_time": "2023-10-23T02:02:42.762211Z"
    }
   },
   "id": "7b675092d6c6ef69"
  },
  {
   "cell_type": "markdown",
   "source": [
    "# Negation\n",
    "\n",
    "## MFTs"
   ],
   "metadata": {
    "collapsed": false
   },
   "id": "97470dbd46d5f73d"
  },
  {
   "cell_type": "markdown",
   "source": [
    "### Negated correct definition\n",
    "Should return unacceptable"
   ],
   "metadata": {
    "collapsed": false
   },
   "id": "ce344ed80217b848"
  },
  {
   "cell_type": "code",
   "execution_count": 13,
   "outputs": [
    {
     "name": "stdout",
     "output_type": "stream",
     "text": [
      "FAIL: Potential energy is not energy at rest\n",
      " Actual: {'PE': 'Insufficient', 'KE': 'Acceptable', 'LCE': 'Acceptable', 'NF': 'Insufficient'}\n",
      " Expected: {'PE': 'Unacceptable', 'KE': 'Not Found', 'LCE': 'Not Found'}\n",
      "FAIL: Potential energy is not energy that a body has because of its position relative to other bodies\n",
      " Actual: {'PE': 'Insufficient', 'KE': 'Not Found', 'LCE': 'Unacceptable', 'NF': 'Acceptable'}\n",
      " Expected: {'PE': 'Unacceptable', 'KE': 'Not Found', 'LCE': 'Not Found'}\n",
      "FAIL: Potential energy is not energy stored in the car at the top of the initial drop\n",
      " Actual: {'PE': 'Acceptable', 'KE': 'Insufficient', 'LCE': 'Insufficient', 'NF': 'Unacceptable'}\n",
      " Expected: {'PE': 'Unacceptable', 'KE': 'Not Found', 'LCE': 'Not Found'}\n",
      "3 fails out of 3 tests\n",
      "FAIL: Kinetic energy is not energy in motion\n",
      " Actual: {'PE': 'Insufficient', 'KE': 'Insufficient', 'LCE': 'Insufficient', 'NF': 'Unacceptable'}\n",
      " Expected: {'PE': 'Not Found', 'KE': 'Unacceptable', 'LCE': 'Not Found'}\n",
      "FAIL: Kinetic energy is not energy that the car has because it is moving\n",
      " Actual: {'PE': 'Acceptable', 'KE': 'Acceptable', 'LCE': 'Unacceptable', 'NF': 'Not Found'}\n",
      " Expected: {'PE': 'Not Found', 'KE': 'Unacceptable', 'LCE': 'Not Found'}\n",
      "FAIL: Kinetic energy is not the work needed to accelerate the roller coaster car from rest\n",
      " Actual: {'PE': 'Not Found', 'KE': 'Insufficient', 'LCE': 'Not Found', 'NF': 'Unacceptable'}\n",
      " Expected: {'PE': 'Not Found', 'KE': 'Unacceptable', 'LCE': 'Not Found'}\n",
      "3 fails out of 3 tests\n",
      "FAIL: The Law of Conservation of energy does not state energy cannot be created or destroyed, only transformed.\n",
      " Actual: {'PE': 'Insufficient', 'KE': 'Acceptable', 'LCE': 'Insufficient', 'NF': 'Not Found'}\n",
      " Expected: {'PE': 'Not Found', 'KE': 'Not Found', 'LCE': 'Unacceptable'}\n",
      "FAIL: The Law of Conservation of energy does not state the total energy of an isolated system remains constant.\n",
      " Actual: {'PE': 'Acceptable', 'KE': 'Acceptable', 'LCE': 'Insufficient', 'NF': 'Not Found'}\n",
      " Expected: {'PE': 'Not Found', 'KE': 'Not Found', 'LCE': 'Unacceptable'}\n",
      "FAIL: The Law of Conservation of energy does not state energy can be converted from one form to another, but never created or destroyed.\n",
      " Actual: {'PE': 'Acceptable', 'KE': 'Insufficient', 'LCE': 'Acceptable', 'NF': 'Insufficient'}\n",
      " Expected: {'PE': 'Not Found', 'KE': 'Not Found', 'LCE': 'Unacceptable'}\n",
      "3 fails out of 3 tests\n"
     ]
    }
   ],
   "source": [
    "samples = editor.template(\n",
    "    \"Potential energy is not {pe_acceptable}\",\n",
    "    pe_acceptable=PE_ACCEPTABLE\n",
    ")\n",
    "getData(samples, {\"PE\": \"Unacceptable\", \"KE\": \"Not Found\", \"LCE\": \"Not Found\"})\n",
    "\n",
    "samples = editor.template(\n",
    "    \"Kinetic energy is not {ke_acceptable}\",\n",
    "    ke_acceptable=KE_ACCEPTABLE\n",
    ")\n",
    "getData(samples, {\"PE\": \"Not Found\", \"KE\": \"Unacceptable\", \"LCE\": \"Not Found\"})\n",
    "\n",
    "samples = editor.template(\n",
    "    \"The Law of Conservation of energy does not state {lce_acceptable}.\",\n",
    "    lce_acceptable=LCE_ACCEPTABLE\n",
    ")\n",
    "getData(samples, {\"PE\": \"Not Found\", \"KE\": \"Not Found\", \"LCE\": \"Unacceptable\"})\n"
   ],
   "metadata": {
    "collapsed": false,
    "ExecuteTime": {
     "end_time": "2023-10-23T02:02:45.425758Z",
     "start_time": "2023-10-23T02:02:45.410497Z"
    }
   },
   "id": "dca15f624a3cddc"
  },
  {
   "cell_type": "markdown",
   "source": [
    "### Negation of incorrect definition\n",
    "Should return insufficient"
   ],
   "metadata": {
    "collapsed": false
   },
   "id": "bbfb2f9e0572072a"
  },
  {
   "cell_type": "code",
   "execution_count": 14,
   "outputs": [
    {
     "name": "stdout",
     "output_type": "stream",
     "text": [
      "FAIL: Potential energy is not energy in motion\n",
      " Actual: {'PE': 'Not Found', 'KE': 'Not Found', 'LCE': 'Not Found', 'NF': 'Acceptable'}\n",
      " Expected: {'PE': 'Insufficient', 'KE': 'Not Found', 'LCE': 'Not Found'}\n",
      "FAIL: Potential energy is not energy lost as the car goes down the hill\n",
      " Actual: {'PE': 'Acceptable', 'KE': 'Acceptable', 'LCE': 'Acceptable', 'NF': 'Acceptable'}\n",
      " Expected: {'PE': 'Insufficient', 'KE': 'Not Found', 'LCE': 'Not Found'}\n",
      "FAIL: Potential energy is not opposite of kinetic energy\n",
      " Actual: {'PE': 'Unacceptable', 'KE': 'Unacceptable', 'LCE': 'Not Found', 'NF': 'Unacceptable'}\n",
      " Expected: {'PE': 'Insufficient', 'KE': 'Not Found', 'LCE': 'Not Found'}\n",
      "3 fails out of 3 tests\n",
      "FAIL: Kinetic energy is not energy at rest\n",
      " Actual: {'PE': 'Acceptable', 'KE': 'Not Found', 'LCE': 'Acceptable', 'NF': 'Insufficient'}\n",
      " Expected: {'PE': 'Not Found', 'KE': 'Insufficient', 'LCE': 'Not Found'}\n",
      "FAIL: Kinetic energy is not never lost nor gained as the car moves\n",
      " Actual: {'PE': 'Insufficient', 'KE': 'Insufficient', 'LCE': 'Not Found', 'NF': 'Unacceptable'}\n",
      " Expected: {'PE': 'Not Found', 'KE': 'Insufficient', 'LCE': 'Not Found'}\n",
      "FAIL: Kinetic energy is not the opposite of potantial energy\n",
      " Actual: {'PE': 'Not Found', 'KE': 'Unacceptable', 'LCE': 'Acceptable', 'NF': 'Unacceptable'}\n",
      " Expected: {'PE': 'Not Found', 'KE': 'Insufficient', 'LCE': 'Not Found'}\n",
      "3 fails out of 3 tests\n",
      "FAIL: The Law of Conservation of energy does not state energy can be created or destroyed, not transformed.\n",
      " Actual: {'PE': 'Insufficient', 'KE': 'Not Found', 'LCE': 'Unacceptable', 'NF': 'Insufficient'}\n",
      " Expected: {'PE': 'Not Found', 'KE': 'Not Found', 'LCE': 'Insufficient'}\n",
      "FAIL: The Law of Conservation of energy does not state the total energy of an isolated system will change.\n",
      " Actual: {'PE': 'Insufficient', 'KE': 'Not Found', 'LCE': 'Acceptable', 'NF': 'Insufficient'}\n",
      " Expected: {'PE': 'Not Found', 'KE': 'Not Found', 'LCE': 'Insufficient'}\n",
      "2 fails out of 2 tests\n"
     ]
    }
   ],
   "source": [
    "samples = editor.template(\n",
    "    \"Potential energy is not {pe_unacceptable}\",\n",
    "    pe_unacceptable=PE_UNACCEPTABLE\n",
    ")\n",
    "getData(samples, {\"PE\": \"Insufficient\", \"KE\": \"Not Found\", \"LCE\": \"Not Found\"})\n",
    "\n",
    "samples = editor.template(\n",
    "    \"Kinetic energy is not {ke_unacceptable}\",\n",
    "    ke_unacceptable=KE_UNACCEPTABLE\n",
    ")\n",
    "getData(samples, {\"PE\": \"Not Found\", \"KE\": \"Insufficient\", \"LCE\": \"Not Found\"})\n",
    "\n",
    "samples = editor.template(\n",
    "    \"The Law of Conservation of energy does not state {lce_unacceptable}.\",\n",
    "    lce_unacceptable=LCE_UNACCEPTABLE\n",
    ")\n",
    "getData(samples, {\"PE\": \"Not Found\", \"KE\": \"Not Found\", \"LCE\": \"Insufficient\"})"
   ],
   "metadata": {
    "collapsed": false,
    "ExecuteTime": {
     "end_time": "2023-10-23T02:02:47.035236Z",
     "start_time": "2023-10-23T02:02:47.023952Z"
    }
   },
   "id": "a17adfc87faeca0c"
  },
  {
   "cell_type": "markdown",
   "source": [
    "### Negation of insufficient\n",
    "Should return insufficient"
   ],
   "metadata": {
    "collapsed": false
   },
   "id": "89f60be4725dcadc"
  },
  {
   "cell_type": "code",
   "execution_count": 15,
   "outputs": [
    {
     "name": "stdout",
     "output_type": "stream",
     "text": [
      "FAIL: Potential energy is not 4 Joules at the top of the roller coaster\n",
      " Actual: {'PE': 'Unacceptable', 'KE': 'Not Found', 'LCE': 'Insufficient', 'NF': 'Insufficient'}\n",
      " Expected: {'PE': 'Insufficient', 'KE': 'Not Found', 'LCE': 'Not Found'}\n",
      "FAIL: Potential energy is not measured in Joules\n",
      " Actual: {'PE': 'Not Found', 'KE': 'Acceptable', 'LCE': 'Insufficient', 'NF': 'Unacceptable'}\n",
      " Expected: {'PE': 'Insufficient', 'KE': 'Not Found', 'LCE': 'Not Found'}\n",
      "FAIL: Potential energy is not equal to m*h*9.8\n",
      " Actual: {'PE': 'Not Found', 'KE': 'Acceptable', 'LCE': 'Not Found', 'NF': 'Not Found'}\n",
      " Expected: {'PE': 'Insufficient', 'KE': 'Not Found', 'LCE': 'Not Found'}\n",
      "3 fails out of 3 tests\n",
      "FAIL: Kinetic energy is not 4 Joules at the bottom of the roller coaster\n",
      " Actual: {'PE': 'Not Found', 'KE': 'Insufficient', 'LCE': 'Acceptable', 'NF': 'Not Found'}\n",
      " Expected: {'PE': 'Not Found', 'KE': 'Insufficient', 'LCE': 'Not Found'}\n",
      "FAIL: Kinetic energy is not measured in Joules\n",
      " Actual: {'PE': 'Unacceptable', 'KE': 'Not Found', 'LCE': 'Insufficient', 'NF': 'Insufficient'}\n",
      " Expected: {'PE': 'Not Found', 'KE': 'Insufficient', 'LCE': 'Not Found'}\n",
      "FAIL: Kinetic energy is not equal to .5*m*v^2\n",
      " Actual: {'PE': 'Acceptable', 'KE': 'Not Found', 'LCE': 'Not Found', 'NF': 'Insufficient'}\n",
      " Expected: {'PE': 'Not Found', 'KE': 'Insufficient', 'LCE': 'Not Found'}\n",
      "3 fails out of 3 tests\n",
      "FAIL: The Law of Conservation of energy does not state potential energy transforms into kinetic energy.\n",
      " Actual: {'PE': 'Insufficient', 'KE': 'Not Found', 'LCE': 'Not Found', 'NF': 'Acceptable'}\n",
      " Expected: {'PE': 'Not Found', 'KE': 'Not Found', 'LCE': 'Insufficient'}\n",
      "FAIL: The Law of Conservation of energy does not state As the car goes down the hill, some energy is lost to friction as heat.\n",
      " Actual: {'PE': 'Unacceptable', 'KE': 'Unacceptable', 'LCE': 'Acceptable', 'NF': 'Insufficient'}\n",
      " Expected: {'PE': 'Not Found', 'KE': 'Not Found', 'LCE': 'Insufficient'}\n",
      "2 fails out of 3 tests\n"
     ]
    }
   ],
   "source": [
    "samples = editor.template(\n",
    "    \"Potential energy is not {pe_insufficient}\",\n",
    "    pe_insufficient=PE_INSUFFICIENT\n",
    ")\n",
    "getData(samples, {\"PE\": \"Insufficient\", \"KE\": \"Not Found\", \"LCE\": \"Not Found\"})\n",
    "\n",
    "samples = editor.template(\n",
    "    \"Kinetic energy is not {ke_insufficient}\",\n",
    "    ke_insufficient=KE_INSUFFICIENT\n",
    ")\n",
    "getData(samples, {\"PE\": \"Not Found\", \"KE\": \"Insufficient\", \"LCE\": \"Not Found\"})\n",
    "\n",
    "samples = editor.template(\n",
    "    \"The Law of Conservation of energy does not state {lce_insufficient}.\",\n",
    "    lce_insufficient=LCE_INSUFFICIENT\n",
    ")\n",
    "getData(samples, {\"PE\": \"Not Found\", \"KE\": \"Not Found\", \"LCE\": \"Insufficient\"})\n"
   ],
   "metadata": {
    "collapsed": false,
    "ExecuteTime": {
     "end_time": "2023-10-23T02:02:48.156838Z",
     "start_time": "2023-10-23T02:02:48.149601Z"
    }
   },
   "id": "6556105e219eaff4"
  },
  {
   "cell_type": "markdown",
   "source": [
    "# Robustness\n",
    "\n",
    "## INV"
   ],
   "metadata": {
    "collapsed": false
   },
   "id": "c241e6cb1a490c1b"
  },
  {
   "cell_type": "markdown",
   "source": [
    "### Misspelling of words\n",
    "Should return the same value"
   ],
   "metadata": {
    "collapsed": false
   },
   "id": "5a7fbb4021d2dbaa"
  },
  {
   "cell_type": "markdown",
   "source": [
    "#### Correct definitions"
   ],
   "metadata": {
    "collapsed": false
   },
   "id": "6ff768fc8a6764a8"
  },
  {
   "cell_type": "code",
   "execution_count": 16,
   "outputs": [
    {
     "name": "stdout",
     "output_type": "stream",
     "text": [
      "FAIL: Potential energy is energy that body has becuse of its posiion relative to other bdies.\n",
      " Actual: {'PE': 'Insufficient', 'KE': 'Unacceptable', 'LCE': 'Insufficient', 'NF': 'Insufficient'}\n",
      " Expected: {'PE': 'Acceptable', 'KE': 'Not Found', 'LCE': 'Not Found'}\n",
      "FAIL: Potential energy is energy store in te car at the tp of the initl drp.\n",
      " Actual: {'PE': 'Acceptable', 'KE': 'Not Found', 'LCE': 'Insufficient', 'NF': 'Unacceptable'}\n",
      " Expected: {'PE': 'Acceptable', 'KE': 'Not Found', 'LCE': 'Not Found'}\n",
      "2 fails out of 2 tests\n",
      "FAIL: Kinetic energy is Kinetic enery is energy tht the car hs bcase i is movng.\n",
      " Actual: {'PE': 'Insufficient', 'KE': 'Acceptable', 'LCE': 'Acceptable', 'NF': 'Acceptable'}\n",
      " Expected: {'PE': 'Not Found', 'KE': 'Acceptable', 'LCE': 'Not Found'}\n",
      "FAIL: Kinetic energy is Kinetic ergy is the wrk neded to acelerate the rolercoaser car from rest.\n",
      " Actual: {'PE': 'Not Found', 'KE': 'Insufficient', 'LCE': 'Insufficient', 'NF': 'Unacceptable'}\n",
      " Expected: {'PE': 'Not Found', 'KE': 'Acceptable', 'LCE': 'Not Found'}\n",
      "2 fails out of 2 tests\n",
      "FAIL: The Law of Conservation of energy states that energy canot be create or destroy, ony transfomed..\n",
      " Actual: {'PE': 'Unacceptable', 'KE': 'Insufficient', 'LCE': 'Insufficient', 'NF': 'Insufficient'}\n",
      " Expected: {'PE': 'Not Found', 'KE': 'Not Found', 'LCE': 'Acceptable'}\n",
      "FAIL: The Law of Conservation of energy states the totl energy of an isolated systm remain constnt..\n",
      " Actual: {'PE': 'Not Found', 'KE': 'Unacceptable', 'LCE': 'Unacceptable', 'NF': 'Acceptable'}\n",
      " Expected: {'PE': 'Not Found', 'KE': 'Not Found', 'LCE': 'Acceptable'}\n",
      "2 fails out of 2 tests\n"
     ]
    }
   ],
   "source": [
    "PE_TYPO_CORRECT = [\n",
    "    \"energy that body has becuse of its posiion relative to other bdies.\",\n",
    "    \"energy store in te car at the tp of the initl drp.\",\n",
    "]\n",
    "KE_TYPO_CORRECT = [\n",
    "    \"Kinetic enery is energy tht the car hs bcase i is movng.\",\n",
    "    \"Kinetic ergy is the wrk neded to acelerate the rolercoaser car from rest.\",\n",
    "]\n",
    "LCE_TYPO_CORRECT = [\n",
    "    \"that energy canot be create or destroy, ony transfomed.\",\n",
    "    \"the totl energy of an isolated systm remain constnt.\",\n",
    "]\n",
    "\n",
    "samples = editor.template(\n",
    "    \"Potential energy is {pe_typo_correct}\",\n",
    "    pe_typo_correct=PE_TYPO_CORRECT\n",
    ")\n",
    "getData(samples, {\"PE\": \"Acceptable\", \"KE\": \"Not Found\", \"LCE\": \"Not Found\"})\n",
    "\n",
    "samples = editor.template(\n",
    "    \"Kinetic energy is {ke_typo_correct}\",\n",
    "    ke_typo_correct=KE_TYPO_CORRECT\n",
    ")\n",
    "getData(samples, {\"PE\": \"Not Found\", \"KE\": \"Acceptable\", \"LCE\": \"Not Found\"})\n",
    "\n",
    "samples = editor.template(\n",
    "    \"The Law of Conservation of energy states {lce_typo_correct}.\",\n",
    "    lce_typo_correct=LCE_TYPO_CORRECT\n",
    ")\n",
    "\n",
    "getData(samples, {\"PE\": \"Not Found\", \"KE\": \"Not Found\", \"LCE\": \"Acceptable\"})"
   ],
   "metadata": {
    "collapsed": false,
    "ExecuteTime": {
     "end_time": "2023-10-23T02:02:49.901685Z",
     "start_time": "2023-10-23T02:02:49.891270Z"
    }
   },
   "id": "ea674b207f29e707"
  },
  {
   "cell_type": "markdown",
   "source": [
    "#### Incorrect definitions"
   ],
   "metadata": {
    "collapsed": false
   },
   "id": "f52c65762ae53fd7"
  },
  {
   "cell_type": "code",
   "execution_count": 17,
   "outputs": [
    {
     "name": "stdout",
     "output_type": "stream",
     "text": [
      "FAIL: Potential energy is Potential energy i energy in moton.\n",
      " Actual: {'PE': 'Unacceptable', 'KE': 'Not Found', 'LCE': 'Insufficient', 'NF': 'Insufficient'}\n",
      " Expected: {'PE': 'Unacceptable', 'KE': 'Not Found', 'LCE': 'Not Found'}\n",
      "FAIL: Potential energy is Potentia energy is the energy lose as th car go down the hil.\n",
      " Actual: {'PE': 'Insufficient', 'KE': 'Insufficient', 'LCE': 'Not Found', 'NF': 'Unacceptable'}\n",
      " Expected: {'PE': 'Unacceptable', 'KE': 'Not Found', 'LCE': 'Not Found'}\n",
      "2 fails out of 2 tests\n",
      "FAIL: Kinetic energy is Kinetic enery is energy tht the car hs bcase i is movng.\n",
      " Actual: {'PE': 'Acceptable', 'KE': 'Insufficient', 'LCE': 'Unacceptable', 'NF': 'Unacceptable'}\n",
      " Expected: {'PE': 'Not Found', 'KE': 'Unacceptable', 'LCE': 'Not Found'}\n",
      "FAIL: Kinetic energy is Kinetic ergy is the wrk neded to acelerate the rolercoaser car from rest.\n",
      " Actual: {'PE': 'Not Found', 'KE': 'Not Found', 'LCE': 'Acceptable', 'NF': 'Unacceptable'}\n",
      " Expected: {'PE': 'Not Found', 'KE': 'Unacceptable', 'LCE': 'Not Found'}\n",
      "2 fails out of 2 tests\n",
      "FAIL: The Law of Conservation of energy states LCE says that energy canot be create or destroy, ony transfomed..\n",
      " Actual: {'PE': 'Not Found', 'KE': 'Unacceptable', 'LCE': 'Unacceptable', 'NF': 'Insufficient'}\n",
      " Expected: {'PE': 'Not Found', 'KE': 'Not Found', 'LCE': 'Unacceptable'}\n",
      "FAIL: The Law of Conservation of energy states LCE state the totl energy of an isolated systm remain constnt..\n",
      " Actual: {'PE': 'Unacceptable', 'KE': 'Unacceptable', 'LCE': 'Insufficient', 'NF': 'Acceptable'}\n",
      " Expected: {'PE': 'Not Found', 'KE': 'Not Found', 'LCE': 'Unacceptable'}\n",
      "2 fails out of 2 tests\n"
     ]
    }
   ],
   "source": [
    "PE_TYPO_INCORRECT = [\n",
    "    \"Potential energy i energy in moton.\",\n",
    "    \"Potentia energy is the energy lose as th car go down the hil.\",\n",
    "]\n",
    "KE_TYPO_INCORRECT = [\n",
    "    \"Kinetic enery is energy tht the car hs bcase i is movng.\",\n",
    "    \"Kinetic ergy is the wrk neded to acelerate the rolercoaser car from rest.\",\n",
    "\n",
    "]\n",
    "LCE_TYPO_INCORRECT = [\n",
    "    \"LCE says that energy canot be create or destroy, ony transfomed.\",\n",
    "    \"LCE state the totl energy of an isolated systm remain constnt.\",\n",
    "]\n",
    "\n",
    "samples = editor.template(\n",
    "    \"Potential energy is {pe_typo_incorrect}\",\n",
    "    pe_typo_incorrect=PE_TYPO_INCORRECT\n",
    ")\n",
    "getData(samples, {\"PE\": \"Unacceptable\", \"KE\": \"Not Found\", \"LCE\": \"Not Found\"})\n",
    "\n",
    "samples = editor.template(\n",
    "    \"Kinetic energy is {ke_typo_incorrect}\",\n",
    "    ke_typo_incorrect=KE_TYPO_INCORRECT\n",
    ")\n",
    "getData(samples, {\"PE\": \"Not Found\", \"KE\": \"Unacceptable\", \"LCE\": \"Not Found\"})\n",
    "\n",
    "samples = editor.template(\n",
    "    \"The Law of Conservation of energy states {lce_typo_incorrect}.\",\n",
    "    lce_typo_incorrect=LCE_TYPO_INCORRECT\n",
    ")\n",
    "getData(samples, {\"PE\": \"Not Found\", \"KE\": \"Not Found\", \"LCE\": \"Unacceptable\"})\n"
   ],
   "metadata": {
    "collapsed": false,
    "ExecuteTime": {
     "end_time": "2023-10-23T02:02:50.785530Z",
     "start_time": "2023-10-23T02:02:50.771222Z"
    }
   },
   "id": "ebb56d47f57f470f"
  },
  {
   "cell_type": "markdown",
   "source": [
    "#### Insufficient definitions"
   ],
   "metadata": {
    "collapsed": false
   },
   "id": "d150c74046ed66e2"
  },
  {
   "cell_type": "code",
   "execution_count": 18,
   "outputs": [
    {
     "name": "stdout",
     "output_type": "stream",
     "text": [
      "FAIL: Potential energy is The potentia energ at the top of te rollercoaer is 4.9 juls.\n",
      " Actual: {'PE': 'Acceptable', 'KE': 'Acceptable', 'LCE': 'Unacceptable', 'NF': 'Insufficient'}\n",
      " Expected: {'PE': 'Insufficient', 'KE': 'Not Found', 'LCE': 'Not Found'}\n",
      "FAIL: Potential energy is Potential enrgy is measur in jules.\n",
      " Actual: {'PE': 'Unacceptable', 'KE': 'Insufficient', 'LCE': 'Acceptable', 'NF': 'Not Found'}\n",
      " Expected: {'PE': 'Insufficient', 'KE': 'Not Found', 'LCE': 'Not Found'}\n",
      "2 fails out of 2 tests\n",
      "FAIL: Kinetic energy is The kinetic energy at the botom of the hile is 4.8 joul.\n",
      " Actual: {'PE': 'Acceptable', 'KE': 'Not Found', 'LCE': 'Not Found', 'NF': 'Not Found'}\n",
      " Expected: {'PE': 'Not Found', 'KE': 'Insufficient', 'LCE': 'Not Found'}\n",
      "FAIL: Kinetic energy is Kinetic nergy transfourms into heet thrugh fricton\n",
      " Actual: {'PE': 'Acceptable', 'KE': 'Acceptable', 'LCE': 'Unacceptable', 'NF': 'Unacceptable'}\n",
      " Expected: {'PE': 'Not Found', 'KE': 'Insufficient', 'LCE': 'Not Found'}\n",
      "2 fails out of 2 tests\n",
      "FAIL: The Law of Conservation of energy states The potensial energy trainsforms in to kinetic energy becuz of the law of conservashun of energy..\n",
      " Actual: {'PE': 'Unacceptable', 'KE': 'Unacceptable', 'LCE': 'Not Found', 'NF': 'Not Found'}\n",
      " Expected: {'PE': 'Not Found', 'KE': 'Not Found', 'LCE': 'Insufficient'}\n",
      "FAIL: The Law of Conservation of energy states As the car goes down the hill, some energ is lost to fricshiun as heat..\n",
      " Actual: {'PE': 'Acceptable', 'KE': 'Not Found', 'LCE': 'Not Found', 'NF': 'Acceptable'}\n",
      " Expected: {'PE': 'Not Found', 'KE': 'Not Found', 'LCE': 'Insufficient'}\n",
      "2 fails out of 2 tests\n"
     ]
    }
   ],
   "source": [
    "PE_TYPO_INSUFFICIENT = [\n",
    "    \"The potentia energ at the top of te rollercoaer is 4.9 juls.\",\n",
    "    \"Potential enrgy is measur in jules.\",\n",
    "]\n",
    "KE_TYPO_INSUFFICIENT = [\n",
    "    \"The kinetic energy at the botom of the hile is 4.8 joul.\",\n",
    "    \"Kinetic nergy transfourms into heet thrugh fricton\",\n",
    "]\n",
    "LCE_TYPO_INSUFFICIENT = [\n",
    "    \"The potensial energy trainsforms in to kinetic energy becuz of the law of conservashun of energy.\",\n",
    "    \"As the car goes down the hill, some energ is lost to fricshiun as heat.\",\n",
    "]\n",
    "\n",
    "samples = editor.template(\n",
    "    \"Potential energy is {pe_typo_insufficient}\",\n",
    "    pe_typo_insufficient=PE_TYPO_INSUFFICIENT\n",
    ")\n",
    "getData(samples, {\"PE\": \"Insufficient\", \"KE\": \"Not Found\", \"LCE\": \"Not Found\"})\n",
    "\n",
    "samples = editor.template(\n",
    "    \"Kinetic energy is {ke_typo_insufficient}\",\n",
    "    ke_typo_insufficient=KE_TYPO_INSUFFICIENT\n",
    ")\n",
    "getData(samples, {\"PE\": \"Not Found\", \"KE\": \"Insufficient\", \"LCE\": \"Not Found\"})\n",
    "\n",
    "samples = editor.template(\n",
    "    \"The Law of Conservation of energy states {lce_typo_insufficient}.\",\n",
    "    lce_typo_insufficient=LCE_TYPO_INSUFFICIENT\n",
    ")\n",
    "getData(samples, {\"PE\": \"Not Found\", \"KE\": \"Not Found\", \"LCE\": \"Insufficient\"})\n"
   ],
   "metadata": {
    "collapsed": false,
    "ExecuteTime": {
     "end_time": "2023-10-23T02:02:51.891327Z",
     "start_time": "2023-10-23T02:02:51.889421Z"
    }
   },
   "id": "a1ec8081965462e4"
  },
  {
   "cell_type": "markdown",
   "source": [
    "# Taxonomy\n",
    "\n",
    "## INV\n",
    "### Replacing words with synonyms\n",
    "#### Correct definition"
   ],
   "metadata": {
    "collapsed": false
   },
   "id": "cbfb57d037dd6990"
  },
  {
   "cell_type": "code",
   "execution_count": 19,
   "outputs": [
    {
     "ename": "TypeError",
     "evalue": "string indices must be integers, not 'str'",
     "output_type": "error",
     "traceback": [
      "\u001B[0;31m---------------------------------------------------------------------------\u001B[0m",
      "\u001B[0;31mTypeError\u001B[0m                                 Traceback (most recent call last)",
      "Cell \u001B[0;32mIn[19], line 27\u001B[0m\n\u001B[1;32m     18\u001B[0m samples \u001B[38;5;241m+\u001B[39m\u001B[38;5;241m=\u001B[39m editor\u001B[38;5;241m.\u001B[39mtemplate(\n\u001B[1;32m     19\u001B[0m     \u001B[38;5;124m\"\u001B[39m\u001B[38;5;124mKinetic energy is \u001B[39m\u001B[38;5;132;01m{ke_synonym_correct}\u001B[39;00m\u001B[38;5;124m\"\u001B[39m,\n\u001B[1;32m     20\u001B[0m     ke_synonym_correct\u001B[38;5;241m=\u001B[39mKE_SYNONYM_CORRECT, nsamples\u001B[38;5;241m=\u001B[39m\u001B[38;5;241m5\u001B[39m, labels\u001B[38;5;241m=\u001B[39m\u001B[38;5;241m0\u001B[39m\n\u001B[1;32m     21\u001B[0m )\n\u001B[1;32m     22\u001B[0m samples \u001B[38;5;241m+\u001B[39m\u001B[38;5;241m=\u001B[39m editor\u001B[38;5;241m.\u001B[39mtemplate(\n\u001B[1;32m     23\u001B[0m     \u001B[38;5;124m\"\u001B[39m\u001B[38;5;124mThe Law of Conservation of energy states \u001B[39m\u001B[38;5;132;01m{lce_synonym_correct}\u001B[39;00m\u001B[38;5;124m.\u001B[39m\u001B[38;5;124m\"\u001B[39m,\n\u001B[1;32m     24\u001B[0m     lce_synonym_correct\u001B[38;5;241m=\u001B[39mLCE_SYNONYM_CORRECT, nsamples\u001B[38;5;241m=\u001B[39m\u001B[38;5;241m5\u001B[39m, labels\u001B[38;5;241m=\u001B[39m\u001B[38;5;241m0\u001B[39m\n\u001B[1;32m     25\u001B[0m )\n\u001B[0;32m---> 27\u001B[0m data, freqs \u001B[38;5;241m=\u001B[39m \u001B[43mgetData\u001B[49m\u001B[43m(\u001B[49m\u001B[43msamples\u001B[49m\u001B[43m,\u001B[49m\u001B[43m \u001B[49m\u001B[38;5;124;43m\"\u001B[39;49m\u001B[38;5;124;43mAcceptable\u001B[39;49m\u001B[38;5;124;43m\"\u001B[39;49m\u001B[43m)\u001B[49m\n",
      "Cell \u001B[0;32mIn[5], line 17\u001B[0m, in \u001B[0;36mgetData\u001B[0;34m(samples, expected)\u001B[0m\n\u001B[1;32m     15\u001B[0m label \u001B[38;5;241m=\u001B[39m d[\u001B[38;5;124m'\u001B[39m\u001B[38;5;124mPE\u001B[39m\u001B[38;5;124m'\u001B[39m] \u001B[38;5;28;01mif\u001B[39;00m \u001B[38;5;28mlen\u001B[39m(d[\u001B[38;5;124m'\u001B[39m\u001B[38;5;124mPE\u001B[39m\u001B[38;5;124m'\u001B[39m]) \u001B[38;5;241m!=\u001B[39m \u001B[38;5;241m0\u001B[39m \u001B[38;5;28;01melse\u001B[39;00m d[\u001B[38;5;124m'\u001B[39m\u001B[38;5;124mKE\u001B[39m\u001B[38;5;124m'\u001B[39m] \u001B[38;5;28;01mif\u001B[39;00m \u001B[38;5;28mlen\u001B[39m(d[\u001B[38;5;124m'\u001B[39m\u001B[38;5;124mKE\u001B[39m\u001B[38;5;124m'\u001B[39m]) \u001B[38;5;241m!=\u001B[39m \u001B[38;5;241m0\u001B[39m \u001B[38;5;28;01melse\u001B[39;00m d[\u001B[38;5;124m'\u001B[39m\u001B[38;5;124mLCE\u001B[39m\u001B[38;5;124m'\u001B[39m]\n\u001B[1;32m     16\u001B[0m score \u001B[38;5;241m=\u001B[39m \u001B[38;5;241m0\u001B[39m\n\u001B[0;32m---> 17\u001B[0m \u001B[38;5;28;01mif\u001B[39;00m \u001B[43mexpected\u001B[49m\u001B[43m[\u001B[49m\u001B[38;5;124;43m'\u001B[39;49m\u001B[38;5;124;43mPE\u001B[39;49m\u001B[38;5;124;43m'\u001B[39;49m\u001B[43m]\u001B[49m \u001B[38;5;241m==\u001B[39m d[\u001B[38;5;124m'\u001B[39m\u001B[38;5;124mPE\u001B[39m\u001B[38;5;124m'\u001B[39m]:\n\u001B[1;32m     18\u001B[0m     score \u001B[38;5;241m+\u001B[39m\u001B[38;5;241m=\u001B[39m \u001B[38;5;241m1\u001B[39m\n\u001B[1;32m     19\u001B[0m \u001B[38;5;28;01mif\u001B[39;00m expected[\u001B[38;5;124m'\u001B[39m\u001B[38;5;124mKE\u001B[39m\u001B[38;5;124m'\u001B[39m] \u001B[38;5;241m==\u001B[39m d[\u001B[38;5;124m'\u001B[39m\u001B[38;5;124mKE\u001B[39m\u001B[38;5;124m'\u001B[39m]:\n",
      "\u001B[0;31mTypeError\u001B[0m: string indices must be integers, not 'str'"
     ]
    }
   ],
   "source": [
    "PE_SYNONYM_CORRECT = [\n",
    "    \"energy that body has becuse of its posiion relative to other bdies.\"\n",
    "    \"energy store in te car at the tp of the initl drp.\"\n",
    "]\n",
    "KE_SYNONYM_CORRECT = [\n",
    "    \"Kinetic enery is energy tht the car hs bcase i is movng.\"\n",
    "    \"Kinetic ergy is the wrk neded to acelerate the rolercoaser car from rest.\"\n",
    "]\n",
    "LCE_SYNONYM_CORRECT = [\n",
    "    \"that energy canot be create or destroy, ony transfomed.\"\n",
    "    \"the totl energy of an isolated systm remain constnt.\"\n",
    "]\n",
    "\n",
    "samples = editor.template(\n",
    "    \"Potential energy is {pe_synonym_correct}\",\n",
    "    pe_synonym_correct=PE_SYNONYM_CORRECT, nsamples=5, labels=0\n",
    ")\n",
    "samples += editor.template(\n",
    "    \"Kinetic energy is {ke_synonym_correct}\",\n",
    "    ke_synonym_correct=KE_SYNONYM_CORRECT, nsamples=5, labels=0\n",
    ")\n",
    "samples += editor.template(\n",
    "    \"The Law of Conservation of energy states {lce_synonym_correct}.\",\n",
    "    lce_synonym_correct=LCE_SYNONYM_CORRECT, nsamples=5, labels=0\n",
    ")\n",
    "\n",
    "data, freqs = getData(samples, \"Acceptable\")"
   ],
   "metadata": {
    "collapsed": false,
    "ExecuteTime": {
     "end_time": "2023-10-23T02:02:53.098375Z",
     "start_time": "2023-10-23T02:02:52.984289Z"
    }
   },
   "id": "e1cdc05e36746ed8"
  },
  {
   "cell_type": "markdown",
   "source": [
    "#### Incorrect definition"
   ],
   "metadata": {
    "collapsed": false
   },
   "id": "e2bf99c931d5e20"
  },
  {
   "cell_type": "code",
   "execution_count": 20,
   "outputs": [
    {
     "name": "stdout",
     "output_type": "stream",
     "text": [
      "FAIL: Potential energy is Potential energy is the energy lost as the car rolls down the hill.\n",
      " Actual: {'PE': 'Unacceptable', 'KE': 'Insufficient', 'LCE': 'Unacceptable', 'NF': 'Insufficient'}\n",
      " Expected: {'PE': 'Unacceptable', 'KE': 'Not Found', 'LCE': 'Not Found'}\n",
      "FAIL: Potential energy is Potential energy is the opposite of kinetic energy.\n",
      " Actual: {'PE': 'Not Found', 'KE': 'Insufficient', 'LCE': 'Unacceptable', 'NF': 'Acceptable'}\n",
      " Expected: {'PE': 'Unacceptable', 'KE': 'Not Found', 'LCE': 'Not Found'}\n",
      "2 fails out of 2 tests\n",
      "FAIL: Kinetic energy is Kinetic energy is never lost or gained as the car moves through the rollercoaster.\n",
      " Actual: {'PE': 'Insufficient', 'KE': 'Unacceptable', 'LCE': 'Unacceptable', 'NF': 'Unacceptable'}\n",
      " Expected: {'PE': 'Not Found', 'KE': 'Unacceptable', 'LCE': 'Not Found'}\n",
      "FAIL: Kinetic energy is Kinetic energy is the opposite of potential energy.\n",
      " Actual: {'PE': 'Not Found', 'KE': 'Insufficient', 'LCE': 'Acceptable', 'NF': 'Not Found'}\n",
      " Expected: {'PE': 'Not Found', 'KE': 'Unacceptable', 'LCE': 'Not Found'}\n",
      "2 fails out of 2 tests\n",
      "FAIL: The Law of Conservation of energy states LCE says that energy can be made and taken..\n",
      " Actual: {'PE': 'Insufficient', 'KE': 'Unacceptable', 'LCE': 'Unacceptable', 'NF': 'Unacceptable'}\n",
      " Expected: {'PE': 'Not Found', 'KE': 'Not Found', 'LCE': 'Unacceptable'}\n",
      "FAIL: The Law of Conservation of energy states LCE states that the energy of a closed system will differ..\n",
      " Actual: {'PE': 'Unacceptable', 'KE': 'Acceptable', 'LCE': 'Insufficient', 'NF': 'Insufficient'}\n",
      " Expected: {'PE': 'Not Found', 'KE': 'Not Found', 'LCE': 'Unacceptable'}\n",
      "FAIL: The Law of Conservation of energy states LCE says that in an open system, energy is constant.\n",
      " Actual: {'PE': 'Insufficient', 'KE': 'Acceptable', 'LCE': 'Insufficient', 'NF': 'Insufficient'}\n",
      " Expected: {'PE': 'Not Found', 'KE': 'Not Found', 'LCE': 'Unacceptable'}\n",
      "3 fails out of 3 tests\n"
     ]
    }
   ],
   "source": [
    "PE_SYNONYM_INCORRECT = [\n",
    "    \"Potential energy is the energy lost as the car rolls down the hill.\",\n",
    "    \"Potential energy is the opposite of kinetic energy.\",\n",
    "]\n",
    "KE_SYNONYM_INCORRECT = [\n",
    "    \"Kinetic energy is never lost or gained as the car moves through the rollercoaster.\",\n",
    "    \"Kinetic energy is the opposite of potential energy.\",\n",
    "]\n",
    "LCE_SYNONYM_INCORRECT = [\n",
    "    \"LCE says that energy can be made and taken.\",\n",
    "    \"LCE states that the energy of a closed system will differ.\",\n",
    "    \"LCE says that in an open system, energy is constant\",\n",
    "]\n",
    "\n",
    "samples = editor.template(\n",
    "    \"Potential energy is {pe_synonym_incorrect}\",\n",
    "    pe_synonym_incorrect=PE_SYNONYM_INCORRECT\n",
    ")\n",
    "getData(samples, {\"PE\": \"Unacceptable\", \"KE\": \"Not Found\", \"LCE\": \"Not Found\"})\n",
    "\n",
    "samples = editor.template(\n",
    "    \"Kinetic energy is {ke_synonym_incorrect}\",\n",
    "    ke_synonym_incorrect=KE_SYNONYM_INCORRECT\n",
    ")\n",
    "getData(samples, {\"PE\": \"Not Found\", \"KE\": \"Unacceptable\", \"LCE\": \"Not Found\"})\n",
    "\n",
    "samples = editor.template(\n",
    "    \"The Law of Conservation of energy states {lce_synonym_incorrect}.\",\n",
    "    lce_synonym_incorrect=LCE_SYNONYM_INCORRECT\n",
    ")\n",
    "getData(samples, {\"PE\": \"Not Found\", \"KE\": \"Not Found\", \"LCE\": \"Unacceptable\"})"
   ],
   "metadata": {
    "collapsed": false,
    "ExecuteTime": {
     "end_time": "2023-10-23T02:02:59.153168Z",
     "start_time": "2023-10-23T02:02:59.139714Z"
    }
   },
   "id": "f1a2bad51427327a"
  },
  {
   "cell_type": "markdown",
   "source": [
    "#### Insufficient definition"
   ],
   "metadata": {
    "collapsed": false
   },
   "id": "9795ded78d2924fe"
  },
  {
   "cell_type": "code",
   "execution_count": 22,
   "outputs": [
    {
     "name": "stdout",
     "output_type": "stream",
     "text": [
      "FAIL: Potential energy is The potential energy at the tip of the rollercoaster is 4.9 joules.\n",
      " Actual: {'PE': 'Acceptable', 'KE': 'Unacceptable', 'LCE': 'Not Found', 'NF': 'Insufficient'}\n",
      " Expected: {'PE': 'Insufficient', 'KE': 'Not Found', 'LCE': 'Not Found'}\n",
      "FAIL: Potential energy is Potential energy is calculated in joules.\n",
      " Actual: {'PE': 'Not Found', 'KE': 'Acceptable', 'LCE': 'Insufficient', 'NF': 'Insufficient'}\n",
      " Expected: {'PE': 'Insufficient', 'KE': 'Not Found', 'LCE': 'Not Found'}\n",
      "2 fails out of 2 tests\n",
      "FAIL: Kinetic energy is There is higher kinetic energy at the bottom of the hill than at the top.\n",
      " Actual: {'PE': 'Unacceptable', 'KE': 'Insufficient', 'LCE': 'Not Found', 'NF': 'Acceptable'}\n",
      " Expected: {'PE': 'Not Found', 'KE': 'Insufficient', 'LCE': 'Not Found'}\n",
      "FAIL: Kinetic energy is Kinetic energy turns into heat through friction\n",
      " Actual: {'PE': 'Acceptable', 'KE': 'Insufficient', 'LCE': 'Unacceptable', 'NF': 'Unacceptable'}\n",
      " Expected: {'PE': 'Not Found', 'KE': 'Insufficient', 'LCE': 'Not Found'}\n",
      "2 fails out of 2 tests\n",
      "FAIL: The Law of Conservation of energy states As the car goes down the hill, some energy does away to friction as heat..\n",
      " Actual: {'PE': 'Insufficient', 'KE': 'Acceptable', 'LCE': 'Acceptable', 'NF': 'Acceptable'}\n",
      " Expected: {'PE': 'Not Found', 'KE': 'Not Found', 'LCE': 'Insufficient'}\n",
      "FAIL: The Law of Conservation of energy states If there were no friction, the energy would stay the same..\n",
      " Actual: {'PE': 'Unacceptable', 'KE': 'Acceptable', 'LCE': 'Not Found', 'NF': 'Insufficient'}\n",
      " Expected: {'PE': 'Not Found', 'KE': 'Not Found', 'LCE': 'Insufficient'}\n",
      "2 fails out of 2 tests\n"
     ]
    }
   ],
   "source": [
    "PE_SYNONYM_INSUFFICIENT = [\n",
    "    \"The potential energy at the tip of the rollercoaster is 4.9 joules.\",\n",
    "    \"Potential energy is calculated in joules.\",\n",
    "]\n",
    "KE_SYNONYM_INSUFFICIENT = [\n",
    "    \"There is higher kinetic energy at the bottom of the hill than at the top.\",\n",
    "    \"Kinetic energy turns into heat through friction\",\n",
    "]\n",
    "LCE_SYNONYM_INSUFFICIENT = [\n",
    "    \"As the car goes down the hill, some energy does away to friction as heat.\",\n",
    "    \"If there were no friction, the energy would stay the same.\",\n",
    "]\n",
    "\n",
    "samples = editor.template(\n",
    "    \"Potential energy is {pe_synonym_insufficient}\",\n",
    "    pe_synonym_insufficient=PE_SYNONYM_INSUFFICIENT\n",
    ")\n",
    "getData(samples, {\"PE\": \"Insufficient\", \"KE\": \"Not Found\", \"LCE\": \"Not Found\"})\n",
    "\n",
    "samples = editor.template(\n",
    "    \"Kinetic energy is {ke_synonym_insufficient}\",\n",
    "    ke_synonym_insufficient=KE_SYNONYM_INSUFFICIENT\n",
    ")\n",
    "getData(samples, {\"PE\": \"Not Found\", \"KE\": \"Insufficient\", \"LCE\": \"Not Found\"})\n",
    "\n",
    "samples = editor.template(\n",
    "    \"The Law of Conservation of energy states {lce_synonym_insufficient}.\",\n",
    "    lce_synonym_insufficient=LCE_SYNONYM_INSUFFICIENT\n",
    ")\n",
    "getData(samples, {\"PE\": \"Not Found\", \"KE\": \"Not Found\", \"LCE\": \"Insufficient\"})"
   ],
   "metadata": {
    "collapsed": false,
    "ExecuteTime": {
     "end_time": "2023-10-23T02:09:18.955743Z",
     "start_time": "2023-10-23T02:09:18.937233Z"
    }
   },
   "id": "e1ddd48ef0d53703"
  },
  {
   "cell_type": "markdown",
   "source": [],
   "metadata": {
    "collapsed": false
   },
   "id": "c161ad54c2446096"
  },
  {
   "cell_type": "markdown",
   "source": [
    "# Fairness\n",
    "\n",
    "## INV\n",
    "## Test for words being replaced in Spanish\n",
    "#### Correct definitions"
   ],
   "metadata": {
    "collapsed": false
   },
   "id": "71dfb35eb71edd4c"
  },
  {
   "cell_type": "code",
   "execution_count": 25,
   "outputs": [
    {
     "name": "stdout",
     "output_type": "stream",
     "text": [
      "FAIL: Potential energy is Potential energy is energy that a body has because of its position relativa a other bodies.\n",
      " Actual: {'PE': 'Unacceptable', 'KE': 'Unacceptable', 'LCE': 'Acceptable', 'NF': 'Not Found'}\n",
      " Expected: {'PE': 'Acceptable', 'KE': 'Not Found', 'LCE': 'Not Found'}\n",
      "FAIL: Potential energy is Potential energy is the stored energy of the rollercoaster car when no se esta moviendo.\n",
      " Actual: {'PE': 'Acceptable', 'KE': 'Acceptable', 'LCE': 'Not Found', 'NF': 'Acceptable'}\n",
      " Expected: {'PE': 'Acceptable', 'KE': 'Not Found', 'LCE': 'Not Found'}\n",
      "FAIL: Potential energy is Potential energy is energy that has the potential to convertirse en otro form of energy.\n",
      " Actual: {'PE': 'Insufficient', 'KE': 'Not Found', 'LCE': 'Acceptable', 'NF': 'Not Found'}\n",
      " Expected: {'PE': 'Acceptable', 'KE': 'Not Found', 'LCE': 'Not Found'}\n",
      "3 fails out of 3 tests\n",
      "FAIL: Kinetic energy is Kinetic energy is the work necesario para accelerate the rollercoaster car from rest.\n",
      " Actual: {'PE': 'Acceptable', 'KE': 'Not Found', 'LCE': 'Insufficient', 'NF': 'Unacceptable'}\n",
      " Expected: {'PE': 'Not Found', 'KE': 'Acceptable', 'LCE': 'Not Found'}\n",
      "FAIL: Kinetic energy is Kinetic energy is determined by the mass del carro and the velocity with which it is moving.\n",
      " Actual: {'PE': 'Unacceptable', 'KE': 'Not Found', 'LCE': 'Unacceptable', 'NF': 'Unacceptable'}\n",
      " Expected: {'PE': 'Not Found', 'KE': 'Acceptable', 'LCE': 'Not Found'}\n",
      "FAIL: Kinetic energy is Kinetic energy quantifies the work an object performs debido a su movimiento\n",
      " Actual: {'PE': 'Unacceptable', 'KE': 'Unacceptable', 'LCE': 'Acceptable', 'NF': 'Insufficient'}\n",
      " Expected: {'PE': 'Not Found', 'KE': 'Acceptable', 'LCE': 'Not Found'}\n",
      "3 fails out of 3 tests\n",
      "FAIL: The Law of Conservation of energy states LCE states that energy can be convertida from one form to another, but never created or destroyed..\n",
      " Actual: {'PE': 'Insufficient', 'KE': 'Acceptable', 'LCE': 'Acceptable', 'NF': 'Acceptable'}\n",
      " Expected: {'PE': 'Not Found', 'KE': 'Not Found', 'LCE': 'Acceptable'}\n",
      "FAIL: The Law of Conservation of energy states LCE says that if there were no friction, the potential energy en la cima del rollercoaster would be the same as the kinetic energy at the bottom of the drop..\n",
      " Actual: {'PE': 'Insufficient', 'KE': 'Acceptable', 'LCE': 'Acceptable', 'NF': 'Insufficient'}\n",
      " Expected: {'PE': 'Not Found', 'KE': 'Not Found', 'LCE': 'Acceptable'}\n",
      "FAIL: The Law of Conservation of energy states LCE is a physical law that states that energy no se puede crear or destroyed but only transformed.\n",
      " Actual: {'PE': 'Insufficient', 'KE': 'Insufficient', 'LCE': 'Insufficient', 'NF': 'Not Found'}\n",
      " Expected: {'PE': 'Not Found', 'KE': 'Not Found', 'LCE': 'Acceptable'}\n",
      "3 fails out of 3 tests\n"
     ]
    }
   ],
   "source": [
    "PE_SPANISH_CORRECT = [\n",
    "    \"Potential energy is energy that a body has because of its position relativa a other bodies.\",\n",
    "    \"Potential energy is the stored energy of the rollercoaster car when no se esta moviendo.\",\n",
    "    \"Potential energy is energy that has the potential to convertirse en otro form of energy.\",\n",
    "]\n",
    "KE_SPANISH_CORRECT = [\n",
    "    \"Kinetic energy is the work necesario para accelerate the rollercoaster car from rest.\",\n",
    "    \"Kinetic energy is determined by the mass del carro and the velocity with which it is moving.\",\n",
    "    \"Kinetic energy quantifies the work an object performs debido a su movimiento\",\n",
    "]\n",
    "LCE_SPANISH_CORRECT = [\n",
    "    \"LCE states that energy can be convertida from one form to another, but never created or destroyed.\",\n",
    "    \"LCE says that if there were no friction, the potential energy en la cima del rollercoaster would be the same as the kinetic energy at the bottom of the drop.\",\n",
    "    \"LCE is a physical law that states that energy no se puede crear or destroyed but only transformed\",\n",
    "]\n",
    "\n",
    "samples = editor.template(\n",
    "    \"Potential energy is {pe_spanish_correct}\",\n",
    "    pe_spanish_correct=PE_SPANISH_CORRECT,\n",
    ")\n",
    "getData(samples, {\"PE\": \"Acceptable\", \"KE\": \"Not Found\", \"LCE\": \"Not Found\"})\n",
    "\n",
    "samples = editor.template(\n",
    "    \"Kinetic energy is {ke_spanish_correct}\",\n",
    "    ke_spanish_correct=KE_SPANISH_CORRECT\n",
    ")\n",
    "getData(samples, {\"PE\": \"Not Found\", \"KE\": \"Acceptable\", \"LCE\": \"Not Found\"})\n",
    "\n",
    "samples = editor.template(\n",
    "    \"The Law of Conservation of energy states {lce_spanish_correct}.\",\n",
    "    lce_spanish_correct=LCE_SPANISH_CORRECT\n",
    ")\n",
    "getData(samples, {\"PE\": \"Not Found\", \"KE\": \"Not Found\", \"LCE\": \"Acceptable\"})\n"
   ],
   "metadata": {
    "collapsed": false,
    "ExecuteTime": {
     "end_time": "2023-10-23T02:10:50.463541Z",
     "start_time": "2023-10-23T02:10:50.454085Z"
    }
   },
   "id": "13d86846d285ffd5"
  },
  {
   "cell_type": "code",
   "execution_count": null,
   "outputs": [],
   "source": [],
   "metadata": {
    "collapsed": false
   },
   "id": "9c20288c15c23920"
  }
 ],
 "metadata": {
  "kernelspec": {
   "display_name": "Python 3",
   "language": "python",
   "name": "python3"
  },
  "language_info": {
   "codemirror_mode": {
    "name": "ipython",
    "version": 2
   },
   "file_extension": ".py",
   "mimetype": "text/x-python",
   "name": "python",
   "nbconvert_exporter": "python",
   "pygments_lexer": "ipython2",
   "version": "2.7.6"
  }
 },
 "nbformat": 4,
 "nbformat_minor": 5
}
