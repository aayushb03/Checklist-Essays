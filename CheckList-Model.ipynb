{
 "cells": [
  {
   "cell_type": "code",
   "execution_count": 12,
   "id": "initial_id",
   "metadata": {
    "collapsed": true,
    "ExecuteTime": {
     "end_time": "2023-10-09T05:23:14.628229Z",
     "start_time": "2023-10-09T05:23:14.623502Z"
    }
   },
   "outputs": [],
   "source": [
    "from FakeModel import Model\n",
    "\n",
    "from textblob import TextBlob\n",
    "from checklist.editor import Editor\n",
    "from checklist.perturb import Perturb\n",
    "from checklist.test_types import MFT, INV, DIR\n",
    "from checklist.pred_wrapper import PredictorWrapper"
   ]
  },
  {
   "cell_type": "markdown",
   "source": [
    "## Example formatting for FakeModel"
   ],
   "metadata": {
    "collapsed": false
   },
   "id": "fa6cca752281865d"
  },
  {
   "cell_type": "code",
   "execution_count": 17,
   "outputs": [
    {
     "name": "stdout",
     "output_type": "stream",
     "text": [
      "{'PE': 'Acceptable', 'KE': 'Insufficient', 'LCE': 'Acceptable'}\n"
     ]
    }
   ],
   "source": [
    "model_instance = Model(\"abc\")\n",
    "res = model_instance()\n",
    "\n",
    "print(res)"
   ],
   "metadata": {
    "collapsed": false,
    "ExecuteTime": {
     "end_time": "2023-10-09T05:23:25.348968Z",
     "start_time": "2023-10-09T05:23:25.344705Z"
    }
   },
   "id": "62b2b53ca591d78f"
  },
  {
   "cell_type": "markdown",
   "source": [
    "# **Vocab + POS**\n",
    "\n",
    "## Minimum Functionality Tests\n",
    "### Check for correct definitions"
   ],
   "metadata": {
    "collapsed": false
   },
   "id": "86b9947b71be67b3"
  },
  {
   "cell_type": "code",
   "execution_count": 24,
   "outputs": [],
   "source": [
    "# code"
   ],
   "metadata": {
    "collapsed": false,
    "ExecuteTime": {
     "end_time": "2023-10-09T05:35:12.586512Z",
     "start_time": "2023-10-09T05:35:12.583350Z"
    }
   },
   "id": "6a30c7b0c17b1b46"
  },
  {
   "cell_type": "markdown",
   "source": [
    "### Check for incorrect definitions"
   ],
   "metadata": {
    "collapsed": false
   },
   "id": "318f676547d6af38"
  },
  {
   "cell_type": "code",
   "execution_count": 25,
   "outputs": [],
   "source": [
    "# code"
   ],
   "metadata": {
    "collapsed": false,
    "ExecuteTime": {
     "end_time": "2023-10-09T05:35:13.128007Z",
     "start_time": "2023-10-09T05:35:13.125593Z"
    }
   },
   "id": "fc79418aaad3111c"
  },
  {
   "cell_type": "markdown",
   "source": [
    "### Check insufficient definitions"
   ],
   "metadata": {
    "collapsed": false
   },
   "id": "63507fcd14754bf5"
  },
  {
   "cell_type": "code",
   "execution_count": 26,
   "outputs": [],
   "source": [
    "# code"
   ],
   "metadata": {
    "collapsed": false,
    "ExecuteTime": {
     "end_time": "2023-10-09T05:35:13.354889Z",
     "start_time": "2023-10-09T05:35:13.351238Z"
    }
   },
   "id": "70f2ac672c2ae014"
  },
  {
   "cell_type": "markdown",
   "source": [
    "## Directional Tests\n",
    "\n",
    "### Correct definitions followed by incorrect definition"
   ],
   "metadata": {
    "collapsed": false
   },
   "id": "ae054314f56ff49"
  },
  {
   "cell_type": "code",
   "execution_count": 27,
   "outputs": [],
   "source": [
    "# code"
   ],
   "metadata": {
    "collapsed": false,
    "ExecuteTime": {
     "end_time": "2023-10-09T05:35:13.538360Z",
     "start_time": "2023-10-09T05:35:13.535726Z"
    }
   },
   "id": "1ea6cdb584662e85"
  },
  {
   "cell_type": "markdown",
   "source": [
    "### Incorrect Definition followed by correct definition"
   ],
   "metadata": {
    "collapsed": false
   },
   "id": "15af6f8bb8e289d5"
  },
  {
   "cell_type": "code",
   "execution_count": 28,
   "outputs": [],
   "source": [
    "# code"
   ],
   "metadata": {
    "collapsed": false,
    "ExecuteTime": {
     "end_time": "2023-10-09T05:35:13.727384Z",
     "start_time": "2023-10-09T05:35:13.723835Z"
    }
   },
   "id": "e4de510d4d8bef3d"
  },
  {
   "cell_type": "markdown",
   "source": [
    "### Insufficient definition followed by correct definition"
   ],
   "metadata": {
    "collapsed": false
   },
   "id": "6d505343bab8f1f"
  },
  {
   "cell_type": "code",
   "execution_count": 29,
   "outputs": [],
   "source": [
    "# code"
   ],
   "metadata": {
    "collapsed": false,
    "ExecuteTime": {
     "end_time": "2023-10-09T05:35:13.931317Z",
     "start_time": "2023-10-09T05:35:13.927122Z"
    }
   },
   "id": "9eeadd252c41d2d1"
  },
  {
   "cell_type": "markdown",
   "source": [
    "### Insufficient definition followed by incorrect definition"
   ],
   "metadata": {
    "collapsed": false
   },
   "id": "c7eea59ca287fba2"
  },
  {
   "cell_type": "code",
   "execution_count": 30,
   "outputs": [],
   "source": [
    "# code"
   ],
   "metadata": {
    "collapsed": false,
    "ExecuteTime": {
     "end_time": "2023-10-09T05:35:14.126954Z",
     "start_time": "2023-10-09T05:35:14.124236Z"
    }
   },
   "id": "b3334d0146a6878d"
  },
  {
   "cell_type": "markdown",
   "source": [
    "# Negation\n",
    "\n",
    "## MFTs"
   ],
   "metadata": {
    "collapsed": false
   },
   "id": "1fee56206e35d7ae"
  },
  {
   "cell_type": "code",
   "execution_count": 31,
   "outputs": [],
   "source": [
    "# code"
   ],
   "metadata": {
    "collapsed": false,
    "ExecuteTime": {
     "end_time": "2023-10-09T05:35:14.331765Z",
     "start_time": "2023-10-09T05:35:14.328780Z"
    }
   },
   "id": "46c9923461a53ec3"
  },
  {
   "cell_type": "markdown",
   "source": [
    "# Robustness\n",
    "\n",
    "## INV"
   ],
   "metadata": {
    "collapsed": false
   },
   "id": "98305fdc6a6efc58"
  },
  {
   "cell_type": "code",
   "execution_count": 32,
   "outputs": [],
   "source": [
    "# code"
   ],
   "metadata": {
    "collapsed": false,
    "ExecuteTime": {
     "end_time": "2023-10-09T05:35:14.538608Z",
     "start_time": "2023-10-09T05:35:14.534654Z"
    }
   },
   "id": "4ce0fccf57c6d793"
  },
  {
   "cell_type": "markdown",
   "source": [
    "# Taxonomy\n",
    "\n",
    "## INV"
   ],
   "metadata": {
    "collapsed": false
   },
   "id": "7112c91ee7acf89e"
  },
  {
   "cell_type": "code",
   "execution_count": 33,
   "outputs": [],
   "source": [
    "# code"
   ],
   "metadata": {
    "collapsed": false,
    "ExecuteTime": {
     "end_time": "2023-10-09T05:35:14.724232Z",
     "start_time": "2023-10-09T05:35:14.722354Z"
    }
   },
   "id": "c2e8e6a4c945f4eb"
  },
  {
   "cell_type": "markdown",
   "source": [
    "# Fairness\n",
    "\n",
    "## INV"
   ],
   "metadata": {
    "collapsed": false
   },
   "id": "d48d7b2842ca11a5"
  },
  {
   "cell_type": "code",
   "execution_count": 34,
   "outputs": [],
   "source": [
    "# code"
   ],
   "metadata": {
    "collapsed": false,
    "ExecuteTime": {
     "end_time": "2023-10-09T05:35:14.928181Z",
     "start_time": "2023-10-09T05:35:14.919414Z"
    }
   },
   "id": "1b75354d1556ea1a"
  }
 ],
 "metadata": {
  "kernelspec": {
   "display_name": "Python 3",
   "language": "python",
   "name": "python3"
  },
  "language_info": {
   "codemirror_mode": {
    "name": "ipython",
    "version": 2
   },
   "file_extension": ".py",
   "mimetype": "text/x-python",
   "name": "python",
   "nbconvert_exporter": "python",
   "pygments_lexer": "ipython2",
   "version": "2.7.6"
  }
 },
 "nbformat": 4,
 "nbformat_minor": 5
}
