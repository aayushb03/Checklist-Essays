{
 "cells": [
  {
   "cell_type": "code",
   "execution_count": 12,
   "id": "initial_id",
   "metadata": {
    "collapsed": true,
    "ExecuteTime": {
     "end_time": "2023-10-09T05:23:14.628229Z",
     "start_time": "2023-10-09T05:23:14.623502Z"
    }
   },
   "outputs": [],
   "source": [
    "from FakeModel import Model\n",
    "\n",
    "from textblob import TextBlob\n",
    "from checklist.editor import Editor\n",
    "from checklist.perturb import Perturb\n",
    "from checklist.test_types import MFT, INV, DIR\n",
    "from checklist.pred_wrapper import PredictorWrapper"
   ]
  },
  {
   "cell_type": "code",
   "execution_count": 13,
   "outputs": [],
   "source": [
    "editor = Editor()"
   ],
   "metadata": {
    "collapsed": false,
    "ExecuteTime": {
     "end_time": "2023-10-09T05:23:17.991359Z",
     "start_time": "2023-10-09T05:23:17.887389Z"
    }
   },
   "id": "f1bffb191b50b183"
  },
  {
   "cell_type": "code",
   "execution_count": 16,
   "outputs": [
    {
     "data": {
      "text/plain": "0.3499999999999999"
     },
     "execution_count": 16,
     "metadata": {},
     "output_type": "execute_result"
    }
   ],
   "source": [
    "TextBlob(\"Going out to eat is not a bad option\").sentiment[0]"
   ],
   "metadata": {
    "collapsed": false,
    "ExecuteTime": {
     "end_time": "2023-10-09T05:23:23.533768Z",
     "start_time": "2023-10-09T05:23:23.528740Z"
    }
   },
   "id": "ffc12239da953906"
  },
  {
   "cell_type": "markdown",
   "source": [
    "## Example formatting for FakeModel"
   ],
   "metadata": {
    "collapsed": false
   },
   "id": "fa6cca752281865d"
  },
  {
   "cell_type": "code",
   "execution_count": 17,
   "outputs": [
    {
     "name": "stdout",
     "output_type": "stream",
     "text": [
      "{'PE': 'Acceptable', 'KE': 'Insufficient', 'LCE': 'Acceptable'}\n"
     ]
    }
   ],
   "source": [
    "model_instance = Model(\"abc\")\n",
    "res = model_instance()\n",
    "\n",
    "print(res)"
   ],
   "metadata": {
    "collapsed": false,
    "ExecuteTime": {
     "end_time": "2023-10-09T05:23:25.348968Z",
     "start_time": "2023-10-09T05:23:25.344705Z"
    }
   },
   "id": "62b2b53ca591d78f"
  },
  {
   "cell_type": "markdown",
   "source": [
    "# Vocab + POS\n",
    "\n",
    "### Minimum Functionality Test\n",
    "#### Check for Correct definitions"
   ],
   "metadata": {
    "collapsed": false
   },
   "id": "86b9947b71be67b3"
  },
  {
   "cell_type": "code",
   "execution_count": null,
   "outputs": [],
   "source": [],
   "metadata": {
    "collapsed": false
   },
   "id": "6a30c7b0c17b1b46"
  }
 ],
 "metadata": {
  "kernelspec": {
   "display_name": "Python 3",
   "language": "python",
   "name": "python3"
  },
  "language_info": {
   "codemirror_mode": {
    "name": "ipython",
    "version": 2
   },
   "file_extension": ".py",
   "mimetype": "text/x-python",
   "name": "python",
   "nbconvert_exporter": "python",
   "pygments_lexer": "ipython2",
   "version": "2.7.6"
  }
 },
 "nbformat": 4,
 "nbformat_minor": 5
}
