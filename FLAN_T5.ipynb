{
 "cells": [
  {
   "cell_type": "code",
   "execution_count": 2,
   "metadata": {
    "colab": {
     "base_uri": "https://localhost:8080/"
    },
    "id": "ahRGedwRMCxT",
    "outputId": "5c6d7163-a2f8-4904-c3e7-1953ffb2211a"
   },
   "outputs": [
    {
     "metadata": {
      "tags": null
     },
     "name": "stdout",
     "output_type": "stream",
     "text": [
      "Collecting transformers\n",
      "  Downloading transformers-4.33.3-py3-none-any.whl (7.6 MB)\n",
      "\u001B[2K     \u001B[90m━━━━━━━━━━━━━━━━━━━━━━━━━━━━━━━━━━━━━━━━\u001B[0m \u001B[32m7.6/7.6 MB\u001B[0m \u001B[31m30.5 MB/s\u001B[0m eta \u001B[36m0:00:00\u001B[0m\n",
      "\u001B[?25hRequirement already satisfied: filelock in /usr/local/lib/python3.10/dist-packages (from transformers) (3.12.2)\n",
      "Collecting huggingface-hub<1.0,>=0.15.1 (from transformers)\n",
      "  Downloading huggingface_hub-0.17.3-py3-none-any.whl (295 kB)\n",
      "\u001B[2K     \u001B[90m━━━━━━━━━━━━━━━━━━━━━━━━━━━━━━━━━━━━━━\u001B[0m \u001B[32m295.0/295.0 kB\u001B[0m \u001B[31m35.6 MB/s\u001B[0m eta \u001B[36m0:00:00\u001B[0m\n",
      "\u001B[?25hRequirement already satisfied: numpy>=1.17 in /usr/local/lib/python3.10/dist-packages (from transformers) (1.23.5)\n",
      "Requirement already satisfied: packaging>=20.0 in /usr/local/lib/python3.10/dist-packages (from transformers) (23.1)\n",
      "Requirement already satisfied: pyyaml>=5.1 in /usr/local/lib/python3.10/dist-packages (from transformers) (6.0.1)\n",
      "Requirement already satisfied: regex!=2019.12.17 in /usr/local/lib/python3.10/dist-packages (from transformers) (2023.6.3)\n",
      "Requirement already satisfied: requests in /usr/local/lib/python3.10/dist-packages (from transformers) (2.31.0)\n",
      "Collecting tokenizers!=0.11.3,<0.14,>=0.11.1 (from transformers)\n",
      "  Downloading tokenizers-0.13.3-cp310-cp310-manylinux_2_17_x86_64.manylinux2014_x86_64.whl (7.8 MB)\n",
      "\u001B[2K     \u001B[90m━━━━━━━━━━━━━━━━━━━━━━━━━━━━━━━━━━━━━━━━\u001B[0m \u001B[32m7.8/7.8 MB\u001B[0m \u001B[31m89.4 MB/s\u001B[0m eta \u001B[36m0:00:00\u001B[0m\n",
      "\u001B[?25hCollecting safetensors>=0.3.1 (from transformers)\n",
      "  Downloading safetensors-0.3.3-cp310-cp310-manylinux_2_17_x86_64.manylinux2014_x86_64.whl (1.3 MB)\n",
      "\u001B[2K     \u001B[90m━━━━━━━━━━━━━━━━━━━━━━━━━━━━━━━━━━━━━━━━\u001B[0m \u001B[32m1.3/1.3 MB\u001B[0m \u001B[31m59.9 MB/s\u001B[0m eta \u001B[36m0:00:00\u001B[0m\n",
      "\u001B[?25hRequirement already satisfied: tqdm>=4.27 in /usr/local/lib/python3.10/dist-packages (from transformers) (4.66.1)\n",
      "Requirement already satisfied: fsspec in /usr/local/lib/python3.10/dist-packages (from huggingface-hub<1.0,>=0.15.1->transformers) (2023.6.0)\n",
      "Requirement already satisfied: typing-extensions>=3.7.4.3 in /usr/local/lib/python3.10/dist-packages (from huggingface-hub<1.0,>=0.15.1->transformers) (4.5.0)\n",
      "Requirement already satisfied: charset-normalizer<4,>=2 in /usr/local/lib/python3.10/dist-packages (from requests->transformers) (3.2.0)\n",
      "Requirement already satisfied: idna<4,>=2.5 in /usr/local/lib/python3.10/dist-packages (from requests->transformers) (3.4)\n",
      "Requirement already satisfied: urllib3<3,>=1.21.1 in /usr/local/lib/python3.10/dist-packages (from requests->transformers) (2.0.4)\n",
      "Requirement already satisfied: certifi>=2017.4.17 in /usr/local/lib/python3.10/dist-packages (from requests->transformers) (2023.7.22)\n",
      "Installing collected packages: tokenizers, safetensors, huggingface-hub, transformers\n",
      "Successfully installed huggingface-hub-0.17.3 safetensors-0.3.3 tokenizers-0.13.3 transformers-4.33.3\n"
     ]
    }
   ],
   "source": [
    "!pip install transformers"
   ]
  },
  {
   "cell_type": "code",
   "execution_count": 3,
   "metadata": {
    "colab": {
     "base_uri": "https://localhost:8080/"
    },
    "id": "y-Kq9KJfMjZA",
    "outputId": "b28a3953-7a84-4a69-cf6f-35baad6cbae4"
   },
   "outputs": [
    {
     "metadata": {
      "tags": null
     },
     "name": "stdout",
     "output_type": "stream",
     "text": [
      "Collecting sentencepiece\n",
      "  Downloading sentencepiece-0.1.99-cp310-cp310-manylinux_2_17_x86_64.manylinux2014_x86_64.whl (1.3 MB)\n",
      "\u001B[?25l     \u001B[90m━━━━━━━━━━━━━━━━━━━━━━━━━━━━━━━━━━━━━━━━\u001B[0m \u001B[32m0.0/1.3 MB\u001B[0m \u001B[31m?\u001B[0m eta \u001B[36m-:--:--\u001B[0m\r\u001B[2K     \u001B[91m━━━━━\u001B[0m\u001B[90m╺\u001B[0m\u001B[90m━━━━━━━━━━━━━━━━━━━━━━━━━━━━━━━━━━\u001B[0m \u001B[32m0.2/1.3 MB\u001B[0m \u001B[31m5.4 MB/s\u001B[0m eta \u001B[36m0:00:01\u001B[0m\r\u001B[2K     \u001B[91m━━━━━━━━━━━━━━━━━━━\u001B[0m\u001B[91m╸\u001B[0m\u001B[90m━━━━━━━━━━━━━━━━━━━━\u001B[0m \u001B[32m0.6/1.3 MB\u001B[0m \u001B[31m9.7 MB/s\u001B[0m eta \u001B[36m0:00:01\u001B[0m\r\u001B[2K     \u001B[91m━━━━━━━━━━━━━━━━━━━━━━━━━━━━━━━━━━━━━━━\u001B[0m\u001B[91m╸\u001B[0m \u001B[32m1.3/1.3 MB\u001B[0m \u001B[31m12.8 MB/s\u001B[0m eta \u001B[36m0:00:01\u001B[0m\r\u001B[2K     \u001B[90m━━━━━━━━━━━━━━━━━━━━━━━━━━━━━━━━━━━━━━━━\u001B[0m \u001B[32m1.3/1.3 MB\u001B[0m \u001B[31m11.5 MB/s\u001B[0m eta \u001B[36m0:00:00\u001B[0m\n",
      "\u001B[?25hInstalling collected packages: sentencepiece\n",
      "Successfully installed sentencepiece-0.1.99\n"
     ]
    }
   ],
   "source": [
    "!pip install sentencepiece"
   ]
  },
  {
   "cell_type": "code",
   "execution_count": 4,
   "metadata": {
    "colab": {
     "base_uri": "https://localhost:8080/"
    },
    "id": "f6VZyShZQ8YE",
    "outputId": "511e72d5-abaa-41fd-bcdf-f531628a4a5f"
   },
   "outputs": [
    {
     "output_type": "stream",
     "name": "stdout",
     "text": [
      "Collecting accelerate\n",
      "  Downloading accelerate-0.23.0-py3-none-any.whl (258 kB)\n",
      "\u001B[?25l     \u001B[90m━━━━━━━━━━━━━━━━━━━━━━━━━━━━━━━━━━━━━━━━\u001B[0m \u001B[32m0.0/258.1 kB\u001B[0m \u001B[31m?\u001B[0m eta \u001B[36m-:--:--\u001B[0m\r\u001B[2K     \u001B[91m━━━━━━━━━━━━━━━━━━━━━━━━━━━━━\u001B[0m\u001B[90m╺\u001B[0m\u001B[90m━━━━━━━━━\u001B[0m \u001B[32m194.6/258.1 kB\u001B[0m \u001B[31m5.9 MB/s\u001B[0m eta \u001B[36m0:00:01\u001B[0m\r\u001B[2K     \u001B[90m━━━━━━━━━━━━━━━━━━━━━━━━━━━━━━━━━━━━━━━\u001B[0m \u001B[32m258.1/258.1 kB\u001B[0m \u001B[31m5.6 MB/s\u001B[0m eta \u001B[36m0:00:00\u001B[0m\n",
      "\u001B[?25hRequirement already satisfied: numpy>=1.17 in /usr/local/lib/python3.10/dist-packages (from accelerate) (1.23.5)\n",
      "Requirement already satisfied: packaging>=20.0 in /usr/local/lib/python3.10/dist-packages (from accelerate) (23.1)\n",
      "Requirement already satisfied: psutil in /usr/local/lib/python3.10/dist-packages (from accelerate) (5.9.5)\n",
      "Requirement already satisfied: pyyaml in /usr/local/lib/python3.10/dist-packages (from accelerate) (6.0.1)\n",
      "Requirement already satisfied: torch>=1.10.0 in /usr/local/lib/python3.10/dist-packages (from accelerate) (2.0.1+cu118)\n",
      "Requirement already satisfied: huggingface-hub in /usr/local/lib/python3.10/dist-packages (from accelerate) (0.17.3)\n",
      "Requirement already satisfied: filelock in /usr/local/lib/python3.10/dist-packages (from torch>=1.10.0->accelerate) (3.12.2)\n",
      "Requirement already satisfied: typing-extensions in /usr/local/lib/python3.10/dist-packages (from torch>=1.10.0->accelerate) (4.5.0)\n",
      "Requirement already satisfied: sympy in /usr/local/lib/python3.10/dist-packages (from torch>=1.10.0->accelerate) (1.12)\n",
      "Requirement already satisfied: networkx in /usr/local/lib/python3.10/dist-packages (from torch>=1.10.0->accelerate) (3.1)\n",
      "Requirement already satisfied: jinja2 in /usr/local/lib/python3.10/dist-packages (from torch>=1.10.0->accelerate) (3.1.2)\n",
      "Requirement already satisfied: triton==2.0.0 in /usr/local/lib/python3.10/dist-packages (from torch>=1.10.0->accelerate) (2.0.0)\n",
      "Requirement already satisfied: cmake in /usr/local/lib/python3.10/dist-packages (from triton==2.0.0->torch>=1.10.0->accelerate) (3.27.4.1)\n",
      "Requirement already satisfied: lit in /usr/local/lib/python3.10/dist-packages (from triton==2.0.0->torch>=1.10.0->accelerate) (16.0.6)\n",
      "Requirement already satisfied: fsspec in /usr/local/lib/python3.10/dist-packages (from huggingface-hub->accelerate) (2023.6.0)\n",
      "Requirement already satisfied: requests in /usr/local/lib/python3.10/dist-packages (from huggingface-hub->accelerate) (2.31.0)\n",
      "Requirement already satisfied: tqdm>=4.42.1 in /usr/local/lib/python3.10/dist-packages (from huggingface-hub->accelerate) (4.66.1)\n",
      "Requirement already satisfied: MarkupSafe>=2.0 in /usr/local/lib/python3.10/dist-packages (from jinja2->torch>=1.10.0->accelerate) (2.1.3)\n",
      "Requirement already satisfied: charset-normalizer<4,>=2 in /usr/local/lib/python3.10/dist-packages (from requests->huggingface-hub->accelerate) (3.2.0)\n",
      "Requirement already satisfied: idna<4,>=2.5 in /usr/local/lib/python3.10/dist-packages (from requests->huggingface-hub->accelerate) (3.4)\n",
      "Requirement already satisfied: urllib3<3,>=1.21.1 in /usr/local/lib/python3.10/dist-packages (from requests->huggingface-hub->accelerate) (2.0.4)\n",
      "Requirement already satisfied: certifi>=2017.4.17 in /usr/local/lib/python3.10/dist-packages (from requests->huggingface-hub->accelerate) (2023.7.22)\n",
      "Requirement already satisfied: mpmath>=0.19 in /usr/local/lib/python3.10/dist-packages (from sympy->torch>=1.10.0->accelerate) (1.3.0)\n",
      "Installing collected packages: accelerate\n",
      "Successfully installed accelerate-0.23.0\n"
     ]
    }
   ],
   "source": [
    "!pip install accelerate"
   ]
  },
  {
   "cell_type": "code",
   "source": [
    "import pandas as pd\n",
    "from transformers import T5Tokenizer, T5ForConditionalGeneration\n",
    "import torch\n",
    "\n",
    "# Load data into pandas DataFrame\n",
    "data_df = pd.read_excel(\"StudentEssays.xlsx\")\n",
    "\n",
    "# Initialize T5 tokenizer and model\n",
    "tokenizer = T5Tokenizer.from_pretrained(\"google/flan-t5-base\")\n",
    "model = T5ForConditionalGeneration.from_pretrained(\"google/flan-t5-base\")\n",
    "\n",
    "# Move the model to the CUDA device if available\n",
    "if torch.cuda.is_available():\n",
    "    model.to(\"cuda\")\n",
    "\n",
    "# Define a list of concepts to predict\n",
    "concepts_to_predict = [\"potential energy\", \"kinetic energy\", \"Law of Conservation of Energy\"]\n",
    "\n",
    "# Define possible outcome labels\n",
    "outcome_labels = [\"Acceptable\", \"Unacceptable\", \"Insufficient\"]\n",
    "\n",
    "# Create a list to store predictions as dictionaries\n",
    "predictions_list = []\n",
    "\n",
    "# Iterate through each row of text data\n",
    "for index, row in data_df.iterrows():\n",
    "    text = row['Essay']  # Assuming the text content is in column 'Essay'\n",
    "\n",
    "    # Initialize predictions dictionary for this row\n",
    "    predictions = {}\n",
    "\n",
    "    # Iterate through each concept to predict\n",
    "    for concept in concepts_to_predict:\n",
    "        # Define a template for classification\n",
    "        template = f\"According to the following essay, is the student's definition of {concept} Acceptable, Unacceptable, or Insufficient?\\n{text}\"\n",
    "\n",
    "        # Prepare the input by replacing placeholders\n",
    "        formatted_input = template\n",
    "        # Tokenize and classify the text\n",
    "        input_ids = tokenizer(formatted_input, return_tensors=\"pt\", padding=True, truncation=True).input_ids.to(\"cuda\" if torch.cuda.is_available() else \"cpu\")\n",
    "        outputs = model.generate(input_ids, max_length=128)\n",
    "        decoded_output = tokenizer.decode(outputs[0], skip_special_tokens=True)  # Remove special tokens\n",
    "\n",
    "        # Store the prediction in the dictionary\n",
    "        predictions[concept] = next((label for label in outcome_labels if label in decoded_output), \"Unknown\")\n",
    "\n",
    "    # Append the predictions to the list\n",
    "    predictions_list.append(predictions)\n",
    "\n",
    "# Convert the list of dictionaries to a DataFrame\n",
    "predictions_df = pd.DataFrame(predictions_list)\n",
    "\n",
    "# # Print the predictions\n",
    "# print(predictions_df)\n",
    "# Set options to display all rows and columns\n",
    "pd.set_option('display.max_rows', None)\n",
    "pd.set_option('display.max_columns', None)\n",
    "\n",
    "# Print the predictions\n",
    "print(predictions_df)"
   ],
   "metadata": {
    "colab": {
     "base_uri": "https://localhost:8080/"
    },
    "id": "hNXQ4U_w1dry",
    "outputId": "36589dcc-a764-4e57-93a6-fbc09674503e"
   },
   "execution_count": 10,
   "outputs": [
    {
     "output_type": "stream",
     "name": "stdout",
     "text": [
      "   potential energy kinetic energy Law of Conservation of Energy\n",
      "0        Acceptable   Insufficient                    Acceptable\n",
      "1      Insufficient   Insufficient                    Acceptable\n",
      "2      Insufficient   Insufficient                    Acceptable\n",
      "3      Insufficient   Insufficient                    Acceptable\n",
      "4      Insufficient   Insufficient                    Acceptable\n",
      "5      Insufficient   Insufficient                    Acceptable\n",
      "6        Acceptable     Acceptable                    Acceptable\n",
      "7      Unacceptable   Unacceptable                    Acceptable\n",
      "8      Insufficient   Insufficient                  Insufficient\n",
      "9        Acceptable     Acceptable                    Acceptable\n",
      "10     Insufficient   Insufficient                    Acceptable\n",
      "11     Insufficient   Insufficient                    Acceptable\n",
      "12     Insufficient   Insufficient                    Acceptable\n",
      "13       Acceptable     Acceptable                    Acceptable\n",
      "14     Insufficient     Acceptable                    Acceptable\n",
      "15       Acceptable     Acceptable                    Acceptable\n",
      "16     Insufficient   Insufficient                    Acceptable\n",
      "17       Acceptable   Insufficient                    Acceptable\n",
      "18       Acceptable     Acceptable                    Acceptable\n",
      "19       Acceptable     Acceptable                    Acceptable\n",
      "20       Acceptable   Insufficient                    Acceptable\n",
      "21     Insufficient   Insufficient                    Acceptable\n",
      "22       Acceptable   Insufficient                    Acceptable\n",
      "23       Acceptable   Insufficient                    Acceptable\n",
      "24     Insufficient   Insufficient                    Acceptable\n",
      "25     Insufficient   Insufficient                    Acceptable\n",
      "26     Insufficient   Insufficient                    Acceptable\n",
      "27       Acceptable     Acceptable                    Acceptable\n",
      "28     Insufficient   Insufficient                    Acceptable\n",
      "29       Acceptable     Acceptable                    Acceptable\n",
      "30     Insufficient   Insufficient                    Acceptable\n",
      "31       Acceptable     Acceptable                    Acceptable\n",
      "32     Insufficient   Insufficient                    Acceptable\n",
      "33       Acceptable     Acceptable                    Acceptable\n",
      "34     Insufficient   Insufficient                    Acceptable\n",
      "35     Insufficient   Insufficient                    Acceptable\n",
      "36     Insufficient   Insufficient                    Acceptable\n",
      "37       Acceptable     Acceptable                    Acceptable\n",
      "38     Insufficient   Insufficient                    Acceptable\n",
      "39       Acceptable     Acceptable                    Acceptable\n",
      "40     Insufficient   Insufficient                    Acceptable\n",
      "41       Acceptable   Insufficient                    Acceptable\n",
      "42       Acceptable     Acceptable                    Acceptable\n",
      "43     Insufficient   Insufficient                    Acceptable\n",
      "44     Insufficient   Insufficient                  Insufficient\n",
      "45     Insufficient   Insufficient                    Acceptable\n",
      "46     Insufficient   Insufficient                    Acceptable\n",
      "47     Insufficient   Insufficient                  Insufficient\n",
      "48     Insufficient   Insufficient                    Acceptable\n",
      "49     Insufficient     Acceptable                    Acceptable\n",
      "50     Insufficient   Insufficient                  Insufficient\n",
      "51     Insufficient     Acceptable                    Acceptable\n",
      "52     Insufficient   Insufficient                    Acceptable\n",
      "53       Acceptable     Acceptable                    Acceptable\n",
      "54       Acceptable     Acceptable                    Acceptable\n",
      "55     Insufficient   Insufficient                    Acceptable\n",
      "56       Acceptable     Acceptable                    Acceptable\n",
      "57       Acceptable     Acceptable                    Acceptable\n",
      "58     Insufficient   Insufficient                  Insufficient\n",
      "59       Acceptable     Acceptable                    Acceptable\n",
      "60       Acceptable     Acceptable                    Acceptable\n",
      "61     Insufficient     Acceptable                    Acceptable\n",
      "62     Insufficient   Insufficient                    Acceptable\n",
      "63       Acceptable     Acceptable                    Acceptable\n",
      "64       Acceptable     Acceptable                    Acceptable\n",
      "65     Insufficient   Insufficient                  Insufficient\n",
      "66     Insufficient   Insufficient                    Acceptable\n",
      "67     Insufficient   Insufficient                    Acceptable\n",
      "68       Acceptable     Acceptable                    Acceptable\n",
      "69     Insufficient   Insufficient                  Insufficient\n",
      "70     Insufficient   Insufficient                    Acceptable\n",
      "71     Insufficient   Insufficient                  Insufficient\n",
      "72     Insufficient   Insufficient                    Acceptable\n",
      "73     Insufficient   Insufficient                    Acceptable\n",
      "74     Insufficient   Insufficient                    Acceptable\n",
      "75     Insufficient   Insufficient                    Acceptable\n"
     ]
    }
   ]
  },
  {
   "cell_type": "code",
   "source": [
    "# Update the original DataFrame with the predictions\n",
    "data_df[\"PE\"] = predictions_df[\"potential energy\"]\n",
    "data_df[\"KE\"] = predictions_df[\"kinetic energy\"]\n",
    "data_df[\"LCE\"] = predictions_df[\"Law of Conservation of Energy\"]\n",
    "\n",
    "# Save the modified DataFrame to the same Excel file, overwriting the original file\n",
    "data_df.to_excel(\"StudentEssays2.xlsx\", index=False)"
   ],
   "metadata": {
    "id": "ch7HBAWb9sh6",
    "colab": {
     "base_uri": "https://localhost:8080/",
     "height": 253
    },
    "outputId": "faf181b9-43c0-4285-eccd-722c100abe67"
   },
   "execution_count": 5,
   "outputs": [
    {
     "output_type": "error",
     "ename": "NameError",
     "evalue": "ignored",
     "traceback": [
      "\u001B[0;31m---------------------------------------------------------------------------\u001B[0m",
      "\u001B[0;31mNameError\u001B[0m                                 Traceback (most recent call last)",
      "\u001B[0;32m<ipython-input-5-f8bf9abedd44>\u001B[0m in \u001B[0;36m<cell line: 2>\u001B[0;34m()\u001B[0m\n\u001B[1;32m      1\u001B[0m \u001B[0;31m# Update the original DataFrame with the predictions\u001B[0m\u001B[0;34m\u001B[0m\u001B[0;34m\u001B[0m\u001B[0m\n\u001B[0;32m----> 2\u001B[0;31m \u001B[0mdata_df\u001B[0m\u001B[0;34m[\u001B[0m\u001B[0;34m\"PE\"\u001B[0m\u001B[0;34m]\u001B[0m \u001B[0;34m=\u001B[0m \u001B[0mpredictions_df\u001B[0m\u001B[0;34m[\u001B[0m\u001B[0;34m\"potential energy\"\u001B[0m\u001B[0;34m]\u001B[0m\u001B[0;34m\u001B[0m\u001B[0;34m\u001B[0m\u001B[0m\n\u001B[0m\u001B[1;32m      3\u001B[0m \u001B[0mdata_df\u001B[0m\u001B[0;34m[\u001B[0m\u001B[0;34m\"KE\"\u001B[0m\u001B[0;34m]\u001B[0m \u001B[0;34m=\u001B[0m \u001B[0mpredictions_df\u001B[0m\u001B[0;34m[\u001B[0m\u001B[0;34m\"kinetic energy\"\u001B[0m\u001B[0;34m]\u001B[0m\u001B[0;34m\u001B[0m\u001B[0;34m\u001B[0m\u001B[0m\n\u001B[1;32m      4\u001B[0m \u001B[0mdata_df\u001B[0m\u001B[0;34m[\u001B[0m\u001B[0;34m\"LCE\"\u001B[0m\u001B[0;34m]\u001B[0m \u001B[0;34m=\u001B[0m \u001B[0mpredictions_df\u001B[0m\u001B[0;34m[\u001B[0m\u001B[0;34m\"Law of Conservation of Energy\"\u001B[0m\u001B[0;34m]\u001B[0m\u001B[0;34m\u001B[0m\u001B[0;34m\u001B[0m\u001B[0m\n\u001B[1;32m      5\u001B[0m \u001B[0;34m\u001B[0m\u001B[0m\n",
      "\u001B[0;31mNameError\u001B[0m: name 'predictions_df' is not defined"
     ]
    }
   ]
  }
 ],
 "metadata": {
  "accelerator": "GPU",
  "colab": {
   "machine_shape": "hm",
   "provenance": [],
   "gpuType": "T4"
  },
  "kernelspec": {
   "display_name": "Python 3",
   "name": "python3"
  },
  "language_info": {
   "name": "python"
  }
 },
 "nbformat": 4,
 "nbformat_minor": 0
}
