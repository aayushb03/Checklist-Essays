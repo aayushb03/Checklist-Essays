{
 "cells": [
  {
   "cell_type": "code",
   "execution_count": 1,
   "metadata": {
    "colab": {
     "base_uri": "https://localhost:8080/"
    },
    "id": "ahRGedwRMCxT",
    "outputId": "5c6d7163-a2f8-4904-c3e7-1953ffb2211a",
    "ExecuteTime": {
     "end_time": "2023-10-15T23:51:29.076122Z",
     "start_time": "2023-10-15T23:51:26.752069Z"
    }
   },
   "outputs": [
    {
     "name": "stdout",
     "output_type": "stream",
     "text": [
      "Requirement already satisfied: transformers in /Users/aayushbharadwaj/anaconda3/lib/python3.11/site-packages (4.32.1)\r\n",
      "Requirement already satisfied: filelock in /Users/aayushbharadwaj/anaconda3/lib/python3.11/site-packages (from transformers) (3.9.0)\r\n",
      "Requirement already satisfied: huggingface-hub<1.0,>=0.15.1 in /Users/aayushbharadwaj/anaconda3/lib/python3.11/site-packages (from transformers) (0.15.1)\r\n",
      "Requirement already satisfied: numpy>=1.17 in /Users/aayushbharadwaj/anaconda3/lib/python3.11/site-packages (from transformers) (1.24.3)\r\n",
      "Requirement already satisfied: packaging>=20.0 in /Users/aayushbharadwaj/anaconda3/lib/python3.11/site-packages (from transformers) (23.1)\r\n",
      "Requirement already satisfied: pyyaml>=5.1 in /Users/aayushbharadwaj/anaconda3/lib/python3.11/site-packages (from transformers) (6.0)\r\n",
      "Requirement already satisfied: regex!=2019.12.17 in /Users/aayushbharadwaj/anaconda3/lib/python3.11/site-packages (from transformers) (2022.7.9)\r\n",
      "Requirement already satisfied: requests in /Users/aayushbharadwaj/anaconda3/lib/python3.11/site-packages (from transformers) (2.31.0)\r\n",
      "Requirement already satisfied: tokenizers!=0.11.3,<0.14,>=0.11.1 in /Users/aayushbharadwaj/anaconda3/lib/python3.11/site-packages (from transformers) (0.13.2)\r\n",
      "Requirement already satisfied: safetensors>=0.3.1 in /Users/aayushbharadwaj/anaconda3/lib/python3.11/site-packages (from transformers) (0.3.2)\r\n",
      "Requirement already satisfied: tqdm>=4.27 in /Users/aayushbharadwaj/anaconda3/lib/python3.11/site-packages (from transformers) (4.65.0)\r\n",
      "Requirement already satisfied: fsspec in /Users/aayushbharadwaj/anaconda3/lib/python3.11/site-packages (from huggingface-hub<1.0,>=0.15.1->transformers) (2023.4.0)\r\n",
      "Requirement already satisfied: typing-extensions>=3.7.4.3 in /Users/aayushbharadwaj/anaconda3/lib/python3.11/site-packages (from huggingface-hub<1.0,>=0.15.1->transformers) (4.7.1)\r\n",
      "Requirement already satisfied: charset-normalizer<4,>=2 in /Users/aayushbharadwaj/anaconda3/lib/python3.11/site-packages (from requests->transformers) (2.0.4)\r\n",
      "Requirement already satisfied: idna<4,>=2.5 in /Users/aayushbharadwaj/anaconda3/lib/python3.11/site-packages (from requests->transformers) (3.4)\r\n",
      "Requirement already satisfied: urllib3<3,>=1.21.1 in /Users/aayushbharadwaj/anaconda3/lib/python3.11/site-packages (from requests->transformers) (1.26.16)\r\n",
      "Requirement already satisfied: certifi>=2017.4.17 in /Users/aayushbharadwaj/anaconda3/lib/python3.11/site-packages (from requests->transformers) (2023.7.22)\r\n"
     ]
    }
   ],
   "source": [
    "!pip install transformers"
   ]
  },
  {
   "cell_type": "code",
   "execution_count": 2,
   "metadata": {
    "colab": {
     "base_uri": "https://localhost:8080/"
    },
    "id": "y-Kq9KJfMjZA",
    "outputId": "b28a3953-7a84-4a69-cf6f-35baad6cbae4",
    "ExecuteTime": {
     "end_time": "2023-10-15T23:51:31.122785Z",
     "start_time": "2023-10-15T23:51:29.077765Z"
    }
   },
   "outputs": [
    {
     "name": "stdout",
     "output_type": "stream",
     "text": [
      "Requirement already satisfied: sentencepiece in /Users/aayushbharadwaj/anaconda3/lib/python3.11/site-packages (0.1.99)\r\n"
     ]
    }
   ],
   "source": [
    "!pip install sentencepiece"
   ]
  },
  {
   "cell_type": "code",
   "execution_count": 3,
   "metadata": {
    "colab": {
     "base_uri": "https://localhost:8080/"
    },
    "id": "f6VZyShZQ8YE",
    "outputId": "511e72d5-abaa-41fd-bcdf-f531628a4a5f",
    "ExecuteTime": {
     "end_time": "2023-10-15T23:51:33.236084Z",
     "start_time": "2023-10-15T23:51:31.123960Z"
    }
   },
   "outputs": [
    {
     "name": "stdout",
     "output_type": "stream",
     "text": [
      "Requirement already satisfied: accelerate in /Users/aayushbharadwaj/anaconda3/lib/python3.11/site-packages (0.23.0)\r\n",
      "Requirement already satisfied: numpy>=1.17 in /Users/aayushbharadwaj/anaconda3/lib/python3.11/site-packages (from accelerate) (1.24.3)\r\n",
      "Requirement already satisfied: packaging>=20.0 in /Users/aayushbharadwaj/anaconda3/lib/python3.11/site-packages (from accelerate) (23.1)\r\n",
      "Requirement already satisfied: psutil in /Users/aayushbharadwaj/anaconda3/lib/python3.11/site-packages (from accelerate) (5.9.0)\r\n",
      "Requirement already satisfied: pyyaml in /Users/aayushbharadwaj/anaconda3/lib/python3.11/site-packages (from accelerate) (6.0)\r\n",
      "Requirement already satisfied: torch>=1.10.0 in /Users/aayushbharadwaj/anaconda3/lib/python3.11/site-packages (from accelerate) (2.1.0)\r\n",
      "Requirement already satisfied: huggingface-hub in /Users/aayushbharadwaj/anaconda3/lib/python3.11/site-packages (from accelerate) (0.15.1)\r\n",
      "Requirement already satisfied: filelock in /Users/aayushbharadwaj/anaconda3/lib/python3.11/site-packages (from torch>=1.10.0->accelerate) (3.9.0)\r\n",
      "Requirement already satisfied: typing-extensions in /Users/aayushbharadwaj/anaconda3/lib/python3.11/site-packages (from torch>=1.10.0->accelerate) (4.7.1)\r\n",
      "Requirement already satisfied: sympy in /Users/aayushbharadwaj/anaconda3/lib/python3.11/site-packages (from torch>=1.10.0->accelerate) (1.11.1)\r\n",
      "Requirement already satisfied: networkx in /Users/aayushbharadwaj/anaconda3/lib/python3.11/site-packages (from torch>=1.10.0->accelerate) (3.1)\r\n",
      "Requirement already satisfied: jinja2 in /Users/aayushbharadwaj/anaconda3/lib/python3.11/site-packages (from torch>=1.10.0->accelerate) (3.1.2)\r\n",
      "Requirement already satisfied: fsspec in /Users/aayushbharadwaj/anaconda3/lib/python3.11/site-packages (from torch>=1.10.0->accelerate) (2023.4.0)\r\n",
      "Requirement already satisfied: requests in /Users/aayushbharadwaj/anaconda3/lib/python3.11/site-packages (from huggingface-hub->accelerate) (2.31.0)\r\n",
      "Requirement already satisfied: tqdm>=4.42.1 in /Users/aayushbharadwaj/anaconda3/lib/python3.11/site-packages (from huggingface-hub->accelerate) (4.65.0)\r\n",
      "Requirement already satisfied: MarkupSafe>=2.0 in /Users/aayushbharadwaj/anaconda3/lib/python3.11/site-packages (from jinja2->torch>=1.10.0->accelerate) (2.1.1)\r\n",
      "Requirement already satisfied: charset-normalizer<4,>=2 in /Users/aayushbharadwaj/anaconda3/lib/python3.11/site-packages (from requests->huggingface-hub->accelerate) (2.0.4)\r\n",
      "Requirement already satisfied: idna<4,>=2.5 in /Users/aayushbharadwaj/anaconda3/lib/python3.11/site-packages (from requests->huggingface-hub->accelerate) (3.4)\r\n",
      "Requirement already satisfied: urllib3<3,>=1.21.1 in /Users/aayushbharadwaj/anaconda3/lib/python3.11/site-packages (from requests->huggingface-hub->accelerate) (1.26.16)\r\n",
      "Requirement already satisfied: certifi>=2017.4.17 in /Users/aayushbharadwaj/anaconda3/lib/python3.11/site-packages (from requests->huggingface-hub->accelerate) (2023.7.22)\r\n",
      "Requirement already satisfied: mpmath>=0.19 in /Users/aayushbharadwaj/anaconda3/lib/python3.11/site-packages (from sympy->torch>=1.10.0->accelerate) (1.3.0)\r\n"
     ]
    }
   ],
   "source": [
    "!pip install accelerate"
   ]
  },
  {
   "cell_type": "code",
   "source": [
    "import pandas as pd\n",
    "from transformers import T5Tokenizer, T5ForConditionalGeneration\n",
    "import torch\n",
    "\n",
    "# Load data into pandas DataFrame\n",
    "data_df = pd.read_excel(\"StudentEssays.xlsx\")\n",
    "\n",
    "# Initialize T5 tokenizer and model\n",
    "tokenizer = T5Tokenizer.from_pretrained(\"google/flan-t5-base\")\n",
    "model = T5ForConditionalGeneration.from_pretrained(\"google/flan-t5-base\")\n",
    "\n",
    "# Move the model to the CUDA device if available\n",
    "if torch.cuda.is_available():\n",
    "    model.to(\"cuda\")\n",
    "\n",
    "# Define a list of concepts to predict\n",
    "concepts_to_predict = [\"potential energy\", \"kinetic energy\", \"Law of Conservation of Energy\"]\n",
    "\n",
    "# Define possible outcome labels\n",
    "outcome_labels = [\"Acceptable\", \"Unacceptable\", \"Insufficient\"]\n",
    "\n",
    "# Create a list to store predictions as dictionaries\n",
    "predictions_list = []\n",
    "\n",
    "# Iterate through each row of text data\n",
    "for index, row in data_df.iterrows():\n",
    "    text = row['Essay']  # Assuming the text content is in column 'Essay'\n",
    "\n",
    "    # Initialize predictions dictionary for this row\n",
    "    predictions = {}\n",
    "\n",
    "    # Iterate through each concept to predict\n",
    "    for concept in concepts_to_predict:\n",
    "        # Define a template for classification\n",
    "        template = f\"According to the following essay, is the student's definition of {concept} Acceptable, Unacceptable, or Insufficient?\\n{text}\"\n",
    "\n",
    "        # Prepare the input by replacing placeholders\n",
    "        formatted_input = template\n",
    "        # Tokenize and classify the text\n",
    "        input_ids = tokenizer(formatted_input, return_tensors=\"pt\", padding=True, truncation=True).input_ids.to(\"cuda\" if torch.cuda.is_available() else \"cpu\")\n",
    "        outputs = model.generate(input_ids, max_length=128)\n",
    "        decoded_output = tokenizer.decode(outputs[0], skip_special_tokens=True)  # Remove special tokens\n",
    "\n",
    "        # Store the prediction in the dictionary\n",
    "        predictions[concept] = next((label for label in outcome_labels if label in decoded_output), \"Unknown\")\n",
    "\n",
    "    # Append the predictions to the list\n",
    "    predictions_list.append(predictions)\n",
    "\n",
    "# Convert the list of dictionaries to a DataFrame\n",
    "predictions_df = pd.DataFrame(predictions_list)\n",
    "\n",
    "# # Print the predictions\n",
    "# print(predictions_df)\n",
    "# Set options to display all rows and columns\n",
    "pd.set_option('display.max_rows', None)\n",
    "pd.set_option('display.max_columns', None)\n",
    "\n",
    "# Print the predictions\n",
    "print(predictions_df)"
   ],
   "metadata": {
    "colab": {
     "base_uri": "https://localhost:8080/"
    },
    "id": "hNXQ4U_w1dry",
    "outputId": "36589dcc-a764-4e57-93a6-fbc09674503e",
    "ExecuteTime": {
     "end_time": "2023-10-15T23:51:36.932315Z",
     "start_time": "2023-10-15T23:51:33.236376Z"
    }
   },
   "execution_count": 4,
   "outputs": [
    {
     "data": {
      "text/plain": "Downloading spiece.model:   0%|          | 0.00/792k [00:00<?, ?B/s]",
      "application/vnd.jupyter.widget-view+json": {
       "version_major": 2,
       "version_minor": 0,
       "model_id": "342b27b93aa74848972ddb16e03a90f8"
      }
     },
     "metadata": {},
     "output_type": "display_data"
    },
    {
     "data": {
      "text/plain": "Downloading (…)cial_tokens_map.json:   0%|          | 0.00/2.20k [00:00<?, ?B/s]",
      "application/vnd.jupyter.widget-view+json": {
       "version_major": 2,
       "version_minor": 0,
       "model_id": "70d68403e0284694bad3502b052f69f5"
      }
     },
     "metadata": {},
     "output_type": "display_data"
    },
    {
     "data": {
      "text/plain": "Downloading (…)okenizer_config.json:   0%|          | 0.00/2.54k [00:00<?, ?B/s]",
      "application/vnd.jupyter.widget-view+json": {
       "version_major": 2,
       "version_minor": 0,
       "model_id": "21291513ec79498e9dfd82a0f4e63aac"
      }
     },
     "metadata": {},
     "output_type": "display_data"
    },
    {
     "name": "stderr",
     "output_type": "stream",
     "text": [
      "You are using the default legacy behaviour of the <class 'transformers.models.t5.tokenization_t5.T5Tokenizer'>. If you see this, DO NOT PANIC! This is expected, and simply means that the `legacy` (previous) behavior will be used so nothing changes for you. If you want to use the new behaviour, set `legacy=True`. This should only be set if you understand what it means, and thouroughly read the reason why this was added as explained in https://github.com/huggingface/transformers/pull/24565\n"
     ]
    },
    {
     "ename": "UnboundLocalError",
     "evalue": "cannot access local variable 'sentencepiece_model_pb2' where it is not associated with a value",
     "output_type": "error",
     "traceback": [
      "\u001B[0;31m---------------------------------------------------------------------------\u001B[0m",
      "\u001B[0;31mUnboundLocalError\u001B[0m                         Traceback (most recent call last)",
      "Cell \u001B[0;32mIn[4], line 9\u001B[0m\n\u001B[1;32m      6\u001B[0m data_df \u001B[38;5;241m=\u001B[39m pd\u001B[38;5;241m.\u001B[39mread_excel(\u001B[38;5;124m\"\u001B[39m\u001B[38;5;124mStudentEssays.xlsx\u001B[39m\u001B[38;5;124m\"\u001B[39m)\n\u001B[1;32m      8\u001B[0m \u001B[38;5;66;03m# Initialize T5 tokenizer and model\u001B[39;00m\n\u001B[0;32m----> 9\u001B[0m tokenizer \u001B[38;5;241m=\u001B[39m T5Tokenizer\u001B[38;5;241m.\u001B[39mfrom_pretrained(\u001B[38;5;124m\"\u001B[39m\u001B[38;5;124mgoogle/flan-t5-base\u001B[39m\u001B[38;5;124m\"\u001B[39m)\n\u001B[1;32m     10\u001B[0m model \u001B[38;5;241m=\u001B[39m T5ForConditionalGeneration\u001B[38;5;241m.\u001B[39mfrom_pretrained(\u001B[38;5;124m\"\u001B[39m\u001B[38;5;124mgoogle/flan-t5-base\u001B[39m\u001B[38;5;124m\"\u001B[39m)\n\u001B[1;32m     12\u001B[0m \u001B[38;5;66;03m# Move the model to the CUDA device if available\u001B[39;00m\n",
      "File \u001B[0;32m~/anaconda3/lib/python3.11/site-packages/transformers/tokenization_utils_base.py:1854\u001B[0m, in \u001B[0;36mPreTrainedTokenizerBase.from_pretrained\u001B[0;34m(cls, pretrained_model_name_or_path, cache_dir, force_download, local_files_only, token, revision, *init_inputs, **kwargs)\u001B[0m\n\u001B[1;32m   1851\u001B[0m     \u001B[38;5;28;01melse\u001B[39;00m:\n\u001B[1;32m   1852\u001B[0m         logger\u001B[38;5;241m.\u001B[39minfo(\u001B[38;5;124mf\u001B[39m\u001B[38;5;124m\"\u001B[39m\u001B[38;5;124mloading file \u001B[39m\u001B[38;5;132;01m{\u001B[39;00mfile_path\u001B[38;5;132;01m}\u001B[39;00m\u001B[38;5;124m from cache at \u001B[39m\u001B[38;5;132;01m{\u001B[39;00mresolved_vocab_files[file_id]\u001B[38;5;132;01m}\u001B[39;00m\u001B[38;5;124m\"\u001B[39m)\n\u001B[0;32m-> 1854\u001B[0m \u001B[38;5;28;01mreturn\u001B[39;00m \u001B[38;5;28mcls\u001B[39m\u001B[38;5;241m.\u001B[39m_from_pretrained(\n\u001B[1;32m   1855\u001B[0m     resolved_vocab_files,\n\u001B[1;32m   1856\u001B[0m     pretrained_model_name_or_path,\n\u001B[1;32m   1857\u001B[0m     init_configuration,\n\u001B[1;32m   1858\u001B[0m     \u001B[38;5;241m*\u001B[39minit_inputs,\n\u001B[1;32m   1859\u001B[0m     token\u001B[38;5;241m=\u001B[39mtoken,\n\u001B[1;32m   1860\u001B[0m     cache_dir\u001B[38;5;241m=\u001B[39mcache_dir,\n\u001B[1;32m   1861\u001B[0m     local_files_only\u001B[38;5;241m=\u001B[39mlocal_files_only,\n\u001B[1;32m   1862\u001B[0m     _commit_hash\u001B[38;5;241m=\u001B[39mcommit_hash,\n\u001B[1;32m   1863\u001B[0m     _is_local\u001B[38;5;241m=\u001B[39mis_local,\n\u001B[1;32m   1864\u001B[0m     \u001B[38;5;241m*\u001B[39m\u001B[38;5;241m*\u001B[39mkwargs,\n\u001B[1;32m   1865\u001B[0m )\n",
      "File \u001B[0;32m~/anaconda3/lib/python3.11/site-packages/transformers/tokenization_utils_base.py:2017\u001B[0m, in \u001B[0;36mPreTrainedTokenizerBase._from_pretrained\u001B[0;34m(cls, resolved_vocab_files, pretrained_model_name_or_path, init_configuration, token, cache_dir, local_files_only, _commit_hash, _is_local, *init_inputs, **kwargs)\u001B[0m\n\u001B[1;32m   2015\u001B[0m \u001B[38;5;66;03m# Instantiate tokenizer.\u001B[39;00m\n\u001B[1;32m   2016\u001B[0m \u001B[38;5;28;01mtry\u001B[39;00m:\n\u001B[0;32m-> 2017\u001B[0m     tokenizer \u001B[38;5;241m=\u001B[39m \u001B[38;5;28mcls\u001B[39m(\u001B[38;5;241m*\u001B[39minit_inputs, \u001B[38;5;241m*\u001B[39m\u001B[38;5;241m*\u001B[39minit_kwargs)\n\u001B[1;32m   2018\u001B[0m \u001B[38;5;28;01mexcept\u001B[39;00m \u001B[38;5;167;01mOSError\u001B[39;00m:\n\u001B[1;32m   2019\u001B[0m     \u001B[38;5;28;01mraise\u001B[39;00m \u001B[38;5;167;01mOSError\u001B[39;00m(\n\u001B[1;32m   2020\u001B[0m         \u001B[38;5;124m\"\u001B[39m\u001B[38;5;124mUnable to load vocabulary from file. \u001B[39m\u001B[38;5;124m\"\u001B[39m\n\u001B[1;32m   2021\u001B[0m         \u001B[38;5;124m\"\u001B[39m\u001B[38;5;124mPlease check that the provided vocabulary is accessible and not corrupted.\u001B[39m\u001B[38;5;124m\"\u001B[39m\n\u001B[1;32m   2022\u001B[0m     )\n",
      "File \u001B[0;32m~/anaconda3/lib/python3.11/site-packages/transformers/models/t5/tokenization_t5.py:194\u001B[0m, in \u001B[0;36mT5Tokenizer.__init__\u001B[0;34m(self, vocab_file, eos_token, unk_token, pad_token, extra_ids, additional_special_tokens, sp_model_kwargs, legacy, **kwargs)\u001B[0m\n\u001B[1;32m    191\u001B[0m \u001B[38;5;28mself\u001B[39m\u001B[38;5;241m.\u001B[39mvocab_file \u001B[38;5;241m=\u001B[39m vocab_file\n\u001B[1;32m    192\u001B[0m \u001B[38;5;28mself\u001B[39m\u001B[38;5;241m.\u001B[39m_extra_ids \u001B[38;5;241m=\u001B[39m extra_ids\n\u001B[0;32m--> 194\u001B[0m \u001B[38;5;28mself\u001B[39m\u001B[38;5;241m.\u001B[39msp_model \u001B[38;5;241m=\u001B[39m \u001B[38;5;28mself\u001B[39m\u001B[38;5;241m.\u001B[39mget_spm_processor()\n",
      "File \u001B[0;32m~/anaconda3/lib/python3.11/site-packages/transformers/models/t5/tokenization_t5.py:200\u001B[0m, in \u001B[0;36mT5Tokenizer.get_spm_processor\u001B[0;34m(self)\u001B[0m\n\u001B[1;32m    198\u001B[0m \u001B[38;5;28;01mwith\u001B[39;00m \u001B[38;5;28mopen\u001B[39m(\u001B[38;5;28mself\u001B[39m\u001B[38;5;241m.\u001B[39mvocab_file, \u001B[38;5;124m\"\u001B[39m\u001B[38;5;124mrb\u001B[39m\u001B[38;5;124m\"\u001B[39m) \u001B[38;5;28;01mas\u001B[39;00m f:\n\u001B[1;32m    199\u001B[0m     sp_model \u001B[38;5;241m=\u001B[39m f\u001B[38;5;241m.\u001B[39mread()\n\u001B[0;32m--> 200\u001B[0m     model_pb2 \u001B[38;5;241m=\u001B[39m import_protobuf()\n\u001B[1;32m    201\u001B[0m     model \u001B[38;5;241m=\u001B[39m model_pb2\u001B[38;5;241m.\u001B[39mModelProto\u001B[38;5;241m.\u001B[39mFromString(sp_model)\n\u001B[1;32m    202\u001B[0m     \u001B[38;5;28;01mif\u001B[39;00m \u001B[38;5;129;01mnot\u001B[39;00m \u001B[38;5;28mself\u001B[39m\u001B[38;5;241m.\u001B[39mlegacy:\n",
      "File \u001B[0;32m~/anaconda3/lib/python3.11/site-packages/transformers/convert_slow_tokenizer.py:40\u001B[0m, in \u001B[0;36mimport_protobuf\u001B[0;34m()\u001B[0m\n\u001B[1;32m     38\u001B[0m     \u001B[38;5;28;01melse\u001B[39;00m:\n\u001B[1;32m     39\u001B[0m         \u001B[38;5;28;01mfrom\u001B[39;00m \u001B[38;5;21;01mtransformers\u001B[39;00m\u001B[38;5;21;01m.\u001B[39;00m\u001B[38;5;21;01mutils\u001B[39;00m \u001B[38;5;28;01mimport\u001B[39;00m sentencepiece_model_pb2_new \u001B[38;5;28;01mas\u001B[39;00m sentencepiece_model_pb2\n\u001B[0;32m---> 40\u001B[0m \u001B[38;5;28;01mreturn\u001B[39;00m sentencepiece_model_pb2\n",
      "\u001B[0;31mUnboundLocalError\u001B[0m: cannot access local variable 'sentencepiece_model_pb2' where it is not associated with a value"
     ]
    }
   ]
  },
  {
   "cell_type": "code",
   "source": [
    "# Update the original DataFrame with the predictions\n",
    "data_df[\"PE\"] = predictions_df[\"potential energy\"]\n",
    "data_df[\"KE\"] = predictions_df[\"kinetic energy\"]\n",
    "data_df[\"LCE\"] = predictions_df[\"Law of Conservation of Energy\"]\n",
    "\n",
    "# Save the modified DataFrame to the same Excel file, overwriting the original file\n",
    "data_df.to_excel(\"StudentEssays2.xlsx\", index=False)"
   ],
   "metadata": {
    "id": "ch7HBAWb9sh6",
    "colab": {
     "base_uri": "https://localhost:8080/",
     "height": 253
    },
    "outputId": "faf181b9-43c0-4285-eccd-722c100abe67",
    "ExecuteTime": {
     "start_time": "2023-10-15T23:51:36.927690Z"
    }
   },
   "execution_count": null,
   "outputs": []
  }
 ],
 "metadata": {
  "accelerator": "GPU",
  "colab": {
   "machine_shape": "hm",
   "provenance": [],
   "gpuType": "T4"
  },
  "kernelspec": {
   "name": "python3",
   "language": "python",
   "display_name": "Python 3 (ipykernel)"
  },
  "language_info": {
   "name": "python"
  }
 },
 "nbformat": 4,
 "nbformat_minor": 0
}
